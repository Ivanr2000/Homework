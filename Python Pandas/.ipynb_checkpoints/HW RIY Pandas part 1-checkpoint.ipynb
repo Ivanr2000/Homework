{
 "cells": [
  {
   "cell_type": "code",
   "execution_count": 5,
   "metadata": {},
   "outputs": [],
   "source": [
    "import pandas as pd"
   ]
  },
  {
   "cell_type": "markdown",
   "metadata": {},
   "source": [
    "Задание №1"
   ]
  },
  {
   "cell_type": "code",
   "execution_count": 105,
   "metadata": {},
   "outputs": [],
   "source": [
    "movies = pd.read_csv('movies.csv')\n",
    "ratings = pd.read_csv('ratings.csv')"
   ]
  },
  {
   "cell_type": "code",
   "execution_count": 106,
   "metadata": {},
   "outputs": [],
   "source": [
    "value_5 = ratings[ ratings.rating == 5.0 ]\n",
    "movie_ID = value_5['movieId'].value_counts ().idxmax()"
   ]
  },
  {
   "cell_type": "code",
   "execution_count": 107,
   "metadata": {},
   "outputs": [
    {
     "name": "stdout",
     "output_type": "stream",
     "text": [
      "Больше всего оценок 5 имеет фильм: Shawshank Redemption, The (1994)\n"
     ]
    }
   ],
   "source": [
    "print (\"Больше всего оценок 5 имеет фильм:\", *movies['title'].loc [movies['movieId'] == movie_ID])"
   ]
  },
  {
   "cell_type": "markdown",
   "metadata": {},
   "source": [
    "Задание №2"
   ]
  },
  {
   "cell_type": "code",
   "execution_count": 140,
   "metadata": {},
   "outputs": [],
   "source": [
    "power = pd.read_csv('power.csv')"
   ]
  },
  {
   "cell_type": "code",
   "execution_count": 141,
   "metadata": {},
   "outputs": [],
   "source": [
    "power_prib = power[ (power.year >= 2005) & (power.year <= 2010) & ((power.category == 4) | \n",
    "                                                    (power.category == 12) | (power.category == 21)) \n",
    "      & ((power.country == 'Latvia') | (power.country == 'Lithuania') | (power.country == 'Estonia') & (power.quantity >= 0)) ]"
   ]
  },
  {
   "cell_type": "code",
   "execution_count": 142,
   "metadata": {},
   "outputs": [
    {
     "data": {
      "text/html": [
       "<div>\n",
       "<style scoped>\n",
       "    .dataframe tbody tr th:only-of-type {\n",
       "        vertical-align: middle;\n",
       "    }\n",
       "\n",
       "    .dataframe tbody tr th {\n",
       "        vertical-align: top;\n",
       "    }\n",
       "\n",
       "    .dataframe thead th {\n",
       "        text-align: right;\n",
       "    }\n",
       "</style>\n",
       "<table border=\"1\" class=\"dataframe\">\n",
       "  <thead>\n",
       "    <tr style=\"text-align: right;\">\n",
       "      <th></th>\n",
       "      <th>quantity</th>\n",
       "    </tr>\n",
       "    <tr>\n",
       "      <th>country</th>\n",
       "      <th></th>\n",
       "    </tr>\n",
       "  </thead>\n",
       "  <tbody>\n",
       "    <tr>\n",
       "      <th>Estonia</th>\n",
       "      <td>63440.0</td>\n",
       "    </tr>\n",
       "    <tr>\n",
       "      <th>Latvia</th>\n",
       "      <td>54844.0</td>\n",
       "    </tr>\n",
       "    <tr>\n",
       "      <th>Lithuania</th>\n",
       "      <td>122197.0</td>\n",
       "    </tr>\n",
       "  </tbody>\n",
       "</table>\n",
       "</div>"
      ],
      "text/plain": [
       "           quantity\n",
       "country            \n",
       "Estonia     63440.0\n",
       "Latvia      54844.0\n",
       "Lithuania  122197.0"
      ]
     },
     "execution_count": 142,
     "metadata": {},
     "output_type": "execute_result"
    }
   ],
   "source": [
    "power_prib[['country','quantity']].groupby(by=['country']).sum()"
   ]
  },
  {
   "cell_type": "markdown",
   "metadata": {},
   "source": [
    "Задание №3"
   ]
  },
  {
   "cell_type": "code",
   "execution_count": 150,
   "metadata": {},
   "outputs": [],
   "source": [
    "page_url = 'https://www.finanz.ru/valyuty/v-realnom-vremeni'\n",
    "df = pd.read_html(page_url, encoding='utf-8')"
   ]
  },
  {
   "cell_type": "code",
   "execution_count": 151,
   "metadata": {},
   "outputs": [
    {
     "data": {
      "text/plain": [
       "[     0       1      2        3       4      5        6       7      8   \\\n",
       " 0  ММВБ   2 856   1,0%   Nasdaq  11 769  -0,8%  Биткойн  11 388  -0,4%   \n",
       " 1   РТС   1 160   0,4%   S&P500   3 489  -0,7%    Нефть     434  -0,2%   \n",
       " 2   Dow  28 514  -0,6%  FTSE100   5 935  -0,6%   Золото   1 896  -0,2%   \n",
       " \n",
       "         9       10    11  \n",
       " 0  USD/RUB  779796  0,4%  \n",
       " 1  EUR/RUB  916250  0,4%  \n",
       " 2  EUR/USD   11750  0,0%  ,\n",
       "     Unnamed: 0              Рубль  Предложение  Спрос  Предыдущее закрытие  \\\n",
       " 0          NaN            GBP/RUB      1011104      -              1011254   \n",
       " 1          NaN            EUR/RUB       915885      -               912570   \n",
       " 2          NaN            USD/RUB       783160      -               776813   \n",
       " 3          NaN            JPY/RUB        07439      -                07390   \n",
       " 4          NaN            CNY/RUB       116434      -               115681   \n",
       " 5          NaN            CHF/RUB       856598      -               850555   \n",
       " 6          NaN               Евро  Предложение  Спрос  Предыдущее закрытие   \n",
       " 7          NaN            EUR/USD        11694      -                11749   \n",
       " 8          NaN            EUR/GBP        09060      -                09027   \n",
       " 9          NaN            EUR/JPY      1231150      -              1235000   \n",
       " 10         NaN            EUR/CHF        10689      -                10729   \n",
       " 11         NaN         Доллар США  Предложение  Спрос  Предыдущее закрытие   \n",
       " 12         NaN            USD/EUR        08552      -                08511   \n",
       " 13         NaN            USD/GBP        07747      -                07682   \n",
       " 14         NaN            USD/JPY      1052890      -              1051210   \n",
       " 15         NaN            USD/CHF        09140      -                09133   \n",
       " 16         NaN      Японская иена  Предложение  Спрос  Предыдущее закрытие   \n",
       " 17         NaN    JPY/EUR (100:1)        08100      -                08100   \n",
       " 18         NaN            JPY/GBP        00074      -                00073   \n",
       " 19         NaN            JPY/USD        00095      -                00095   \n",
       " 20         NaN    JPY/CHF (100:1)        08700      -                08700   \n",
       " 21         NaN    Фунт стерлингов  Предложение  Спрос  Предыдущее закрытие   \n",
       " 22         NaN            GBP/USD        12906      -                13016   \n",
       " 23         NaN            GBP/JPY      1359150      -              1368387   \n",
       " 24         NaN            GBP/EUR        11038      -                11076   \n",
       " 25         NaN            GBP/CHF        11799      -                11886   \n",
       " 26         NaN  Швейцарский франк  Предложение  Спрос  Предыдущее закрытие   \n",
       " 27         NaN            GBP/CHF        11799      -                11886   \n",
       " 28         NaN            EUR/CHF        10689      -                10729   \n",
       " 29         NaN    JPY/CHF (100:1)        08700      -                08700   \n",
       " 30         NaN            USD/CHF        09140      -                09133   \n",
       " 31         NaN  Украинская гривна  Предложение  Спрос  Предыдущее закрытие   \n",
       " 32         NaN            EUR/UAH       331452      -               332981   \n",
       " 33         NaN            USD/UAH       283450      -               283400   \n",
       " 34         NaN            CHF/UAH       310019      -               310303   \n",
       " 35         NaN            GBP/UAH       365906      -               368930   \n",
       " \n",
       "           %  Абсолютное значение     Время  \n",
       " 0   -0,01 %               -00150  18:10:00  \n",
       " 1    0,36 %                03315  18:09:00  \n",
       " 2    0,82 %                06347  18:09:00  \n",
       " 3    0,66 %                00048  18:10:00  \n",
       " 4    0,65 %                00753  18:09:00  \n",
       " 5    0,71 %                06042  18:09:00  \n",
       " 6         %  Абсолютное значение     Время  \n",
       " 7   -0,47 %               -00055  18:09:00  \n",
       " 8    0,37 %                00033  18:09:00  \n",
       " 9   -0,31 %               -03850  18:09:00  \n",
       " 10  -0,37 %               -00040  18:09:00  \n",
       " 11        %  Абсолютное значение     Время  \n",
       " 12   0,48 %                00041  18:10:00  \n",
       " 13   0,84 %                00065  18:10:00  \n",
       " 14   0,16 %                01680  18:09:00  \n",
       " 15   0,08 %                00008  18:09:00  \n",
       " 16        %  Абсолютное значение     Время  \n",
       " 17   0,30 %                00000  18:09:00  \n",
       " 18   0,68 %                00001  18:10:00  \n",
       " 19  -0,17 %                00000  18:09:00  \n",
       " 20  -0,06 %                00000  18:09:00  \n",
       " 21        %  Абсолютное значение     Время  \n",
       " 22  -0,85 %               -00110  18:09:00  \n",
       " 23  -0,68 %               -09237  18:10:00  \n",
       " 24  -0,35 %               -00039  18:09:00  \n",
       " 25  -0,72 %               -00086  18:09:00  \n",
       " 26        %  Абсолютное значение     Время  \n",
       " 27  -0,72 %               -00086  18:09:00  \n",
       " 28  -0,37 %               -00040  18:09:00  \n",
       " 29  -0,06 %                00000  18:09:00  \n",
       " 30   0,08 %                00008  18:09:00  \n",
       " 31        %  Абсолютное значение     Время  \n",
       " 32  -0,46 %               -01529  18:10:00  \n",
       " 33   0,02 %                00050  18:09:00  \n",
       " 34  -0,09 %               -00285  18:09:00  \n",
       " 35  -0,82 %               -03025  18:10:00  ,\n",
       "                                                    0  \\\n",
       " 0                                      Имя и фамилия   \n",
       " 1                                            Телефон   \n",
       " 2                                                NaN   \n",
       " 3  Я даю согласие на обработку своих персональных...   \n",
       " \n",
       "                                                    1  \\\n",
       " 0                                              Город   \n",
       " 1                                              Email   \n",
       " 2                                                NaN   \n",
       " 3  Я даю согласие на обработку своих персональных...   \n",
       " \n",
       "                                                    2  \\\n",
       " 0                                                NaN   \n",
       " 1                                                NaN   \n",
       " 2  Спасибо! Ваша заявка отправлена Финансовый кон...   \n",
       " 3                                                NaN   \n",
       " \n",
       "                                                    3  \\\n",
       " 0                                                NaN   \n",
       " 1                                                NaN   \n",
       " 2  Спасибо! Ваша заявка отправлена Финансовый кон...   \n",
       " 3                                                NaN   \n",
       " \n",
       "                                                    4  \\\n",
       " 0                                                NaN   \n",
       " 1                                                NaN   \n",
       " 2  ошибка: не удалось создать заявку в журнале за...   \n",
       " 3                                                NaN   \n",
       " \n",
       "                                                    5                       6  \\\n",
       " 0                                                NaN                     NaN   \n",
       " 1                                                NaN                     NaN   \n",
       " 2  ошибка: не удалось создать заявку в журнале за...  ошибка: не POST-запрос   \n",
       " 3                                                NaN                     NaN   \n",
       " \n",
       "                         7                                                  8  \\\n",
       " 0                     NaN                                                NaN   \n",
       " 1                     NaN                                                NaN   \n",
       " 2  ошибка: не POST-запрос  Просим Вас согласиться на передачу и обработку...   \n",
       " 3                     NaN                                                NaN   \n",
       " \n",
       "                                                    9  \n",
       " 0                                                NaN  \n",
       " 1                                                NaN  \n",
       " 2  Просим Вас согласиться на передачу и обработку...  \n",
       " 3                                                NaN  ]"
      ]
     },
     "execution_count": 151,
     "metadata": {},
     "output_type": "execute_result"
    }
   ],
   "source": [
    "df"
   ]
  }
 ],
 "metadata": {
  "kernelspec": {
   "display_name": "Python 3",
   "language": "python",
   "name": "python3"
  },
  "language_info": {
   "codemirror_mode": {
    "name": "ipython",
    "version": 3
   },
   "file_extension": ".py",
   "mimetype": "text/x-python",
   "name": "python",
   "nbconvert_exporter": "python",
   "pygments_lexer": "ipython3",
   "version": "3.8.3"
  }
 },
 "nbformat": 4,
 "nbformat_minor": 4
}
