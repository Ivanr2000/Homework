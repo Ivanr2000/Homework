{
 "cells": [
  {
   "cell_type": "code",
   "execution_count": 5,
   "metadata": {},
   "outputs": [],
   "source": [
    "import requests\n",
    "from bs4 import BeautifulSoup\n",
    "import time\n",
    "import pandas as pd\n",
    "from datetime import datetime, timedelta"
   ]
  },
  {
   "cell_type": "markdown",
   "metadata": {},
   "source": [
    "Задание №1"
   ]
  },
  {
   "cell_type": "code",
   "execution_count": 6,
   "metadata": {},
   "outputs": [],
   "source": [
    "KEYWORDS = ['python', 'парсинг', 'питон']\n",
    "req = requests.get('https://habr.com/ru/all/')"
   ]
  },
  {
   "cell_type": "code",
   "execution_count": 7,
   "metadata": {},
   "outputs": [],
   "source": [
    "soup = BeautifulSoup(req.text, 'html.parser')\n",
    "posts = soup.find_all('article', class_='post')"
   ]
  },
  {
   "cell_type": "code",
   "execution_count": 153,
   "metadata": {},
   "outputs": [],
   "source": [
    "articles_list = []\n",
    "for post in posts:\n",
    "    cont_is = 0\n",
    "    post_lower = post.text.lower()\n",
    "    if any([desired in post_lower for desired in KEYWORDS]):\n",
    "#    for keyword in KEYWORDS:\n",
    "#        post_lower = post.text.lower()\n",
    "#        if keyword in post_lower and cont_is == 0:\n",
    "#            cont_is += 1\n",
    "            #получаем дату статьи и приводим к единому формату, так как на сайте используется сегодня и вчера всесто дат.\n",
    "            post_date = post.find('span', class_=\"post__time\")\n",
    "            post_date = post_date.text\n",
    "            if \"сегодня\" in post_date:\n",
    "                post_date = str (datetime.now().date()) + \" в \" + post_date.split(' ')[-1]\n",
    "            if \"вчера\" in post_date:\n",
    "                post_date = str (datetime.now().date() - timedelta(days=1)) + \" в \" + post_date.split(' ')[-1]\n",
    "            links_full = post.find('a', class_='post__title_link')\n",
    "            #получаем заголовок\n",
    "            short_text_art = links_full.text\n",
    "            #получаем ссылку\n",
    "            links = links_full.attrs.get('href')\n",
    "            #по ссылке получаем полный текст статьи\n",
    "            req_page = requests.get(links)\n",
    "            soup_1 = BeautifulSoup(req_page.text, 'html.parser')\n",
    "            full_text_art = soup_1.find('div', class_=\"post__text\").text\n",
    "            time.sleep(0.2) #задержка на случай если много статей, чтобы не заблокировал сайт.\n",
    "            articles_list.append ([post_date, short_text_art, links, full_text_art]) #формируем список\n",
    "    "
   ]
  },
  {
   "cell_type": "code",
   "execution_count": 154,
   "metadata": {},
   "outputs": [
    {
     "data": {
      "text/html": [
       "<div>\n",
       "<style scoped>\n",
       "    .dataframe tbody tr th:only-of-type {\n",
       "        vertical-align: middle;\n",
       "    }\n",
       "\n",
       "    .dataframe tbody tr th {\n",
       "        vertical-align: top;\n",
       "    }\n",
       "\n",
       "    .dataframe thead th {\n",
       "        text-align: right;\n",
       "    }\n",
       "</style>\n",
       "<table border=\"1\" class=\"dataframe\">\n",
       "  <thead>\n",
       "    <tr style=\"text-align: right;\">\n",
       "      <th></th>\n",
       "      <th>Дата</th>\n",
       "      <th>Заголовок</th>\n",
       "      <th>Ссылка</th>\n",
       "      <th>Текст_статьи</th>\n",
       "    </tr>\n",
       "  </thead>\n",
       "  <tbody>\n",
       "    <tr>\n",
       "      <th>0</th>\n",
       "      <td>2020-11-01 в 03:54</td>\n",
       "      <td>Файловый менеджер на питоне в 430 строк для на...</td>\n",
       "      <td>https://habr.com/ru/post/525976/</td>\n",
       "      <td>Всем привет!\\n\\r\\nЯ захотел обобщить свои знан...</td>\n",
       "    </tr>\n",
       "  </tbody>\n",
       "</table>\n",
       "</div>"
      ],
      "text/plain": [
       "                 Дата                                          Заголовок  \\\n",
       "0  2020-11-01 в 03:54  Файловый менеджер на питоне в 430 строк для на...   \n",
       "\n",
       "                             Ссылка  \\\n",
       "0  https://habr.com/ru/post/525976/   \n",
       "\n",
       "                                        Текст_статьи  \n",
       "0  Всем привет!\\n\\r\\nЯ захотел обобщить свои знан...  "
      ]
     },
     "execution_count": 154,
     "metadata": {},
     "output_type": "execute_result"
    }
   ],
   "source": [
    "#формируем и выводим датафрейм\n",
    "articles_df  = pd.DataFrame(articles_list, columns = ['Дата', 'Заголовок', 'Ссылка', 'Текст_статьи'])\n",
    "articles_df"
   ]
  },
  {
   "cell_type": "markdown",
   "metadata": {},
   "source": [
    "Задание №2"
   ]
  },
  {
   "cell_type": "code",
   "execution_count": 156,
   "metadata": {},
   "outputs": [],
   "source": [
    "import json\n",
    "EMAIL = ['xxx@x.ru', 'yyy@y.com']\n",
    "URL='https://identityprotection.avast.com/v1/web/query/site-breaches/unauthorized-data' #запрос передается на этот адрес\n",
    "emails_ = {\"emailAddresses\":EMAIL} #готовим список эл. почт для передачи в post\n",
    "headers = {\n",
    "    'User-Agent': 'Mozilla/5.0 (Windows NT 10.0; Win64; x64; rv:82.0) Gecko/20100101 Firefox/82.0', \n",
    "    'Content-Type': 'application/json;charset=utf-8',\n",
    "    #Обязательны к передаче, как минимум два параметра ниже, предыдущие два не проверял\n",
    "    'Vaar-Header-App-Product': 'hackcheck-web-avast',\n",
    "    'Vaar-Version': '0'\n",
    "}"
   ]
  },
  {
   "cell_type": "code",
   "execution_count": 157,
   "metadata": {},
   "outputs": [],
   "source": [
    "req_1 = requests.post (URL, json=emails_, headers=headers) #передаем post получаем ответ"
   ]
  },
  {
   "cell_type": "code",
   "execution_count": 158,
   "metadata": {},
   "outputs": [],
   "source": [
    "resp_=req_1.json() #переводим в json"
   ]
  },
  {
   "cell_type": "code",
   "execution_count": 159,
   "metadata": {},
   "outputs": [],
   "source": [
    "violation_list = [] #создаем пустой список\n",
    "for domens_, i in resp_ ['data'].items(): #проходимся по словарю дата, получаем источники утечки\n",
    "    for mails_, j in i.items(): # так как на один источник утечки может быть несколько почт, то получаем почты по источникам\n",
    "        for k in j: #проходимся по записям и получаем ID шники утечек, по ним из словаря breaches тянем информацию по времени и описанию утечки\n",
    "            breachId_= str(k['breachId'])\n",
    "            #формируем список с нужными значениями\n",
    "            violation_list.append([mails_, resp_ ['breaches'][breachId_]['publishDate'], domens_, resp_ ['breaches'][breachId_]['description']])"
   ]
  },
  {
   "cell_type": "code",
   "execution_count": 160,
   "metadata": {},
   "outputs": [
    {
     "data": {
      "text/html": [
       "<div>\n",
       "<style scoped>\n",
       "    .dataframe tbody tr th:only-of-type {\n",
       "        vertical-align: middle;\n",
       "    }\n",
       "\n",
       "    .dataframe tbody tr th {\n",
       "        vertical-align: top;\n",
       "    }\n",
       "\n",
       "    .dataframe thead th {\n",
       "        text-align: right;\n",
       "    }\n",
       "</style>\n",
       "<table border=\"1\" class=\"dataframe\">\n",
       "  <thead>\n",
       "    <tr style=\"text-align: right;\">\n",
       "      <th></th>\n",
       "      <th>Почта</th>\n",
       "      <th>Дата утечки</th>\n",
       "      <th>Источник утечки</th>\n",
       "      <th>Описание утечки</th>\n",
       "    </tr>\n",
       "  </thead>\n",
       "  <tbody>\n",
       "    <tr>\n",
       "      <th>0</th>\n",
       "      <td>xxx@x.ru</td>\n",
       "      <td>2017-02-14T00:00:00Z</td>\n",
       "      <td>parapa.mail.ru</td>\n",
       "      <td>In July and August 2016, two criminals execute...</td>\n",
       "    </tr>\n",
       "    <tr>\n",
       "      <th>1</th>\n",
       "      <td>xxx@x.ru</td>\n",
       "      <td>2019-03-28T00:00:00Z</td>\n",
       "      <td>verifications.io</td>\n",
       "      <td>Big data e-mail verification platform verifica...</td>\n",
       "    </tr>\n",
       "    <tr>\n",
       "      <th>2</th>\n",
       "      <td>xxx@x.ru</td>\n",
       "      <td>2016-10-21T00:00:00Z</td>\n",
       "      <td>adobe.com</td>\n",
       "      <td>In October of 2013, criminals penetrated Adobe...</td>\n",
       "    </tr>\n",
       "    <tr>\n",
       "      <th>3</th>\n",
       "      <td>yyy@y.com</td>\n",
       "      <td>2016-10-21T00:00:00Z</td>\n",
       "      <td>adobe.com</td>\n",
       "      <td>In October of 2013, criminals penetrated Adobe...</td>\n",
       "    </tr>\n",
       "    <tr>\n",
       "      <th>4</th>\n",
       "      <td>xxx@x.ru</td>\n",
       "      <td>2017-01-31T00:00:00Z</td>\n",
       "      <td>cdprojektred.com</td>\n",
       "      <td>In March 2016, CDProjektRed.com.com's forum da...</td>\n",
       "    </tr>\n",
       "    <tr>\n",
       "      <th>5</th>\n",
       "      <td>yyy@y.com</td>\n",
       "      <td>2020-01-03T00:00:00Z</td>\n",
       "      <td>azcentral.com</td>\n",
       "      <td>At an unconfirmed date, online Arizona newspap...</td>\n",
       "    </tr>\n",
       "    <tr>\n",
       "      <th>6</th>\n",
       "      <td>yyy@y.com</td>\n",
       "      <td>2016-10-21T00:00:00Z</td>\n",
       "      <td>linkedin.com</td>\n",
       "      <td>In 2012, online professional networking platfo...</td>\n",
       "    </tr>\n",
       "    <tr>\n",
       "      <th>7</th>\n",
       "      <td>yyy@y.com</td>\n",
       "      <td>2016-10-24T00:00:00Z</td>\n",
       "      <td>dropbox.com</td>\n",
       "      <td>Cloud storage company Dropbox suffered a major...</td>\n",
       "    </tr>\n",
       "    <tr>\n",
       "      <th>8</th>\n",
       "      <td>yyy@y.com</td>\n",
       "      <td>2020-05-28T00:00:00Z</td>\n",
       "      <td>wishbone.io</td>\n",
       "      <td>In January 2020, the online poll website Wishb...</td>\n",
       "    </tr>\n",
       "    <tr>\n",
       "      <th>9</th>\n",
       "      <td>yyy@y.com</td>\n",
       "      <td>2017-03-24T00:00:00Z</td>\n",
       "      <td>youku.com</td>\n",
       "      <td>Youku is a large Chinese video content company...</td>\n",
       "    </tr>\n",
       "    <tr>\n",
       "      <th>10</th>\n",
       "      <td>yyy@y.com</td>\n",
       "      <td>2017-11-04T00:00:00Z</td>\n",
       "      <td>myheritage.com</td>\n",
       "      <td>In October 2017, a customer database belonging...</td>\n",
       "    </tr>\n",
       "    <tr>\n",
       "      <th>11</th>\n",
       "      <td>yyy@y.com</td>\n",
       "      <td>2017-03-01T00:00:00Z</td>\n",
       "      <td>rayli.com.cn</td>\n",
       "      <td>On an unconfirmed date, Chinese gossip site Ra...</td>\n",
       "    </tr>\n",
       "    <tr>\n",
       "      <th>12</th>\n",
       "      <td>yyy@y.com</td>\n",
       "      <td>2019-06-13T00:00:00Z</td>\n",
       "      <td>canva.com</td>\n",
       "      <td>In May 2019, graphic-design site Canva's datab...</td>\n",
       "    </tr>\n",
       "    <tr>\n",
       "      <th>13</th>\n",
       "      <td>yyy@y.com</td>\n",
       "      <td>2017-03-15T00:00:00Z</td>\n",
       "      <td>globalreach.eu</td>\n",
       "      <td>In 2016, Global Reach Technology's database wa...</td>\n",
       "    </tr>\n",
       "    <tr>\n",
       "      <th>14</th>\n",
       "      <td>xxx@x.ru</td>\n",
       "      <td>2017-02-14T00:00:00Z</td>\n",
       "      <td>cfire.mail.ru</td>\n",
       "      <td>In July and August of 2016, two criminals carr...</td>\n",
       "    </tr>\n",
       "    <tr>\n",
       "      <th>15</th>\n",
       "      <td>xxx@x.ru</td>\n",
       "      <td>2020-05-21T00:00:00Z</td>\n",
       "      <td>vk.com</td>\n",
       "      <td>At some time in 2020, the Russian social netwo...</td>\n",
       "    </tr>\n",
       "    <tr>\n",
       "      <th>16</th>\n",
       "      <td>xxx@x.ru</td>\n",
       "      <td>2016-10-29T00:00:00Z</td>\n",
       "      <td>vk.com</td>\n",
       "      <td>Popular Russian social networking platform VKo...</td>\n",
       "    </tr>\n",
       "    <tr>\n",
       "      <th>17</th>\n",
       "      <td>yyy@y.com</td>\n",
       "      <td>2018-02-18T00:00:00Z</td>\n",
       "      <td>netlog.com</td>\n",
       "      <td>Netlog (formerly known as Facebox and Bingbox)...</td>\n",
       "    </tr>\n",
       "    <tr>\n",
       "      <th>18</th>\n",
       "      <td>xxx@x.ru</td>\n",
       "      <td>2016-10-23T00:00:00Z</td>\n",
       "      <td>imesh.com</td>\n",
       "      <td>In June 2016, a cache of over 51 million user ...</td>\n",
       "    </tr>\n",
       "    <tr>\n",
       "      <th>19</th>\n",
       "      <td>yyy@y.com</td>\n",
       "      <td>2016-10-23T00:00:00Z</td>\n",
       "      <td>imesh.com</td>\n",
       "      <td>In June 2016, a cache of over 51 million user ...</td>\n",
       "    </tr>\n",
       "    <tr>\n",
       "      <th>20</th>\n",
       "      <td>yyy@y.com</td>\n",
       "      <td>2019-10-17T00:00:00Z</td>\n",
       "      <td>zynga.com</td>\n",
       "      <td>In September 2019, the game developer Zynga wa...</td>\n",
       "    </tr>\n",
       "  </tbody>\n",
       "</table>\n",
       "</div>"
      ],
      "text/plain": [
       "        Почта           Дата утечки   Источник утечки  \\\n",
       "0    xxx@x.ru  2017-02-14T00:00:00Z    parapa.mail.ru   \n",
       "1    xxx@x.ru  2019-03-28T00:00:00Z  verifications.io   \n",
       "2    xxx@x.ru  2016-10-21T00:00:00Z         adobe.com   \n",
       "3   yyy@y.com  2016-10-21T00:00:00Z         adobe.com   \n",
       "4    xxx@x.ru  2017-01-31T00:00:00Z  cdprojektred.com   \n",
       "5   yyy@y.com  2020-01-03T00:00:00Z     azcentral.com   \n",
       "6   yyy@y.com  2016-10-21T00:00:00Z      linkedin.com   \n",
       "7   yyy@y.com  2016-10-24T00:00:00Z       dropbox.com   \n",
       "8   yyy@y.com  2020-05-28T00:00:00Z       wishbone.io   \n",
       "9   yyy@y.com  2017-03-24T00:00:00Z         youku.com   \n",
       "10  yyy@y.com  2017-11-04T00:00:00Z    myheritage.com   \n",
       "11  yyy@y.com  2017-03-01T00:00:00Z      rayli.com.cn   \n",
       "12  yyy@y.com  2019-06-13T00:00:00Z         canva.com   \n",
       "13  yyy@y.com  2017-03-15T00:00:00Z    globalreach.eu   \n",
       "14   xxx@x.ru  2017-02-14T00:00:00Z     cfire.mail.ru   \n",
       "15   xxx@x.ru  2020-05-21T00:00:00Z            vk.com   \n",
       "16   xxx@x.ru  2016-10-29T00:00:00Z            vk.com   \n",
       "17  yyy@y.com  2018-02-18T00:00:00Z        netlog.com   \n",
       "18   xxx@x.ru  2016-10-23T00:00:00Z         imesh.com   \n",
       "19  yyy@y.com  2016-10-23T00:00:00Z         imesh.com   \n",
       "20  yyy@y.com  2019-10-17T00:00:00Z         zynga.com   \n",
       "\n",
       "                                      Описание утечки  \n",
       "0   In July and August 2016, two criminals execute...  \n",
       "1   Big data e-mail verification platform verifica...  \n",
       "2   In October of 2013, criminals penetrated Adobe...  \n",
       "3   In October of 2013, criminals penetrated Adobe...  \n",
       "4   In March 2016, CDProjektRed.com.com's forum da...  \n",
       "5   At an unconfirmed date, online Arizona newspap...  \n",
       "6   In 2012, online professional networking platfo...  \n",
       "7   Cloud storage company Dropbox suffered a major...  \n",
       "8   In January 2020, the online poll website Wishb...  \n",
       "9   Youku is a large Chinese video content company...  \n",
       "10  In October 2017, a customer database belonging...  \n",
       "11  On an unconfirmed date, Chinese gossip site Ra...  \n",
       "12  In May 2019, graphic-design site Canva's datab...  \n",
       "13  In 2016, Global Reach Technology's database wa...  \n",
       "14  In July and August of 2016, two criminals carr...  \n",
       "15  At some time in 2020, the Russian social netwo...  \n",
       "16  Popular Russian social networking platform VKo...  \n",
       "17  Netlog (formerly known as Facebox and Bingbox)...  \n",
       "18  In June 2016, a cache of over 51 million user ...  \n",
       "19  In June 2016, a cache of over 51 million user ...  \n",
       "20  In September 2019, the game developer Zynga wa...  "
      ]
     },
     "execution_count": 160,
     "metadata": {},
     "output_type": "execute_result"
    }
   ],
   "source": [
    "#формируем из списка датафрейм\n",
    "violation_df  = pd.DataFrame(violation_list, columns = ['Почта', 'Дата утечки', 'Источник утечки', 'Описание утечки'])\n",
    "violation_df"
   ]
  },
  {
   "cell_type": "markdown",
   "metadata": {},
   "source": [
    "Задание №3"
   ]
  },
  {
   "cell_type": "code",
   "execution_count": 180,
   "metadata": {},
   "outputs": [],
   "source": [
    "URL_REQUEST = 'https://api.vk.com/method/wall.get'\n",
    "TOKEN = ''\n",
    "VERSION = '5.103'\n",
    "SLEEP = 0.33"
   ]
  },
  {
   "cell_type": "code",
   "execution_count": 185,
   "metadata": {},
   "outputs": [],
   "source": [
    "params = {\n",
    "    'access_token': TOKEN,\n",
    "    'v': VERSION,\n",
    "    'owner_id': -30159897,\n",
    "    'count': 100\n",
    "}"
   ]
  },
  {
   "cell_type": "code",
   "execution_count": 186,
   "metadata": {},
   "outputs": [
    {
     "data": {
      "text/plain": [
       "'{\"error\":{\"error_code\":10,\"error_msg\":\"Internal server error: could not get application\",\"request_params\":[{\"key\":\"v\",\"value\":\"5.103\"},{\"key\":\"owner_id\",\"value\":\"-30159897\"},{\"key\":\"count\",\"value\":\"100\"},{\"key\":\"method\",\"value\":\"wall.get\"},{\"key\":\"oauth\",\"value\":\"1\"}]}}'"
      ]
     },
     "execution_count": 186,
     "metadata": {},
     "output_type": "execute_result"
    }
   ],
   "source": [
    "req_vk = requests.get(URL_REQUEST, params)\n",
    "req_vk.text"
   ]
  },
  {
   "cell_type": "code",
   "execution_count": null,
   "metadata": {},
   "outputs": [],
   "source": [
    "Возникает ошибка \"error_code\":10,\"error_msg\":\"Internal server error: could not get application\" \n",
    "        из-за чего не возможно дальше ничего сделать"
   ]
  }
 ],
 "metadata": {
  "kernelspec": {
   "display_name": "Python 3",
   "language": "python",
   "name": "python3"
  },
  "language_info": {
   "codemirror_mode": {
    "name": "ipython",
    "version": 3
   },
   "file_extension": ".py",
   "mimetype": "text/x-python",
   "name": "python",
   "nbconvert_exporter": "python",
   "pygments_lexer": "ipython3",
   "version": "3.8.3"
  }
 },
 "nbformat": 4,
 "nbformat_minor": 4
}
