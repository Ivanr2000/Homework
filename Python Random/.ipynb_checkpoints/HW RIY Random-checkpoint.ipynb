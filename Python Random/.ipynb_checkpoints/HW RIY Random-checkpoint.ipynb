{
 "cells": [
  {
   "cell_type": "code",
   "execution_count": 15,
   "metadata": {},
   "outputs": [],
   "source": [
    "import pandas as pd\n",
    "import numpy as np\n",
    "import re"
   ]
  },
  {
   "cell_type": "code",
   "execution_count": 126,
   "metadata": {},
   "outputs": [
    {
     "name": "stdout",
     "output_type": "stream",
     "text": [
      "Доход(+)\\расход(-) после 1000000 бросков равен -201181\n",
      "Средний доход(+)\\расход(-) за бросок равен -0.201181\n",
      "Вероятность выигрыша равна: 0.204052\n"
     ]
    }
   ],
   "source": [
    "#Расчет по броскам\n",
    "casts = 1000000\n",
    "wins = 0\n",
    "\n",
    "expenses = 0\n",
    "incomes = 0\n",
    "\n",
    "for i in range (casts):\n",
    "    cast_ = np.random.randint (0, 1000)\n",
    "    expenses +=1\n",
    "#    print (cast_)\n",
    "    if cast_==777:\n",
    "        incomes +=200\n",
    "        wins +=1\n",
    "#        print (cast_, incomes, \"777\")\n",
    "    elif cast_ == 999:\n",
    "        incomes +=100\n",
    "        wins +=1\n",
    "#        print (cast_, incomes, \"999\")\n",
    "    elif cast_ == 555:\n",
    "        incomes +=50\n",
    "        wins +=1\n",
    "#        print (cast_, incomes, \"555\")\n",
    "    elif cast_ == 333:\n",
    "        incomes +=15\n",
    "        wins +=1\n",
    "#        print (cast_, incomes, \"333\")\n",
    "    elif cast_ == 111:\n",
    "        incomes +=10\n",
    "        wins +=1\n",
    "#        print (cast_, incomes, \"111\")\n",
    "    elif cast_ == 111:\n",
    "        incomes +=10\n",
    "        wins +=1\n",
    "#        print (cast_, incomes, \"111\")\n",
    "    elif len(re.findall(r'\\d77', str(cast_))) != 0 or cast_ == 77:\n",
    "        incomes +=5\n",
    "        wins +=1\n",
    "#        print (cast_, incomes, \"*77\")        \n",
    "    elif len(re.findall(r'\\d{2}7', str(cast_))) != 0 or cast_ == 7 or ((len (str (cast_)) == 2) and (len(re.findall(r'\\d7', str(cast_))) != 0)):\n",
    "        incomes +=3\n",
    "        wins +=1\n",
    "#        print (cast_, incomes, \"**7\")\n",
    "    elif len(re.findall(r'\\d00', str(cast_))) != 0 or cast_ == 0:\n",
    "        incomes +=2\n",
    "        wins +=1\n",
    "#        print (cast_, incomes, \"*00\")        \n",
    "    elif len(re.findall(r'\\d{2}0', str(cast_))) != 0 or (((len (str (cast_)) == 2) and (len(re.findall(r'\\d0', str(cast_))) != 0))):\n",
    "        incomes +=1\n",
    "        wins +=1\n",
    "#        print (cast_, incomes, \"**0\")\n",
    "incomes - expenses\n",
    "print (\"Доход(+)\\расход(-) после\", casts, \"бросков равен\", incomes - expenses)\n",
    "print (\"Средний доход(+)\\расход(-) за бросок равен\", (incomes - expenses)/casts)\n",
    "print (\"Вероятность выигрыша равна:\", wins/casts)"
   ]
  },
  {
   "cell_type": "code",
   "execution_count": 130,
   "metadata": {},
   "outputs": [
    {
     "name": "stdout",
     "output_type": "stream",
     "text": [
      "Доход(+)\\расход(-) после 10000 игр с 15 бросками в каждой равен -28605\n",
      "Средний доход\\расход за игру равен: -2.8605\n",
      "Вероятность выигрыша равна: 0.20499333333333333\n"
     ]
    }
   ],
   "source": [
    "#Расчет по броскам и играм\n",
    "games = 10000\n",
    "casts = 15\n",
    "wins = 0\n",
    "\n",
    "expenses = 0\n",
    "incomes = 0\n",
    "\n",
    "for j in range (games):\n",
    "    for i in range (casts):\n",
    "        cast_ = np.random.randint (0, 1000)\n",
    "        expenses +=1\n",
    "    #    print (cast_)\n",
    "        if cast_==777:\n",
    "            incomes +=200\n",
    "            wins +=1\n",
    "    #        print (cast_, incomes, \"777\")\n",
    "        elif cast_ == 999:\n",
    "            incomes +=100\n",
    "            wins +=1\n",
    "    #        print (cast_, incomes, \"999\")\n",
    "        elif cast_ == 555:\n",
    "            incomes +=50\n",
    "            wins +=1\n",
    "    #        print (cast_, incomes, \"555\")\n",
    "        elif cast_ == 333:\n",
    "            incomes +=15\n",
    "            wins +=1\n",
    "    #        print (cast_, incomes, \"333\")\n",
    "        elif cast_ == 111:\n",
    "            incomes +=10\n",
    "            wins +=1\n",
    "    #        print (cast_, incomes, \"111\")\n",
    "        elif cast_ == 111:\n",
    "            incomes +=10\n",
    "            wins +=1\n",
    "    #        print (cast_, incomes, \"111\")\n",
    "        elif len(re.findall(r'\\d77', str(cast_))) != 0 or cast_ == 77:\n",
    "            incomes +=5\n",
    "            wins +=1\n",
    "    #        print (cast_, incomes, \"*77\")        \n",
    "        elif len(re.findall(r'\\d{2}7', str(cast_))) != 0 or cast_ == 7 or ((len (str (cast_)) == 2) and (len(re.findall(r'\\d7', str(cast_))) != 0)):\n",
    "            incomes +=3\n",
    "            wins +=1\n",
    "    #        print (cast_, incomes, \"**7\")\n",
    "        elif len(re.findall(r'\\d00', str(cast_))) != 0 or cast_ == 0:\n",
    "            incomes +=2\n",
    "            wins +=1\n",
    "    #        print (cast_, incomes, \"*00\")        \n",
    "        elif len(re.findall(r'\\d{2}0', str(cast_))) != 0 or (((len (str (cast_)) == 2) and (len(re.findall(r'\\d0', str(cast_))) != 0))):\n",
    "            incomes +=1\n",
    "            wins +=1\n",
    "    #        print (cast_, incomes, \"**0\")\n",
    "print (\"Доход(+)\\расход(-) после\", games, \"игр с\", casts, \"бросками в каждой равен\", incomes - expenses)\n",
    "print (\"Средний доход\\расход за игру равен:\", (incomes - expenses)/games)\n",
    "print (\"Вероятность выигрыша равна:\", wins/(casts*games))"
   ]
  },
  {
   "cell_type": "code",
   "execution_count": null,
   "metadata": {},
   "outputs": [],
   "source": []
  }
 ],
 "metadata": {
  "kernelspec": {
   "display_name": "Python 3",
   "language": "python",
   "name": "python3"
  },
  "language_info": {
   "codemirror_mode": {
    "name": "ipython",
    "version": 3
   },
   "file_extension": ".py",
   "mimetype": "text/x-python",
   "name": "python",
   "nbconvert_exporter": "python",
   "pygments_lexer": "ipython3",
   "version": "3.8.3"
  }
 },
 "nbformat": 4,
 "nbformat_minor": 4
}
