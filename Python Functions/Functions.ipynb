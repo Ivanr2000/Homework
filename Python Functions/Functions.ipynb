{
 "cells": [
  {
   "cell_type": "code",
   "execution_count": 119,
   "metadata": {},
   "outputs": [],
   "source": [
    "documents = [\n",
    "{'type': 'passport', 'number': '2207 876234', 'name': 'Василий Гупкин'},\n",
    "{'type': 'invoice', 'number': '11-2', 'name': 'Геннадий Покемонов'},\n",
    "{'type': 'insurance', 'number': '10006', 'name': 'Аристарх Павлов'}\n",
    "]\n",
    "directories = {\n",
    "'1': ['2207 876234', '11-2'],\n",
    "'2': ['10006'],\n",
    "'3': []\n",
    "}"
   ]
  },
  {
   "cell_type": "code",
   "execution_count": 49,
   "metadata": {},
   "outputs": [],
   "source": [
    "def doc_is_or_not (doc_number_1):\n",
    "    is_in_list = False\n",
    "    name_pers = \"\"\n",
    "    dict_value = {}\n",
    "    for i in documents:\n",
    "        if i['number'] == doc_number_1:\n",
    "            name_pers = i['name']\n",
    "            dict_value = i\n",
    "            is_in_list = True\n",
    "    return name_pers, dict_value, is_in_list\n"
   ]
  },
  {
   "cell_type": "code",
   "execution_count": 50,
   "metadata": {},
   "outputs": [],
   "source": [
    "def p_command ():\n",
    "    is_in_list = False\n",
    "    doc_number = input (\"Введите номер документа: \")\n",
    "    pers_name, dict_value, is_in_list = doc_is_or_not (doc_number)\n",
    "    if is_in_list != False:\n",
    "        print (\"Владелец документа:\", pers_name)\n",
    "    else:\n",
    "        print (\"Документ не найден в базе\")\n",
    "    return"
   ]
  },
  {
   "cell_type": "code",
   "execution_count": 51,
   "metadata": {},
   "outputs": [],
   "source": [
    "def shelf_number (doc_number):\n",
    "    shelf_1 = 0\n",
    "    for i, j in directories.items():\n",
    "        if doc_number in j:\n",
    "            shelf_1 = i\n",
    "    return shelf_1"
   ]
  },
  {
   "cell_type": "code",
   "execution_count": 52,
   "metadata": {},
   "outputs": [],
   "source": [
    "def shelf_is_or_not (shelf_number_check):\n",
    "    shels_is_value = False\n",
    "    quntity_items_shelf = False\n",
    "    for i, j in directories.items ():\n",
    "            if i == shelf_number_check:\n",
    "                shels_is_value = True\n",
    "                if len(j) != 0:\n",
    "                    quntity_items_shelf = True            \n",
    "    return (shels_is_value, quntity_items_shelf)"
   ]
  },
  {
   "cell_type": "code",
   "execution_count": 53,
   "metadata": {},
   "outputs": [],
   "source": [
    "def s_command ():\n",
    "    doc_number = input (\"Введите номер документа: \")\n",
    "    shelf_1 = shelf_number (doc_number)\n",
    "    if shelf_1 != 0:\n",
    "        print (\"Документ хранится на полке:\", shelf_1)\n",
    "    else:\n",
    "        print (\"Документ не найден в базе\")\n",
    "    return"
   ]
  },
  {
   "cell_type": "code",
   "execution_count": 54,
   "metadata": {},
   "outputs": [],
   "source": [
    "def l_command ():\n",
    "    for i in documents:\n",
    "        print (\"№: \", i['number'] ,\", тип: \", i['type'], \", владелец: \", i['name'], \", полка хранения: \", shelf_number(i['number']), sep = '')"
   ]
  },
  {
   "cell_type": "code",
   "execution_count": 104,
   "metadata": {},
   "outputs": [],
   "source": [
    "def as_command ():\n",
    "    shelf_number_new = input (\"Введите номер полки: \")\n",
    "    is_shelf, q_doc = shelf_is_or_not (shelf_number_new)\n",
    "    if is_shelf == True:\n",
    "        print (\"Такая полка уже существует. Текущий перечень полок:\", *list(directories.keys()))\n",
    "    else:\n",
    "        directories [shelf_number_new] = []\n",
    "        print (\"Полка добавлена. Текущий перечень полок:\", *list(directories.keys()))\n",
    "    return"
   ]
  },
  {
   "cell_type": "code",
   "execution_count": 56,
   "metadata": {},
   "outputs": [],
   "source": [
    "def ds_command ():\n",
    "    shelf_number_del = input (\"Введите номер полки: \")\n",
    "    is_shelf, is_documents = shelf_is_or_not (shelf_number_del)\n",
    "    if is_shelf == False:\n",
    "        print (\"Такой полки не существует. Текущий перечень полок:\", *list(directories.keys()))\n",
    "    elif is_shelf == True and is_documents == True:\n",
    "        print (\"На полке есть документы, удалите их перед удалением полки. Текущий перечень полок:\", *list(directories.keys()))\n",
    "    else:\n",
    "        del directories [shelf_number_del]\n",
    "        print (\"Полка удалена. Текущий перечень полок:\", *list(directories.keys()))\n",
    "    return"
   ]
  },
  {
   "cell_type": "code",
   "execution_count": 122,
   "metadata": {},
   "outputs": [],
   "source": [
    "def ad_command ():\n",
    "    doc_numb = input (\"Введите номер документа:\")\n",
    "    doc_type = input (\"Введите тип документа:\")\n",
    "    doc_owner = input (\"Введите владельца документа:\")\n",
    "    doc_shelf = input (\"Введите полку для хранения:\")\n",
    "    is_shelf, q_doc = shelf_is_or_not(doc_shelf)\n",
    "    if is_shelf == False:\n",
    "        print (\"Такой полки не существует. Добавьте полку командой as. Текущий перечень полок:\", *list(directories.keys()))\n",
    "        print (\"Текущий список документов:\")\n",
    "        l_command ()\n",
    "    else:\n",
    "        documents.append ({'type': doc_type, 'number': doc_numb, 'name': doc_owner})\n",
    "        directories [doc_shelf].append (doc_numb)\n",
    "        print (\"Документ добавлен. Текущий список документов:\")\n",
    "        l_command ()\n",
    "    return"
   ]
  },
  {
   "cell_type": "code",
   "execution_count": 58,
   "metadata": {},
   "outputs": [],
   "source": [
    "def d_command ():\n",
    "    doc_del_numb = input (\"Введите номер документа:\")\n",
    "    pers_name, dict_value, is_in_list = doc_is_or_not (doc_del_numb)\n",
    "    if is_in_list != False:\n",
    "        documents.remove(dict_value)\n",
    "        shelf_number_1 = shelf_number (doc_del_numb)\n",
    "        directories[shelf_number_1].remove(doc_del_numb)\n",
    "        print (\"Документ удален.\")\n",
    "        print (\"Текущий список документов:\")\n",
    "        l_command ()\n",
    "    else:\n",
    "        print (\"Документ не найден в базе\")\n",
    "        print (\"Текущий список документов:\")\n",
    "        l_command ()\n",
    "    return"
   ]
  },
  {
   "cell_type": "code",
   "execution_count": 117,
   "metadata": {},
   "outputs": [],
   "source": [
    "def m_command ():\n",
    "    doc_mov_numb = input (\"Введите номер документа:\")\n",
    "    doc_mov_shelf = input (\"Введите полку для хранения:\")\n",
    "    is_shelf, q_doc = shelf_is_or_not(doc_mov_shelf)\n",
    "    pers_name, dict_value, is_in_list = doc_is_or_not (doc_mov_numb)\n",
    "    if is_shelf == False and is_in_list == True:\n",
    "        print (\"Такой полки не существует. Добавьте полку командой as. Текущий перечень полок:\", *list(directories.keys()))\n",
    "        return\n",
    "    elif is_shelf == False and is_in_list == False:\n",
    "        print (\"Такой полки не существует. Добавьте полку командой as. Текущий перечень полок:\", *list(directories.keys()))\n",
    "        print (\"Документ не найден в базе\")\n",
    "        print (\"Текущий список документов:\")\n",
    "        l_command ()\n",
    "        return\n",
    "    elif is_shelf == True and is_in_list == False:\n",
    "        print (\"Документ не найден в базе\")\n",
    "        print (\"Текущий список документов:\")\n",
    "        l_command ()\n",
    "        return\n",
    "    shelf_number_1 = shelf_number (doc_mov_numb)\n",
    "    print (shelf_number_1, doc_mov_numb, doc_mov_shelf)\n",
    "    directories[shelf_number_1].remove(doc_mov_numb)\n",
    "    directories [doc_mov_shelf].append (doc_mov_numb)\n",
    "    print (\"Документ перемещен.\")\n",
    "    print (\"Текущий список документов:\")\n",
    "    l_command ()\n",
    "    return"
   ]
  },
  {
   "cell_type": "code",
   "execution_count": 139,
   "metadata": {},
   "outputs": [],
   "source": [
    "def command_list():\n",
    "    print(\"\\n\" * 1)\n",
    "    print (\"Список допустимых комманд (все комманды вводятся на английском):\")\n",
    "    print (\"p - узнать владельца по номеру документа\")\n",
    "    print (\"s - узнать полку хранения документа по номеру\")\n",
    "    print (\"l - вывести полную информацию по всем документам\")\n",
    "    print (\"as - создать новую полку с документами\")\n",
    "    print (\"ds - удалить пустую полку с документами\")\n",
    "    print (\"ad - создать новый документ на полке\")\n",
    "    print (\"d - удалить документ с полки\")\n",
    "    print (\"m - перместить документ с полки на полку\")\n",
    "    print (\"x - выход\")\n",
    "    print(\"\\n\" * 1)\n",
    "    return\n",
    "    "
   ]
  },
  {
   "cell_type": "code",
   "execution_count": 133,
   "metadata": {},
   "outputs": [],
   "source": [
    "def commands():\n",
    "    check_input = False\n",
    "    while check_input == False:\n",
    "        val_commands = input (\"Введите команду: \")\n",
    "        if val_commands == \"p\" or val_commands == \"l\" or val_commands == \"s\" or val_commands == \"as\" or val_commands == \"ds\" or val_commands == \"ad\" or val_commands == \"d\" or val_commands == \"m\" or val_commands == \"x\":\n",
    "            check_input = True\n",
    "        else:\n",
    "            print(\"\\n\" * 2)\n",
    "            print (\"Комманда не корректна!!!!!!!!!!!!\")\n",
    "            command_list()\n",
    "    return val_commands\n",
    "            "
   ]
  },
  {
   "cell_type": "code",
   "execution_count": 134,
   "metadata": {},
   "outputs": [],
   "source": [
    "def main():\n",
    "    exit_1 = False\n",
    "    while exit_1 == False:\n",
    "        command_list()\n",
    "        val_commands_1 = commands()\n",
    "        if val_commands_1 == \"p\":\n",
    "            p_command ()\n",
    "        elif val_commands_1 == \"s\":\n",
    "            s_command ()\n",
    "        elif val_commands_1 == \"l\":\n",
    "            l_command ()\n",
    "        elif val_commands_1 == \"as\":\n",
    "            as_command ()\n",
    "        elif val_commands_1 == \"ds\":\n",
    "            ds_command ()\n",
    "        elif val_commands_1 == \"ad\":\n",
    "            ad_command ()\n",
    "        elif val_commands_1 == \"d\":\n",
    "            d_command ()\n",
    "        elif val_commands_1 == \"m\":\n",
    "            m_command ()\n",
    "        else:\n",
    "            return\n"
   ]
  },
  {
   "cell_type": "code",
   "execution_count": 141,
   "metadata": {},
   "outputs": [
    {
     "name": "stdout",
     "output_type": "stream",
     "text": [
      "\n",
      "\n",
      "Список допустимых комманд (все комманды вводятся на английском):\n",
      "p - узнать владельца по номеру документа\n",
      "s - узнать полку хранения документа по номеру\n",
      "l - вывести полную информацию по всем документам\n",
      "as - создать новую полку с документами\n",
      "ds - удалить пустую полку с документами\n",
      "ad - создать новый документ на полке\n",
      "d - удалить документ с полки\n",
      "m - перместить документ с полки на полку\n",
      "x - выход\n",
      "\n",
      "\n",
      "Введите команду: x\n"
     ]
    }
   ],
   "source": [
    "main ()"
   ]
  },
  {
   "cell_type": "code",
   "execution_count": 108,
   "metadata": {},
   "outputs": [
    {
     "name": "stdout",
     "output_type": "stream",
     "text": [
      "[{'type': 'passport', 'number': '2207 876234', 'name': 'Василий Гупкин'}, {'type': 'invoice', 'number': '11-2', 'name': 'Геннадий Покемонов'}, {'type': 'insurance', 'number': '10006', 'name': 'Аристарх Павлов'}]\n"
     ]
    }
   ],
   "source": [
    "print (documents)"
   ]
  },
  {
   "cell_type": "code",
   "execution_count": 115,
   "metadata": {},
   "outputs": [
    {
     "name": "stdout",
     "output_type": "stream",
     "text": [
      "{'1': ['2207 876234', '11-2'], '2': ['10006'], '3': []}\n"
     ]
    }
   ],
   "source": [
    "print (directories)"
   ]
  },
  {
   "cell_type": "code",
   "execution_count": null,
   "metadata": {},
   "outputs": [],
   "source": []
  }
 ],
 "metadata": {
  "kernelspec": {
   "display_name": "Python 3",
   "language": "python",
   "name": "python3"
  },
  "language_info": {
   "codemirror_mode": {
    "name": "ipython",
    "version": 3
   },
   "file_extension": ".py",
   "mimetype": "text/x-python",
   "name": "python",
   "nbconvert_exporter": "python",
   "pygments_lexer": "ipython3",
   "version": "3.8.3"
  }
 },
 "nbformat": 4,
 "nbformat_minor": 4
}
