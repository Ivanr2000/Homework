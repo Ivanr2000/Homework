{
 "cells": [
  {
   "cell_type": "markdown",
   "metadata": {},
   "source": [
    "ЗАДАЧА 1"
   ]
  },
  {
   "cell_type": "code",
   "execution_count": 6,
   "metadata": {},
   "outputs": [
    {
     "name": "stdout",
     "output_type": "stream",
     "text": [
      "Фраза 1 длиннее фразы 2\n"
     ]
    }
   ],
   "source": [
    "phrase_1 = 'Насколько проще было бы писать программы, если бы не заказчики'\n",
    "phrase_2 = '640Кб должно хватить для любых задач. Билл Гейтс (по легенде)'\n",
    "if len(phrase_1) > len(phrase_2):\n",
    "    print ('Фраза 1 длиннее фразы 2')\n",
    "elif len(phrase_1) < len(phrase_2):\n",
    "    print ('Фраза 2 длиннее фразы 1')\n",
    "else:\n",
    "    print ('Фразы равной длины')"
   ]
  },
  {
   "cell_type": "code",
   "execution_count": 7,
   "metadata": {},
   "outputs": [
    {
     "name": "stdout",
     "output_type": "stream",
     "text": [
      "Фраза 2 длиннее фразы 1\n"
     ]
    }
   ],
   "source": [
    "phrase_1 = '640Кб должно хватить для любых задач. Билл Гейтс (по легенде)'\n",
    "phrase_2 = 'Насколько проще было бы писать программы, если бы не заказчики'\n",
    "if len(phrase_1) > len(phrase_2):\n",
    "    print ('Фраза 1 длиннее фразы 2')\n",
    "elif len(phrase_1) < len(phrase_2):\n",
    "    print ('Фраза 2 длиннее фразы 1')\n",
    "else:\n",
    "    print ('Фразы равной длины')"
   ]
  },
  {
   "cell_type": "code",
   "execution_count": 8,
   "metadata": {},
   "outputs": [
    {
     "name": "stdout",
     "output_type": "stream",
     "text": [
      "Фразы равной длины\n"
     ]
    }
   ],
   "source": [
    "phrase_1 = 'Насколько проще было бы писать программы, если бы не заказчики'\n",
    "phrase_2 = 'Насколько проще было бы писать программы, если бы не заказчики'\n",
    "if len(phrase_1) > len(phrase_2):\n",
    "    print ('Фраза 1 длиннее фразы 2')\n",
    "elif len(phrase_1) < len(phrase_2):\n",
    "    print ('Фраза 2 длиннее фразы 1')\n",
    "else:\n",
    "    print ('Фразы равной длины')"
   ]
  },
  {
   "cell_type": "markdown",
   "metadata": {},
   "source": [
    "ЗАДАЧА 2"
   ]
  },
  {
   "cell_type": "markdown",
   "metadata": {},
   "source": [
    "Рабочая версия"
   ]
  },
  {
   "cell_type": "code",
   "execution_count": 86,
   "metadata": {
    "scrolled": true
   },
   "outputs": [
    {
     "name": "stdout",
     "output_type": "stream",
     "text": [
      "Високосный год\n"
     ]
    }
   ],
   "source": [
    "year = 2020\n",
    "if year%4 == 0 and year%100 == 0:\n",
    "    print (\"Обычный год\")\n",
    "elif year%4 == 0 or year%400 == 0:\n",
    "    print (\"Високосный год\")\n",
    "else:\n",
    "    print (\"Обычный год\")"
   ]
  },
  {
   "cell_type": "markdown",
   "metadata": {},
   "source": [
    "НЕ РАБОЧАЯ ВЕРСИЯ, хотя на практике говорили, что знак & заменяет and и знак | заменяет or, но это не работает по человечески!"
   ]
  },
  {
   "cell_type": "code",
   "execution_count": 3,
   "metadata": {},
   "outputs": [
    {
     "name": "stdout",
     "output_type": "stream",
     "text": [
      "Обычный год\n"
     ]
    }
   ],
   "source": [
    "#Не рабочая версия\n",
    "year = 2020\n",
    "if year%4 == 0 & year%100 == 0:\n",
    "    print (\"Обычный год\")\n",
    "elif year%4 == 0 | year%400 == 0:\n",
    "    print (\"Високосный год\")\n",
    "else:\n",
    "    print (\"Обычный год\")"
   ]
  },
  {
   "cell_type": "markdown",
   "metadata": {},
   "source": [
    "ЗАДАЧА 3"
   ]
  },
  {
   "cell_type": "code",
   "execution_count": 21,
   "metadata": {},
   "outputs": [
    {
     "name": "stdout",
     "output_type": "stream",
     "text": [
      "Введите день:29\n",
      "Введите месяц:августа\n",
      "Ваш знак зодиака: Дева\n"
     ]
    }
   ],
   "source": [
    "day = int (input('Введите день:'))\n",
    "month = input ('Введите месяц:')\n",
    "#реализовано без проверки на корректность ввода\n",
    "if ((month == 'март' or month == 'марта') and (day>=21 and day<=31)) or ((month == 'апрель' or month == 'апреля') and (day>=1 and day<=20)):\n",
    "    print ('Ваш знак зодиака: Овен')\n",
    "elif ((month == 'апрель' or month == 'апреля') and (day>=21 and day<=30)) or ((month == 'май' or month == 'мая') and (day>=1 and day<=21)):\n",
    "    print ('Ваш знак зодиака: Телец')\n",
    "elif ((month == 'май' or month == 'мая') and (day>=22 and day<=31)) or ((month == 'июнь' or month == 'июня') and (day>=1 and day<=21)):\n",
    "    print ('Ваш знак зодиака: Близнецы')\n",
    "elif ((month == 'июнь' or month == 'июня') and (day>=22 and day<=30)) or ((month == 'июль' or month == 'июля') and (day>=1 and day<=22)):\n",
    "    print ('Ваш знак зодиака: Рак')\n",
    "elif ((month == 'июль' or month == 'июля') and (day>=23 and day<=31)) or ((month == 'август' or month == 'августа') and (day>=1 and day<=21)):\n",
    "    print ('Ваш знак зодиака: Лев')\n",
    "elif ((month == 'август' or month == 'августа') and (day>=22 and day<=31)) or ((month == 'сентябрь' or month == 'сентября') and (day>=1 and day<=23)):\n",
    "    print ('Ваш знак зодиака: Дева')\n",
    "elif ((month == 'сентябрь' or month == 'сентября') and (day>=24 and day<=30)) or ((month == 'октябрь' or month == 'октября') and (day>=1 and day<=23)):\n",
    "    print ('Ваш знак зодиака: Весы')\n",
    "elif ((month == 'октябрь' or month == 'октября') and (day>=24 and day<=31)) or ((month == 'ноябрь' or month == 'ноября') and (day>=1 and day<=22)):\n",
    "    print ('Ваш знак зодиака: Скорпион')\n",
    "elif ((month == 'ноябрь' or month == 'ноября') and (day>=23 and day<=30)) or ((month == 'декабрь' or month == 'декабря') and (day>=1 and day<=22)):\n",
    "    print ('Ваш знак зодиака: Стрелец')\n",
    "elif ((month == 'декабрь' or month == 'декабря') and (day>=23 and day<=31)) or ((month == 'январь' or month == 'января') and (day>=1 and day<=20)):\n",
    "    print ('Ваш знак зодиака: Козерог')\n",
    "elif ((month == 'январь' or month == 'января') and (day>=21 and day<=31)) or ((month == 'февраль' or month == 'февраля') and (day>=1 and day<=19)):\n",
    "    print ('Ваш знак зодиака: Водолей')\n",
    "elif ((month == 'февраль' or month == 'февраля') and (day>=20 and day<=29)) or ((month == 'март' or month == 'марта') and (day>=1 and day<=20)):\n",
    "    print ('Ваш знак зодиака: Рыбы')\n",
    "else:\n",
    "    print ('Ваша дата рождения за гранью зодиакального календаря. Введите корректные день и месяц')"
   ]
  },
  {
   "cell_type": "markdown",
   "metadata": {},
   "source": [
    "ЗАДАЧА 4"
   ]
  },
  {
   "cell_type": "code",
   "execution_count": 43,
   "metadata": {},
   "outputs": [
    {
     "name": "stdout",
     "output_type": "stream",
     "text": [
      "Введите ширину товара в сантиметрах:30\n",
      "Введите длину товара в сантиметрах:30\n",
      "Введите высоту товара в сантиметрах:30\n",
      "Коробка №2\n"
     ]
    }
   ],
   "source": [
    "width = int (input ('Введите ширину товара в сантиметрах: '))\n",
    "length = int (input ('Введите длину товара в сантиметрах: '))\n",
    "height = int (input ('Введите высоту товара в сантиметрах: '))\n",
    "if width < 15 and length < 15 and height < 15:\n",
    "    print ('Коробка №1')\n",
    "elif ((width >= 50 and length <= 200) or (length >= 50 and length <= 200) or (height >= 50 and length <=200)):\n",
    "    print ('Стандартная коробка №3')\n",
    "elif length > 200:\n",
    "    print ('Упаковка для лыж')\n",
    "else:\n",
    "    print ('Коробка №2')"
   ]
  },
  {
   "cell_type": "markdown",
   "metadata": {},
   "source": [
    "ЗАДАЧА 5"
   ]
  },
  {
   "cell_type": "code",
   "execution_count": 90,
   "metadata": {},
   "outputs": [
    {
     "name": "stdout",
     "output_type": "stream",
     "text": [
      "Несчастливый билет\n"
     ]
    }
   ],
   "source": [
    "number = '423622'\n",
    "if (int(number[0])+int(number[1])+int(number[2])) == (int(number[3])+int(number[4])+int(number[5])):\n",
    "    print ('Счастливый билет')\n",
    "else:\n",
    "    print ('Несчастливый билет')"
   ]
  },
  {
   "cell_type": "markdown",
   "metadata": {},
   "source": [
    "ЗАДАЧА 6"
   ]
  },
  {
   "cell_type": "code",
   "execution_count": 81,
   "metadata": {},
   "outputs": [
    {
     "name": "stdout",
     "output_type": "stream",
     "text": [
      "Выберите вид фигуры, введите 1 для круга, 2 для треугольника, 3 для прямоугольника: 4\n",
      "Такая фигура не поддерживается\n"
     ]
    }
   ],
   "source": [
    "import math\n",
    "type_figure = (input('Выберите вид фигуры, введите 1 для круга, 2 для треугольника, 3 для прямоугольника: '))\n",
    "if type_figure == '1' or type_figure == 'круг':\n",
    "    radius = float (input ('Введите радиус круга: '))\n",
    "    print ('Площадь круга: ', 2*radius*math.pi)\n",
    "elif type_figure == '2' or type_figure == 'треугольник':\n",
    "    side_A = float (input ('Введите длину стороны A: '))\n",
    "    side_B = float (input ('Введите длину стороны B: '))\n",
    "    side_C = float (input ('Введите длину стороны C: '))\n",
    "    p = (side_A + side_B + side_C)/2\n",
    "    S = round (math.sqrt (p*(p-side_A)*(p-side_B)*(p-side_C)), 2)\n",
    "    print ('Площадь треугольника: ', round (S,2))\n",
    "elif type_figure == '3' or type_figure == 'прямоугольник':\n",
    "    side_A1 = float (input ('Введите длину стороны A: '))\n",
    "    side_B1 = float (input ('Введите длину стороны B: '))\n",
    "    print ('Площадь прямоугольника: ', round (side_A1*side_B1,2))\n",
    "else:\n",
    "    print ('Такая фигура не поддерживается')"
   ]
  },
  {
   "cell_type": "code",
   "execution_count": null,
   "metadata": {},
   "outputs": [],
   "source": []
  }
 ],
 "metadata": {
  "kernelspec": {
   "display_name": "Python 3",
   "language": "python",
   "name": "python3"
  },
  "language_info": {
   "codemirror_mode": {
    "name": "ipython",
    "version": 3
   },
   "file_extension": ".py",
   "mimetype": "text/x-python",
   "name": "python",
   "nbconvert_exporter": "python",
   "pygments_lexer": "ipython3",
   "version": "3.8.3"
  }
 },
 "nbformat": 4,
 "nbformat_minor": 4
}
