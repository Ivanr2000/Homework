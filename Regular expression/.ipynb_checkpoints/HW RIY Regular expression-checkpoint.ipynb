{
 "cells": [
  {
   "cell_type": "markdown",
   "metadata": {},
   "source": [
    "Задание №1"
   ]
  },
  {
   "cell_type": "code",
   "execution_count": 64,
   "metadata": {},
   "outputs": [
    {
     "name": "stdout",
     "output_type": "stream",
     "text": [
      "Укажите номер автомобиля: К567ЕЕ45\n",
      "Номер К567ЕЕ валиден. Регион: 45\n"
     ]
    }
   ],
   "source": [
    "import re\n",
    "\n",
    "def func_num (car_id):\n",
    "    car_number = r'([АУКВСМЕНРТОХ]{1})(\\d{3})([АУКВСМЕНРТОХ]{2})(\\d+)'\n",
    "    car_result = re.findall(car_number, car_id)\n",
    "    return (car_result)\n",
    "\n",
    "car_id = input (\"Укажите номер автомобиля: \")\n",
    "car_result = func_num(car_id)\n",
    "if len(car_result) == 0:\n",
    "    print (\"Номер не валиден\")\n",
    "else:\n",
    "    print (\"Номер \", *re.findall(r'[АУКВСМЕНРТОХ]{1}\\d{3}[АУКВСМЕНРТОХ]{2}', car_id), \" валиден. Регион: \", *(re.findall(r'(([АУКВСМЕНРТОХ]{1}\\d{3}[АУКВСМЕНРТОХ]{2})(\\d{,3}))', car_id)[0][2]), sep='')"
   ]
  },
  {
   "cell_type": "markdown",
   "metadata": {},
   "source": [
    "Задание №2"
   ]
  },
  {
   "cell_type": "code",
   "execution_count": 5,
   "metadata": {},
   "outputs": [
    {
     "name": "stdout",
     "output_type": "stream",
     "text": [
      "Напишите функцию, которая будет удалять все последовательные повторы слов из заданной строки при помощи регулярных выражений\n"
     ]
    }
   ],
   "source": [
    "some_string = 'Напишите функцию функцию, которая будет будет будет будет удалять все все все все последовательные повторы слов из из из из заданной строки строки при помощи регулярных выражений'\n",
    "def del_rep(some_string):\n",
    "    print (re.sub(r'([\\w\\d]+)(\\s+\\1)+', r'\\1', some_string))\n",
    "    \n",
    "del_rep (some_string)"
   ]
  },
  {
   "cell_type": "markdown",
   "metadata": {},
   "source": [
    "Задание №3"
   ]
  },
  {
   "cell_type": "code",
   "execution_count": 29,
   "metadata": {},
   "outputs": [
    {
     "name": "stdout",
     "output_type": "stream",
     "text": [
      "ИТ\n"
     ]
    }
   ],
   "source": [
    "some_words = 'Информационные технологии'\n",
    "def acronims (some_words):\n",
    "    acr = (re.sub (r'(\\b\\w{1})(\\w+\\b\\s*)', r'\\1', some_words).upper())\n",
    "    return (acr)\n",
    "    \n",
    "acr = acronims (some_words)\n",
    "print (acr)"
   ]
  },
  {
   "cell_type": "markdown",
   "metadata": {},
   "source": [
    "Задание №4\n",
    "Реализовано через список и словарь, так как можно обрабатывать строку с любым количеством доменнов"
   ]
  },
  {
   "cell_type": "code",
   "execution_count": 32,
   "metadata": {},
   "outputs": [
    {
     "name": "stdout",
     "output_type": "stream",
     "text": [
      "gmail.com: 2\n",
      "test.in: 1\n",
      "ya.ru: 2\n",
      "mail.ru: 1\n"
     ]
    }
   ],
   "source": [
    "emails = ['test@gmail.com', 'xyz@test.in', 'test@ya.ru', 'xyz@mail.ru', 'xyz@ya.ru', 'xyz@gmail.com']\n",
    "def list_of_domens (emails):\n",
    "    mails_list = {}\n",
    "    domen_ = []\n",
    "    for mail_ in emails:\n",
    "        domen_.extend (re.findall(r'(\\w+\\..\\w+)', mail_))\n",
    "    for dom in domen_:\n",
    "        if dom not in mails_list:\n",
    "            mails_list [dom] = 1\n",
    "        else:\n",
    "            mails_list [dom] = int (mails_list [dom])+1\n",
    "    for i,j in mails_list.items():\n",
    "        print (i,\": \",j, sep='')\n",
    "        \n",
    "list_of_domens (emails)"
   ]
  },
  {
   "cell_type": "markdown",
   "metadata": {},
   "source": [
    "Задание №5"
   ]
  },
  {
   "cell_type": "code",
   "execution_count": 33,
   "metadata": {},
   "outputs": [
    {
     "name": "stdout",
     "output_type": "stream",
     "text": [
      "Слов на гласные буквы: 9\n",
      "Слов на согласные буквы: 21\n"
     ]
    }
   ],
   "source": [
    "some_text = 'Эталонной реализацией Python является интерпретатор CPython, поддерживающий большинство активно используемых платформ. Он распространяется под свободной лицензией Python Software Foundation License, позволяющей использовать его без ограничений в любых приложениях, включая проприетарные.'\n",
    "\n",
    "def qty_words (some_text):\n",
    "    print (\"Слов на гласные буквы:\", len(re.findall(r'(\\b[аеёиоуыэюяАЕЁИОУЫЭЮЯ]{1}\\w+)', some_text)))\n",
    "    print (\"Слов на согласные буквы:\", len(re.findall(r'(\\b[^аеёиоуыэюяАЕЁИОУЫЭЮЯ .,?!]{1}\\w*)', some_text)))\n",
    "    \n",
    "qty_words (some_text)"
   ]
  },
  {
   "cell_type": "markdown",
   "metadata": {},
   "source": [
    "Задание №6\n",
    "Не понятно, почему sub вместо замены делает добавление символов и как это решить."
   ]
  },
  {
   "cell_type": "code",
   "execution_count": 34,
   "metadata": {
    "scrolled": true
   },
   "outputs": [
    {
     "name": "stdout",
     "output_type": "stream",
     "text": [
      "+7-955-555-55-55\n"
     ]
    }
   ],
   "source": [
    "phone = '8(955)555-55-55'\n",
    "def val_mob (phone):\n",
    "    phone_check = re.findall(r'([+]|\\w*|\\s*)(\\d)(\\s*|[-(]\\s*)(\\d{3})(\\s*|[-)]\\s*)(\\d{3})(\\s*|[-])(\\d{2})(\\s*|[-])(\\d{2})', phone)\n",
    "    if len (phone_check) == 0:\n",
    "        print (\"Номер не валиден\")\n",
    "    else:\n",
    "        phone_check\n",
    "        new_phone = \"+7-\"+phone_check[0][3]+\"-\"+phone_check[0][5]+\"-\"+phone_check[0][7]+\"-\"+phone_check[0][9]\n",
    "        print (new_phone)\n",
    "        \n",
    "val_mob (phone)"
   ]
  },
  {
   "cell_type": "code",
   "execution_count": 165,
   "metadata": {},
   "outputs": [
    {
     "data": {
      "text/plain": [
       "'+8\"7\"(-955)-555--55--55'"
      ]
     },
     "execution_count": 165,
     "metadata": {},
     "output_type": "execute_result"
    }
   ],
   "source": [
    "phone = '8(955)555-55-55'\n",
    "re.sub(r'([+]|\\w*|\\s*)(\\d)(\\s*|[-(]\\s*)(\\d{3})(\\s*|[-)]\\s*)(\\d{3})(\\s*|[-])(\\d{2})(\\s*|[-])(\\d{2})', r'\\1+\\2\"7\"\\3-\\4\\5-\\6\\7-\\8\\9-\\10', phone)"
   ]
  }
 ],
 "metadata": {
  "kernelspec": {
   "display_name": "Python 3",
   "language": "python",
   "name": "python3"
  },
  "language_info": {
   "codemirror_mode": {
    "name": "ipython",
    "version": 3
   },
   "file_extension": ".py",
   "mimetype": "text/x-python",
   "name": "python",
   "nbconvert_exporter": "python",
   "pygments_lexer": "ipython3",
   "version": "3.8.3"
  }
 },
 "nbformat": 4,
 "nbformat_minor": 4
}
