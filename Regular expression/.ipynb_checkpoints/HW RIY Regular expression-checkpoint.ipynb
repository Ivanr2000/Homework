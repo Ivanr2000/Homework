{
 "cells": [
  {
   "cell_type": "markdown",
   "metadata": {},
   "source": [
    "Задание №1"
   ]
  },
  {
   "cell_type": "code",
   "execution_count": 2,
   "metadata": {},
   "outputs": [
    {
     "name": "stdout",
     "output_type": "stream",
     "text": [
      "Укажите номер автомобиля: К567ММ53\n",
      "Номер К567ММ валиден. Регион: 53\n"
     ]
    }
   ],
   "source": [
    "import re\n",
    "car_id = input (\"Укажите номер автомобиля: \")\n",
    "car_number = r'([АУКВСМЕНРТОХ]{1})(\\d{3})([АУКВСМЕНРТОХ]{2})(\\d+)'\n",
    "car_result = re.findall(car_number, car_id)\n",
    "if len(car_result) == 0:\n",
    "    print (\"Номер не валиден\")\n",
    "else:\n",
    "    print (\"Номер \", car_result[0][0], car_result[0][1], car_result[0][2], \" валиден. Регион: \", car_result[0][3], sep='')"
   ]
  },
  {
   "cell_type": "markdown",
   "metadata": {},
   "source": [
    "Задание №2"
   ]
  },
  {
   "cell_type": "code",
   "execution_count": 75,
   "metadata": {},
   "outputs": [
    {
     "data": {
      "text/plain": [
       "'Напишите функцию, которая будет удалять все последовательные повторы слов из заданной строки при помощи регулярных выражений'"
      ]
     },
     "execution_count": 75,
     "metadata": {},
     "output_type": "execute_result"
    }
   ],
   "source": [
    "some_string = 'Напишите функцию функцию, которая будет будет будет будет удалять все все все все последовательные повторы слов из из из из заданной строки строки при помощи регулярных выражений'\n",
    "re.sub(r'([\\w\\d]+)(\\s+\\1)+', r'\\1', some_string)"
   ]
  },
  {
   "cell_type": "markdown",
   "metadata": {},
   "source": [
    "Задание №3\n",
    "Не понятна задача, откуда должен взяться список акронимов?"
   ]
  },
  {
   "cell_type": "code",
   "execution_count": 78,
   "metadata": {},
   "outputs": [
    {
     "data": {
      "text/plain": [
       "'ИТ'"
      ]
     },
     "execution_count": 78,
     "metadata": {},
     "output_type": "execute_result"
    }
   ],
   "source": [
    "some_words = 'Информационные технологии'\n",
    "re.sub(r'Информационн[а-я]+ технолог[а-я]+', 'ИТ', some_words)"
   ]
  },
  {
   "cell_type": "code",
   "execution_count": null,
   "metadata": {},
   "outputs": [],
   "source": [
    "some_words = 'Near Field Communication'\n",
    "re.sub(r'Near Field Communication', 'NFC', some_words)"
   ]
  },
  {
   "cell_type": "code",
   "execution_count": 82,
   "metadata": {},
   "outputs": [
    {
     "name": "stdout",
     "output_type": "stream",
     "text": [
      "Введите слова для замены: Информационные технологии\n",
      "Введите акроним:ИТ\n"
     ]
    },
    {
     "data": {
      "text/plain": [
       "'ИТ'"
      ]
     },
     "execution_count": 82,
     "metadata": {},
     "output_type": "execute_result"
    }
   ],
   "source": [
    "some_words = input (\"Введите слова для замены: \")\n",
    "some_acro = input (\"Введите акроним:\")\n",
    "re.sub(some_words, some_acro, some_words)"
   ]
  },
  {
   "cell_type": "markdown",
   "metadata": {},
   "source": [
    "Задание №4\n",
    "Реализовано через списко и словарь, так как можно обрабатывать строку с любым количеством доменнов"
   ]
  },
  {
   "cell_type": "code",
   "execution_count": 162,
   "metadata": {},
   "outputs": [
    {
     "name": "stdout",
     "output_type": "stream",
     "text": [
      "gmail.com: 2\n",
      "test.in: 1\n",
      "ya.ru: 2\n",
      "mail.ru: 1\n"
     ]
    }
   ],
   "source": [
    "emails = ['test@gmail.com', 'xyz@test.in', 'test@ya.ru', 'xyz@mail.ru', 'xyz@ya.ru', 'xyz@gmail.com']\n",
    "mails_list = {}\n",
    "domen_ = []\n",
    "for mail_ in emails:\n",
    "    domen_.extend (re.findall(r'(\\w+\\..\\w+)', mail_))\n",
    "for dom in domen_:\n",
    "    if dom not in mails_list:\n",
    "        mails_list [dom] = 1\n",
    "    else:\n",
    "        mails_list [dom] = int (mails_list [dom])+1\n",
    "for i,j in mails_list.items():\n",
    "    print (i,\": \",j, sep='')"
   ]
  },
  {
   "cell_type": "markdown",
   "metadata": {},
   "source": [
    "Задание №5"
   ]
  },
  {
   "cell_type": "code",
   "execution_count": 7,
   "metadata": {},
   "outputs": [],
   "source": [
    "some_text = 'Эталонной реализацией Python является интерпретатор CPython, поддерживающий большинство активно используемых платформ. Он распространяется под свободной лицензией Python Software Foundation License, позволяющей использовать его без ограничений в любых приложениях, включая проприетарные.'\n",
    "result_text = re.findall(r'([аэяиуоюё]{1})(\\w+)', some_text)"
   ]
  },
  {
   "cell_type": "code",
   "execution_count": 8,
   "metadata": {},
   "outputs": [
    {
     "name": "stdout",
     "output_type": "stream",
     "text": [
      "[('а', 'лонной'), ('а', 'лизацией'), ('я', 'вляется'), ('и', 'нтерпретатор'), ('о', 'ддерживающий'), ('о', 'льшинство'), ('а', 'ктивно'), ('и', 'спользуемых'), ('а', 'тформ'), ('а', 'спространяется'), ('о', 'д'), ('о', 'бодной'), ('и', 'цензией'), ('о', 'зволяющей'), ('и', 'спользовать'), ('о', 'граничений'), ('ю', 'бых'), ('и', 'ложениях'), ('ю', 'чая'), ('о', 'приетарные')]\n"
     ]
    }
   ],
   "source": [
    "print (result_text)"
   ]
  },
  {
   "cell_type": "code",
   "execution_count": null,
   "metadata": {},
   "outputs": [],
   "source": []
  }
 ],
 "metadata": {
  "kernelspec": {
   "display_name": "Python 3",
   "language": "python",
   "name": "python3"
  },
  "language_info": {
   "codemirror_mode": {
    "name": "ipython",
    "version": 3
   },
   "file_extension": ".py",
   "mimetype": "text/x-python",
   "name": "python",
   "nbconvert_exporter": "python",
   "pygments_lexer": "ipython3",
   "version": "3.8.3"
  }
 },
 "nbformat": 4,
 "nbformat_minor": 4
}
