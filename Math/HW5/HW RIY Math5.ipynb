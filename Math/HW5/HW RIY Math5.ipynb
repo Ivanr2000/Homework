{
 "cells": [
  {
   "cell_type": "code",
   "execution_count": 2,
   "metadata": {},
   "outputs": [],
   "source": [
    "import numpy as np\n",
    "from scipy.optimize import approx_fprime\n",
    "import math"
   ]
  },
  {
   "cell_type": "markdown",
   "metadata": {},
   "source": [
    "Уровень 0:\n",
    "\n",
    "Посчитайте частные производные функций:\n",
    "\n",
    "1) $f(x,y)=2x^2y^3 + 1/x + y^2x + 7$, а для этой функции также градиент в точке $(1,2)$\n",
    "\n"
   ]
  },
  {
   "cell_type": "code",
   "execution_count": 9,
   "metadata": {},
   "outputs": [],
   "source": [
    "from sympy import * \n",
    "x, y = symbols('x y')"
   ]
  },
  {
   "cell_type": "code",
   "execution_count": 15,
   "metadata": {},
   "outputs": [
    {
     "name": "stdout",
     "output_type": "stream",
     "text": [
      "Для выражения 𝑓(𝑥,𝑦)=2𝑥2𝑦3+1/𝑥+𝑦2𝑥+7 частная производная по х:  4*x*y**3 + y**2 - 1/x**2 , частная производная по y:  6*x**2*y**2 + 2*x*y\n"
     ]
    }
   ],
   "source": [
    "exp = (2*x**2*y**3) + 1/x + y**2*x + 7  \n",
    "    \n",
    "print(\"Для выражения 𝑓(𝑥,𝑦)=2𝑥2𝑦3+1/𝑥+𝑦2𝑥+7 частная производная по х: \", diff(exp, x), \", частная производная по y: \", diff(exp, y))"
   ]
  },
  {
   "cell_type": "code",
   "execution_count": 24,
   "metadata": {},
   "outputs": [],
   "source": [
    "def func (x):\n",
    "    return (2*x[0]**2*x[1]**3) + 1/x[0] + x[1]**2*x[0] + 7"
   ]
  },
  {
   "cell_type": "code",
   "execution_count": 25,
   "metadata": {},
   "outputs": [
    {
     "data": {
      "text/plain": [
       "array([35.00000024, 28.00000024])"
      ]
     },
     "execution_count": 25,
     "metadata": {},
     "output_type": "execute_result"
    }
   ],
   "source": [
    "x = np.array([1, 2])\n",
    "eps = np.sqrt(np.finfo(float).eps)\n",
    "approx_fprime(x, func, [eps, eps])"
   ]
  },
  {
   "cell_type": "markdown",
   "metadata": {},
   "source": [
    "#\n",
    "\n",
    "2) $f(x,y)=x^2y - sin(xy) + cos(x^2) + 6y$"
   ]
  },
  {
   "cell_type": "code",
   "execution_count": 19,
   "metadata": {},
   "outputs": [
    {
     "name": "stdout",
     "output_type": "stream",
     "text": [
      "Для выражения 𝑓(𝑥,𝑦)=𝑥2𝑦−𝑠𝑖𝑛(𝑥𝑦)+𝑐𝑜𝑠(𝑥2)+6𝑦 частная производная по х:  2*x*y - 2*x*sin(x**2) - y*cos(x*y) , частная производная по y:  x**2 - x*cos(x*y) + 6\n"
     ]
    }
   ],
   "source": [
    "exp = x**2*y - sin(x*y) + cos(x**2) + 6*y  \n",
    "    \n",
    "print(\"Для выражения 𝑓(𝑥,𝑦)=𝑥2𝑦−𝑠𝑖𝑛(𝑥𝑦)+𝑐𝑜𝑠(𝑥2)+6𝑦 частная производная по х: \", diff(exp, x), \", частная производная по y: \", diff(exp, y))"
   ]
  },
  {
   "cell_type": "markdown",
   "metadata": {},
   "source": [
    "#\n",
    "\n",
    "Уровень 1:\n",
    "\n",
    "Градиентный спуск своими руками:"
   ]
  },
  {
   "cell_type": "code",
   "execution_count": 4,
   "metadata": {},
   "outputs": [],
   "source": [
    "from scipy.optimize import minimize"
   ]
  },
  {
   "cell_type": "code",
   "execution_count": 5,
   "metadata": {},
   "outputs": [],
   "source": [
    "def f(x):\n",
    "    return (x[0]**2) + (x[1]**2)"
   ]
  },
  {
   "cell_type": "code",
   "execution_count": 6,
   "metadata": {},
   "outputs": [],
   "source": [
    "x = np.array([100, 200])\n",
    "learning_rate = 0.1"
   ]
  },
  {
   "cell_type": "code",
   "execution_count": 8,
   "metadata": {},
   "outputs": [
    {
     "name": "stdout",
     "output_type": "stream",
     "text": [
      "[ 80. 160.]\n",
      "[ 64. 128.]\n",
      "[ 51.2 102.4]\n",
      "[40.95999756 81.92000732]\n",
      "[32.76799316 65.53599854]\n",
      "[26.21439819 52.42879639]\n",
      "[20.97151794 41.94303894]\n",
      "[16.77721558 33.55443115]\n",
      "[13.42177277 26.84354553]\n",
      "[10.73741837 21.47483673]\n",
      "[ 8.5899353  17.17986984]\n",
      "[ 6.87194824 13.74389572]\n",
      "[ 5.49755859 10.99511662]\n",
      "[4.39804688 8.79609337]\n",
      "[3.51843748 7.03687468]\n",
      "[2.81475    5.62949977]\n",
      "[2.25180001 4.50359979]\n",
      "[1.80144    3.60287981]\n",
      "[1.441152   2.88230383]\n",
      "[1.15292161 2.30584307]\n",
      "[0.92233729 1.84467446]\n",
      "[0.73786983 1.47573956]\n",
      "[0.59029586 1.18059165]\n",
      "[0.47223669 0.94447332]\n",
      "[0.37778935 0.75557865]\n",
      "[0.30223148 0.60446292]\n",
      "[0.24178518 0.48357033]\n",
      "[0.19342814 0.38685627]\n",
      "[0.15474251 0.30948501]\n",
      "[0.12379401 0.24758801]\n",
      "[0.0990352 0.1980704]\n",
      "[0.07922816 0.15845632]\n",
      "[0.06338253 0.12676506]\n",
      "[0.05070602 0.10141204]\n",
      "[0.04056482 0.08112963]\n",
      "[0.03245185 0.06490371]\n",
      "[0.02596148 0.05192296]\n",
      "[0.02076918 0.04153837]\n",
      "[0.01661534 0.03323069]\n",
      "[0.01329227 0.02658455]\n",
      "[0.01063382 0.02126764]\n",
      "[0.00850705 0.01701411]\n",
      "[0.00680564 0.01361129]\n",
      "[0.00544451 0.01088903]\n",
      "[0.00435561 0.00871122]\n",
      "[0.00348448 0.00696898]\n",
      "[0.00278759 0.00557518]\n",
      "[0.00223007 0.00446014]\n",
      "[0.00178405 0.00356811]\n",
      "[0.00142724 0.00285449]\n",
      "[0.00114179 0.00228359]\n",
      "[0.00091343 0.00182687]\n",
      "[0.00073074 0.00146149]\n",
      "[0.00058459 0.00116919]\n",
      "[0.00046767 0.00093535]\n",
      "[0.00037414 0.00074828]\n",
      "[0.00029931 0.00059862]\n",
      "[0.00023945 0.0004789 ]\n",
      "[0.00019155 0.00038312]\n",
      "[0.00015324 0.00030649]\n",
      "[0.00012259 0.00024519]\n",
      "[9.80722733e-05 1.96151984e-04]\n",
      "[7.84563285e-05 1.56920097e-04]\n",
      "[6.27635727e-05 1.25534588e-04]\n",
      "[5.0209368e-05 1.0042618e-04]\n",
      "[4.01660043e-05 8.03394540e-05]\n",
      "[3.21313133e-05 6.42700731e-05]\n",
      "[2.57035605e-05 5.14145684e-05]\n",
      "[2.05613583e-05 4.11301646e-05]\n",
      "[1.64475965e-05 3.29026415e-05]\n",
      "[1.31565871e-05 2.63206231e-05]\n",
      "[1.05237796e-05 2.10550084e-05]\n",
      "[8.41753355e-06 1.68425166e-05]\n",
      "[6.73253672e-06 1.34725232e-05]\n",
      "[5.38453926e-06 1.07765284e-05]\n",
      "[4.30614129e-06 8.61973261e-06]\n",
      "[3.44342292e-06 6.89429597e-06]\n",
      "[2.75324822e-06 5.51394666e-06]\n",
      "[2.20110846e-06 4.40966721e-06]\n",
      "[1.75939665e-06 3.52624365e-06]\n",
      "[1.40602720e-06 2.81950481e-06]\n",
      "[1.12333165e-06 2.25411373e-06]\n",
      "[8.97175202e-07 1.80180087e-06]\n",
      "[7.16250045e-07 1.43995058e-06]\n",
      "[5.71509920e-07 1.15047035e-06]\n",
      "[4.55717820e-07 9.18886161e-07]\n",
      "[3.63084140e-07 7.33618813e-07]\n",
      "[2.88977196e-07 5.85404934e-07]\n",
      "[2.29691640e-07 4.66833831e-07]\n",
      "[1.82263196e-07 3.71976949e-07]\n",
      "[1.44320441e-07 2.96091443e-07]\n",
      "[1.13966237e-07 2.35383038e-07]\n",
      "[8.96828731e-08 1.86816314e-07]\n",
      "[7.02561824e-08 1.47962935e-07]\n",
      "[5.47148298e-08 1.16880232e-07]\n",
      "[4.22817477e-08 9.20140696e-08]\n",
      "[3.23352821e-08 7.21211396e-08]\n",
      "[2.43781095e-08 5.62067956e-08]\n",
      "[1.80123715e-08 4.34753203e-08]\n",
      "[1.29197811e-08 3.32901401e-08]\n"
     ]
    }
   ],
   "source": [
    "for i in range(100):\n",
    "    # Calculate gradient\n",
    "    eps = np.sqrt(np.finfo(float).eps)\n",
    "    grad = approx_fprime(x, f, [eps, eps])\n",
    "    \n",
    "    # Update x with gradient\n",
    "    x = x - learning_rate * grad\n",
    "    print (x)"
   ]
  },
  {
   "cell_type": "code",
   "execution_count": 9,
   "metadata": {},
   "outputs": [
    {
     "name": "stdout",
     "output_type": "stream",
     "text": [
      "Минимум достигается в:  [1.29197811e-08 3.32901401e-08]\n",
      "Значение функции в минимуме:  1.2751541739575584e-15\n"
     ]
    }
   ],
   "source": [
    "print(\"Минимум достигается в: \", x)\n",
    "print(\"Значение функции в минимуме: \", f(x))"
   ]
  },
  {
   "cell_type": "code",
   "execution_count": 11,
   "metadata": {},
   "outputs": [
    {
     "name": "stdout",
     "output_type": "stream",
     "text": [
      "Optimization terminated successfully.\n",
      "         Current function value: 0.000000\n",
      "         Iterations: 1\n",
      "         Function evaluations: 3\n"
     ]
    },
    {
     "data": {
      "text/plain": [
       " final_simplex: (array([[1.29197811e-08, 3.32901401e-08],\n",
       "       [1.35657701e-08, 3.32901401e-08],\n",
       "       [1.29197811e-08, 3.49546472e-08]]), array([1.27515417e-15, 1.29226355e-15, 1.38874810e-15]))\n",
       "           fun: 1.2751541739575584e-15\n",
       "       message: 'Optimization terminated successfully.'\n",
       "          nfev: 3\n",
       "           nit: 1\n",
       "        status: 0\n",
       "       success: True\n",
       "             x: array([1.29197811e-08, 3.32901401e-08])"
      ]
     },
     "execution_count": 11,
     "metadata": {},
     "output_type": "execute_result"
    }
   ],
   "source": [
    "minimize(f, x, method='nelder-mead', options={'xtol': 1e-8, 'disp': True})"
   ]
  },
  {
   "cell_type": "code",
   "execution_count": 12,
   "metadata": {},
   "outputs": [
    {
     "name": "stdout",
     "output_type": "stream",
     "text": [
      "Optimization terminated successfully.\n",
      "         Current function value: 0.000000\n",
      "         Iterations: 85\n",
      "         Function evaluations: 164\n"
     ]
    },
    {
     "data": {
      "text/plain": [
       " final_simplex: (array([[ 3.31391559e-09, -1.82888492e-09],\n",
       "       [-3.91522747e-09, -3.79451217e-09],\n",
       "       [-4.97134432e-09,  7.91645290e-09]]), array([1.43268566e-17, 2.97273287e-17, 8.73844908e-17]))\n",
       "           fun: 1.4326856592347756e-17\n",
       "       message: 'Optimization terminated successfully.'\n",
       "          nfev: 164\n",
       "           nit: 85\n",
       "        status: 0\n",
       "       success: True\n",
       "             x: array([ 3.31391559e-09, -1.82888492e-09])"
      ]
     },
     "execution_count": 12,
     "metadata": {},
     "output_type": "execute_result"
    }
   ],
   "source": [
    "initialx = np.array([100, 200])\n",
    "minimize(f, initialx, method='nelder-mead', options={'xtol': 1e-8, 'disp': True})"
   ]
  },
  {
   "cell_type": "code",
   "execution_count": 13,
   "metadata": {},
   "outputs": [
    {
     "data": {
      "text/plain": [
       "array([2.03703591e-08, 2.03703591e-08])"
      ]
     },
     "execution_count": 13,
     "metadata": {},
     "output_type": "execute_result"
    }
   ],
   "source": [
    "np.gradient(x)"
   ]
  },
  {
   "cell_type": "code",
   "execution_count": null,
   "metadata": {},
   "outputs": [],
   "source": []
  }
 ],
 "metadata": {
  "kernelspec": {
   "display_name": "Python 3",
   "language": "python",
   "name": "python3"
  },
  "language_info": {
   "codemirror_mode": {
    "name": "ipython",
    "version": 3
   },
   "file_extension": ".py",
   "mimetype": "text/x-python",
   "name": "python",
   "nbconvert_exporter": "python",
   "pygments_lexer": "ipython3",
   "version": "3.8.3"
  }
 },
 "nbformat": 4,
 "nbformat_minor": 4
}
