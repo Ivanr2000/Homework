{
 "cells": [
  {
   "cell_type": "code",
   "execution_count": 16,
   "metadata": {},
   "outputs": [],
   "source": [
    "import matplotlib.pyplot as plt\n",
    "import pandas as pd\n",
    "import numpy as np\n",
    "from jupyterthemes import jtplot\n",
    "from sklearn.metrics import auc, roc_curve, roc_auc_score\n",
    "%matplotlib inline\n",
    "jtplot.style()\n",
    "from sklearn.ensemble import StackingRegressor\n",
    "from sklearn.linear_model import LinearRegression\n",
    "from sklearn.tree import DecisionTreeRegressor\n",
    "from sklearn.preprocessing import StandardScaler\n",
    "from sklearn.ensemble import RandomForestRegressor\n",
    "from sklearn.model_selection import cross_validate"
   ]
  },
  {
   "cell_type": "code",
   "execution_count": 4,
   "metadata": {},
   "outputs": [],
   "source": [
    "train_data = pd.read_csv('train.csv', index_col='Id')\n",
    "test_data = pd.read_csv('test.csv', index_col='Id')\n",
    "y_test = pd.read_csv('sample_submission.csv', index_col='Id')"
   ]
  },
  {
   "cell_type": "code",
   "execution_count": 5,
   "metadata": {},
   "outputs": [],
   "source": [
    "train_data.fillna(-999, inplace=True)\n",
    "test_data.fillna(-999, inplace=True)"
   ]
  },
  {
   "cell_type": "code",
   "execution_count": 6,
   "metadata": {},
   "outputs": [],
   "source": [
    "#Находим категориальные признаки\n",
    "cat_feat = list(train_data.dtypes[train_data.dtypes == object].index)\n",
    "\n",
    "#отфильтруем непрерывные признаки\n",
    "num_feat = [f for f in train_data if f not in (cat_feat + ['ID', 'SalePrice'])]\n",
    "\n",
    "# Смотрим сколько у нас значений по каждому категориальному признаку\n",
    "cat_nunique = train_data[cat_feat].nunique()\n",
    "\n",
    "#Чтобы в разы не увеличивать число признаков при построении dummy,\n",
    "#будем использовать категориальные признаки с < 30 уникальных значений\n",
    "cat_feat = list(cat_nunique[cat_nunique < 30].index)"
   ]
  },
  {
   "cell_type": "code",
   "execution_count": 7,
   "metadata": {},
   "outputs": [],
   "source": [
    "# Создаем дамми-переменные для категорий\n",
    "dummy_train = pd.get_dummies(train_data[cat_feat], columns=cat_feat)\n",
    "dummy_test = pd.get_dummies(test_data[cat_feat], columns=cat_feat)\n",
    "\n",
    "dummy_cols = list(set(dummy_train) & set(dummy_test))\n",
    "\n",
    "dummy_train = dummy_train[dummy_cols]\n",
    "dummy_test = dummy_test[dummy_cols]"
   ]
  },
  {
   "cell_type": "code",
   "execution_count": 8,
   "metadata": {},
   "outputs": [],
   "source": [
    "# Заменяем пропуски на специальное значение -999, чтобы деревья могли их отличить\n",
    "X_train = pd.concat([train_data[num_feat],\n",
    "                     dummy_train], axis=1)\n",
    "\n",
    "X_test = pd.concat([test_data[num_feat],\n",
    "                     dummy_test], axis=1)"
   ]
  },
  {
   "cell_type": "code",
   "execution_count": 9,
   "metadata": {},
   "outputs": [],
   "source": [
    "y_train = train_data['SalePrice'] #создаем целевую переменную"
   ]
  },
  {
   "cell_type": "code",
   "execution_count": 10,
   "metadata": {},
   "outputs": [
    {
     "data": {
      "text/plain": [
       "RandomForestRegressor(max_depth=5, max_features=0.5, min_samples_leaf=20,\n",
       "                      n_estimators=10, n_jobs=-1)"
      ]
     },
     "execution_count": 10,
     "metadata": {},
     "output_type": "execute_result"
    }
   ],
   "source": [
    "lr_rf = RandomForestRegressor(n_estimators=10, max_depth=5, min_samples_leaf=20, max_features=0.5, n_jobs=-1) #создаем объект случайного леса регрессора\n",
    "lr_rf.fit(X_train, y_train) "
   ]
  },
  {
   "cell_type": "code",
   "execution_count": 54,
   "metadata": {},
   "outputs": [],
   "source": [
    "y_pred_train_rf = lr_rf.predict(X_train) #делаем предсказание на тренировочной выборке\n",
    "y_pred_test_rf = lr_rf.predict(X_test) #делаем предсказание на тестоврй выборке"
   ]
  },
  {
   "cell_type": "code",
   "execution_count": 55,
   "metadata": {},
   "outputs": [
    {
     "data": {
      "text/plain": [
       "0.8372584587771146"
      ]
     },
     "execution_count": 55,
     "metadata": {},
     "output_type": "execute_result"
    }
   ],
   "source": [
    "lr_rf.score(X_train, y_train)"
   ]
  },
  {
   "cell_type": "code",
   "execution_count": 56,
   "metadata": {},
   "outputs": [
    {
     "data": {
      "text/plain": [
       "-14.486579595278323"
      ]
     },
     "execution_count": 56,
     "metadata": {},
     "output_type": "execute_result"
    }
   ],
   "source": [
    "lr_rf.score(X_test, y_test['SalePrice'])"
   ]
  },
  {
   "cell_type": "code",
   "execution_count": 57,
   "metadata": {},
   "outputs": [
    {
     "data": {
      "text/plain": [
       "3      0.393996\n",
       "238    0.136599\n",
       "25     0.135886\n",
       "11     0.082849\n",
       "15     0.065396\n",
       "         ...   \n",
       "179    0.000000\n",
       "178    0.000000\n",
       "177    0.000000\n",
       "176    0.000000\n",
       "142    0.000000\n",
       "Length: 285, dtype: float64"
      ]
     },
     "execution_count": 57,
     "metadata": {},
     "output_type": "execute_result"
    }
   ],
   "source": [
    "#Определим важность признаков\n",
    "imp = pd.Series(lr_rf.feature_importances_)\n",
    "imp.sort_values(ascending=False)"
   ]
  },
  {
   "cell_type": "markdown",
   "metadata": {},
   "source": [
    "Наиболее важным признаком для модели является 3-ий, площадь лота"
   ]
  },
  {
   "cell_type": "markdown",
   "metadata": {},
   "source": [
    "Кросс-валидация"
   ]
  },
  {
   "cell_type": "code",
   "execution_count": 61,
   "metadata": {},
   "outputs": [
    {
     "data": {
      "text/plain": [
       "{'fit_time': array([0.06283045, 0.06682014, 0.04388118, 0.04687357, 0.06482577,\n",
       "        0.04388118, 0.04487896, 0.04388118, 0.04487896, 0.0658226 ]),\n",
       " 'score_time': array([0.00797915, 0.00698113, 0.0209446 , 0.01994658, 0.00698066,\n",
       "        0.0209446 , 0.02094364, 0.0209446 , 0.02094364, 0.00598383]),\n",
       " 'test_score': array([0.80604295, 0.82148529, 0.88451011, 0.80198736, 0.75806992,\n",
       "        0.79304311, 0.83553892, 0.81670369, 0.72019615, 0.83208153])}"
      ]
     },
     "execution_count": 61,
     "metadata": {},
     "output_type": "execute_result"
    }
   ],
   "source": [
    "cv_score_train = cross_validate( lr_rf, X_train, y_train, cv = 10, n_jobs=-1 ) #проверяем на тренировочной выборке\n",
    "cv_score_train"
   ]
  },
  {
   "cell_type": "code",
   "execution_count": 62,
   "metadata": {},
   "outputs": [
    {
     "data": {
      "text/plain": [
       "0.884510114567754"
      ]
     },
     "execution_count": 62,
     "metadata": {},
     "output_type": "execute_result"
    }
   ],
   "source": [
    "cv_score_train['test_score'][cv_score_train['test_score'].argmax()] #Выводим наилучший результат для тренировочной выборки."
   ]
  },
  {
   "cell_type": "code",
   "execution_count": 63,
   "metadata": {},
   "outputs": [
    {
     "data": {
      "text/plain": [
       "{'fit_time': array([0.02991962, 0.02892256, 0.03789854, 0.03889585, 0.03989339,\n",
       "        0.03989339, 0.03590441, 0.04388285, 0.04687452, 0.04987311]),\n",
       " 'score_time': array([0.0179522 , 0.0179522 , 0.00797868, 0.00698137, 0.00698113,\n",
       "        0.00797844, 0.0129652 , 0.0119741 , 0.01196766, 0.01196194]),\n",
       " 'test_score': array([0.8091047 , 0.88853379, 0.83497817, 0.89116156, 0.80570202,\n",
       "        0.69744484, 0.89408473, 0.74560569, 0.90733064, 0.74342982])}"
      ]
     },
     "execution_count": 63,
     "metadata": {},
     "output_type": "execute_result"
    }
   ],
   "source": [
    "cv_score_test = cross_validate( lr_rf, X_test, y_test['SalePrice'], cv = 10, n_jobs=-1 ) #проверяем на тестовой выборке\n",
    "cv_score_test"
   ]
  },
  {
   "cell_type": "code",
   "execution_count": 64,
   "metadata": {},
   "outputs": [
    {
     "data": {
      "text/plain": [
       "0.9073306435548206"
      ]
     },
     "execution_count": 64,
     "metadata": {},
     "output_type": "execute_result"
    }
   ],
   "source": [
    "cv_score_test['test_score'][cv_score_test['test_score'].argmax()] #Выводим наилучший результат для тестовой выборки."
   ]
  },
  {
   "cell_type": "code",
   "execution_count": null,
   "metadata": {},
   "outputs": [],
   "source": []
  },
  {
   "cell_type": "markdown",
   "metadata": {},
   "source": [
    "Стэккинг"
   ]
  },
  {
   "cell_type": "code",
   "execution_count": 65,
   "metadata": {},
   "outputs": [],
   "source": [
    "train_median = train_data[num_feat].median()\n",
    "\n",
    "X_train = pd.concat([train_data[num_feat].fillna(train_median),\n",
    "                     train_data[num_feat + cat_feat].isnull().astype(np.int8).add_suffix('_NaN'),\n",
    "                     dummy_train], axis=1)\n",
    "\n",
    "X_test = pd.concat([test_data[num_feat].fillna(train_median),\n",
    "                     test_data[num_feat + cat_feat].isnull().astype(np.int8).add_suffix('_NaN'),\n",
    "                     dummy_test], axis=1)\n",
    "\n",
    "scaler = StandardScaler()\n",
    "scaler.fit(X_train[num_feat])\n",
    "\n",
    "X_train[num_feat] = scaler.transform(X_train[num_feat])\n",
    "X_test[num_feat] = scaler.transform(X_test[num_feat])"
   ]
  },
  {
   "cell_type": "code",
   "execution_count": 66,
   "metadata": {},
   "outputs": [],
   "source": [
    "regressor = StackingRegressor(\n",
    "    [\n",
    "        ('li', LinearRegression()),\n",
    "        ('dt', DecisionTreeRegressor()),\n",
    "        ('rf', RandomForestRegressor())\n",
    "    ],\n",
    "LinearRegression())"
   ]
  },
  {
   "cell_type": "code",
   "execution_count": 67,
   "metadata": {},
   "outputs": [
    {
     "data": {
      "text/plain": [
       "StackingRegressor(estimators=[('li', LinearRegression()),\n",
       "                              ('dt', DecisionTreeRegressor()),\n",
       "                              ('rf', RandomForestRegressor())],\n",
       "                  final_estimator=LinearRegression())"
      ]
     },
     "execution_count": 67,
     "metadata": {},
     "output_type": "execute_result"
    }
   ],
   "source": [
    "regressor.fit(X_train, y_train)"
   ]
  },
  {
   "cell_type": "code",
   "execution_count": 69,
   "metadata": {},
   "outputs": [
    {
     "data": {
      "text/plain": [
       "array([206778.62145849, 176923.02211008, 223858.7034647 , ...,\n",
       "       261578.14603047, 139841.3477503 , 148037.42913415])"
      ]
     },
     "execution_count": 69,
     "metadata": {},
     "output_type": "execute_result"
    }
   ],
   "source": [
    "y_pred_st_train = regressor.predict(X_train)\n",
    "y_pred_st_train"
   ]
  },
  {
   "cell_type": "code",
   "execution_count": 70,
   "metadata": {},
   "outputs": [
    {
     "data": {
      "text/plain": [
       "array([128306.64560425, 153920.02228326, 181973.6549212 , ...,\n",
       "       150208.27374425, 106752.23613271, 228469.82488431])"
      ]
     },
     "execution_count": 70,
     "metadata": {},
     "output_type": "execute_result"
    }
   ],
   "source": [
    "y_pred_st_test = regressor.predict(X_test)\n",
    "y_pred_st_test"
   ]
  },
  {
   "cell_type": "code",
   "execution_count": 71,
   "metadata": {},
   "outputs": [
    {
     "data": {
      "text/plain": [
       "{'fit_time': array([15.40383363, 15.27617502, 15.31207895, 14.53615355, 15.44176364,\n",
       "        14.93109727, 14.92710805, 15.41380548, 14.94306493, 15.07072282]),\n",
       " 'score_time': array([0.01396251, 0.01495934, 0.01495934, 0.01595712, 0.01692295,\n",
       "        0.02593064, 0.01695442, 0.01399779, 0.01695514, 0.01495934]),\n",
       " 'test_score': array([0.86174922, 0.8876374 , 0.92793107, 0.75160396, 0.89039321,\n",
       "        0.89008513, 0.88568807, 0.88628669, 0.76849213, 0.85830779])}"
      ]
     },
     "execution_count": 71,
     "metadata": {},
     "output_type": "execute_result"
    }
   ],
   "source": [
    "cv_st_score_train = cross_validate( regressor, X_train, y_train, cv = 10, n_jobs=-1 ) #проверяем на тренировочной выборке\n",
    "cv_st_score_train"
   ]
  },
  {
   "cell_type": "code",
   "execution_count": 72,
   "metadata": {},
   "outputs": [
    {
     "data": {
      "text/plain": [
       "0.9279310728318642"
      ]
     },
     "execution_count": 72,
     "metadata": {},
     "output_type": "execute_result"
    }
   ],
   "source": [
    "cv_st_score_train['test_score'][cv_st_score_train['test_score'].argmax()] #Выводим наилучший результат для тренировочной выборки."
   ]
  },
  {
   "cell_type": "code",
   "execution_count": 73,
   "metadata": {},
   "outputs": [
    {
     "data": {
      "text/plain": [
       "{'fit_time': array([15.8955512 , 15.98531079, 15.95938301, 16.08405566, 15.86463428,\n",
       "        16.20173335, 16.12390804, 16.07703304, 16.52683163, 16.13488221]),\n",
       " 'score_time': array([0.01397014, 0.01396465, 0.01495767, 0.01295924, 0.01498032,\n",
       "        0.01298666, 0.01599097, 0.01496029, 0.01495981, 0.01592231]),\n",
       " 'test_score': array([1.        , 1.        , 1.        , 1.        , 0.99999997,\n",
       "        1.        , 1.        , 1.        , 1.        , 1.        ])}"
      ]
     },
     "execution_count": 73,
     "metadata": {},
     "output_type": "execute_result"
    }
   ],
   "source": [
    "cv_st_score_test = cross_validate( regressor, X_test, y_test['SalePrice'], cv = 10, n_jobs=-1 ) #проверяем на тестовой выборке\n",
    "cv_st_score_test"
   ]
  },
  {
   "cell_type": "code",
   "execution_count": 74,
   "metadata": {},
   "outputs": [
    {
     "data": {
      "text/plain": [
       "1.0"
      ]
     },
     "execution_count": 74,
     "metadata": {},
     "output_type": "execute_result"
    }
   ],
   "source": [
    "cv_st_score_test['test_score'][cv_st_score_test['test_score'].argmax()] #Выводим наилучший результат для тестовой выборки."
   ]
  },
  {
   "cell_type": "markdown",
   "metadata": {},
   "source": [
    "При кросс-валидации с использованием ансамблей моделей точность на тестовой выборке достигает 100%, что превышает точность без ансамблей."
   ]
  },
  {
   "cell_type": "code",
   "execution_count": null,
   "metadata": {},
   "outputs": [],
   "source": []
  }
 ],
 "metadata": {
  "kernelspec": {
   "display_name": "Python 3",
   "language": "python",
   "name": "python3"
  },
  "language_info": {
   "codemirror_mode": {
    "name": "ipython",
    "version": 3
   },
   "file_extension": ".py",
   "mimetype": "text/x-python",
   "name": "python",
   "nbconvert_exporter": "python",
   "pygments_lexer": "ipython3",
   "version": "3.8.5"
  }
 },
 "nbformat": 4,
 "nbformat_minor": 4
}
