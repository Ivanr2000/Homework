{
 "cells": [
  {
   "cell_type": "code",
   "execution_count": 2,
   "metadata": {},
   "outputs": [],
   "source": [
    "import pandas as pd\n",
    "import numpy as np\n",
    "from sklearn.linear_model import LinearRegression\n",
    "from sklearn.model_selection import train_test_split\n",
    "from sklearn.datasets import load_boston\n",
    "from sklearn.tree import DecisionTreeRegressor"
   ]
  },
  {
   "cell_type": "code",
   "execution_count": 3,
   "metadata": {},
   "outputs": [],
   "source": [
    "data = pd.read_csv(load_boston()['filename'], skiprows=1)"
   ]
  },
  {
   "cell_type": "code",
   "execution_count": 4,
   "metadata": {},
   "outputs": [],
   "source": [
    "all_columns = [\n",
    " 'CRIM',\n",
    " 'ZN',\n",
    " 'INDUS',\n",
    " 'CHAS',\n",
    " 'NOX',\n",
    " 'RM',\n",
    " 'AGE',\n",
    " 'DIS',\n",
    " 'RAD',\n",
    " 'TAX',\n",
    " 'PTRATIO',\n",
    " 'B',\n",
    " 'LSTAT'\n",
    "] #полный список колонок с данными для обучения"
   ]
  },
  {
   "cell_type": "code",
   "execution_count": 5,
   "metadata": {},
   "outputs": [],
   "source": [
    "X=data[all_columns]\n",
    "y=data['MEDV']"
   ]
  },
  {
   "cell_type": "code",
   "execution_count": 16,
   "metadata": {},
   "outputs": [],
   "source": [
    "X_train, X_test, y_train, y_test = train_test_split (X, y, test_size=0.3, random_state = 40)"
   ]
  },
  {
   "cell_type": "code",
   "execution_count": 17,
   "metadata": {},
   "outputs": [],
   "source": [
    "def lin_reg (X_train, X_test, y_train, y_test):\n",
    "    model_lr = LinearRegression()\n",
    "    model_lr.fit( X_train, y_train )\n",
    "    #print (\"Точность линейной регрессии\", model_lr.score(X_test, y_test))\n",
    "    return model_lr.score(X_test, y_test)    "
   ]
  },
  {
   "cell_type": "code",
   "execution_count": 18,
   "metadata": {},
   "outputs": [],
   "source": [
    "def des_tree (X_train, X_test, y_train, y_test, criterion='mse', max_depth=None, min_samples_split=2, min_samples_leaf=1):\n",
    "    model_dtr = DecisionTreeRegressor(criterion=criterion, max_depth=max_depth, min_samples_split=min_samples_split, min_samples_leaf=min_samples_leaf)\n",
    "    model_dtr.fit( X_train, y_train )\n",
    "    #print (\"Точность дерева решений критерий 'mse'\", model_dtr.score(X_test, y_test))\n",
    "    return model_dtr.score(X_test, y_test)"
   ]
  },
  {
   "cell_type": "code",
   "execution_count": 19,
   "metadata": {},
   "outputs": [
    {
     "data": {
      "text/plain": [
       "0.7215519718844154"
      ]
     },
     "execution_count": 19,
     "metadata": {},
     "output_type": "execute_result"
    }
   ],
   "source": [
    "lin_reg (X_train, X_test, y_train, y_test) #Точность линейной регрессии"
   ]
  },
  {
   "cell_type": "code",
   "execution_count": 20,
   "metadata": {},
   "outputs": [
    {
     "data": {
      "text/plain": [
       "0.6825144853751834"
      ]
     },
     "execution_count": 20,
     "metadata": {},
     "output_type": "execute_result"
    }
   ],
   "source": [
    "des_tree (X_train, X_test, y_train, y_test) #Точность дерева решений критерий 'mse' с параметрами по умолчанию"
   ]
  },
  {
   "cell_type": "code",
   "execution_count": 21,
   "metadata": {},
   "outputs": [
    {
     "data": {
      "text/plain": [
       "0.6874180121102464"
      ]
     },
     "execution_count": 21,
     "metadata": {},
     "output_type": "execute_result"
    }
   ],
   "source": [
    "des_tree (X_train, X_test, y_train, y_test, criterion='friedman_mse') #Точность дерева решений критерий 'friedman_mse' с параметрами по умолчанию"
   ]
  },
  {
   "cell_type": "code",
   "execution_count": 22,
   "metadata": {},
   "outputs": [
    {
     "data": {
      "text/plain": [
       "0.5448237999733976"
      ]
     },
     "execution_count": 22,
     "metadata": {},
     "output_type": "execute_result"
    }
   ],
   "source": [
    "des_tree (X_train, X_test, y_train, y_test, criterion='mae') #Точность дерева решений критерий 'mae' с параметрами по умолчанию"
   ]
  },
  {
   "cell_type": "code",
   "execution_count": 80,
   "metadata": {},
   "outputs": [],
   "source": [
    "def search_parameters (X_train, X_test, y_train, y_test):\n",
    "    dtr_mse_score_t = dtr_mse_score_t1 = dtr_mse_score_t2 = des_tree (X_train, X_test, y_train, y_test)\n",
    "    dtr_f_mse_score_t = dtr_f_mse_score_t1 = dtr_f_mse_score_t2 = des_tree (X_train, X_test, y_train, y_test, criterion='friedman_mse')\n",
    "    dtr_mae_score_t = dtr_mae_score_t1 = dtr_mae_score_t2 = des_tree (X_train, X_test, y_train, y_test, criterion='mae')\n",
    "    max_depth_mse = max_depth_mse1 = max_depth_f_mse = max_depth_f_mse1 = max_depth_mae = max_depth_mae1 = 1\n",
    "    min_samples_split_mse = min_samples_split_mse1 = min_samples_split_f_mse = min_samples_split_f_mse1 = min_samples_split_mae = min_samples_split_mae1 = 2\n",
    "    min_samples_leaf_mse = min_samples_leaf_f_mse = min_samples_leaf_mae = 1\n",
    "    for i in range(1, 500):\n",
    "        dtr_mse_score = des_tree (X_train, X_test, y_train, y_test, 'mse', i)\n",
    "        if dtr_mse_score > dtr_mse_score_t:\n",
    "            dtr_mse_score_t = dtr_mse_score\n",
    "            max_depth_mse = i\n",
    "            for j in range (2,500):\n",
    "                dtr_mse_score = des_tree (X_train, X_test, y_train, y_test, 'mse', i, j)\n",
    "                if dtr_mse_score > dtr_mse_score_t1:\n",
    "                    dtr_mse_score_t1 = dtr_mse_score\n",
    "                    min_samples_split_mse = j\n",
    "                    max_depth_mse1 = i\n",
    "                    for z in range (1,500):\n",
    "                        dtr_mse_score = des_tree (X_train, X_test, y_train, y_test, 'mse', i, j, z)\n",
    "                        if dtr_mse_score > dtr_mse_score_t2:\n",
    "                            dtr_mse_score_t2 = dtr_mse_score\n",
    "                            max_depth_mse1 = i\n",
    "                            min_samples_split_mse1 = j\n",
    "                            min_samples_leaf_mse = z\n",
    "#                             print (dtr_mse_score_t2, i, j, z)\n",
    "        dtr_f_mse_score = des_tree (X_train, X_test, y_train, y_test, 'friedman_mse', i)\n",
    "        if dtr_f_mse_score > dtr_f_mse_score_t:\n",
    "            dtr_f_mse_score_t = dtr_f_mse_score\n",
    "            max_depth_f_mse = i\n",
    "            for j in range (2,500):\n",
    "                dtr_f_mse_score = des_tree (X_train, X_test, y_train, y_test, 'friedman_mse', i, j)\n",
    "                if dtr_f_mse_score > dtr_f_mse_score_t1:\n",
    "                    dtr_f_mse_score_t1 = dtr_f_mse_score\n",
    "                    min_samples_split_f_mse = j\n",
    "                    max_depth_f_mse1 = i\n",
    "                    for z in range (1,500):\n",
    "                        dtr_f_mse_score = des_tree (X_train, X_test, y_train, y_test, 'friedman_mse', i, j, z)\n",
    "                        if dtr_f_mse_score > dtr_f_mse_score_t2:\n",
    "                            dtr_f_mse_score_t2 = dtr_f_mse_score\n",
    "                            max_depth_f_mse1 = i\n",
    "                            min_samples_split_f_mse1 = j\n",
    "                            min_samples_leaf_f_mse = z\n",
    "#                             print ('f', dtr_f_mse_score_t2, i, j, z)\n",
    "        dtr_mae_score = des_tree (X_train, X_test, y_train, y_test, 'mae', i)\n",
    "        if dtr_mae_score > dtr_mae_score_t:\n",
    "            dtr_mae_score_t = dtr_mae_score\n",
    "            max_depth_mae = i\n",
    "            for j in range (2,500):\n",
    "                dtr_mae_score = des_tree (X_train, X_test, y_train, y_test, 'mae', i, j)\n",
    "                if dtr_mae_score > dtr_mae_score_t1:\n",
    "                    dtr_mae_score_t1 = dtr_mae_score\n",
    "                    min_samples_split_mae = j\n",
    "                    max_depth_mae1 = i\n",
    "                    for z in range (1,500):\n",
    "                        dtr_mae_score = des_tree (X_train, X_test, y_train, y_test, 'mae', i, j, z)\n",
    "                        if dtr_mae_score > dtr_mae_score_t2:\n",
    "                            dtr_mae_score_t2 = dtr_mae_score\n",
    "                            max_depth_mae1 = i\n",
    "                            min_samples_split_mae1 = j\n",
    "                            min_samples_leaf_mae = z\n",
    "#                             print ('f', dtr_mae_score_t2, i, j, z)\n",
    "    if dtr_mse_score_t2 > dtr_f_mse_score_t2 and dtr_mse_score_t2 > dtr_mae_score_t2:\n",
    "        return \"mse\", dtr_mse_score_t2, max_depth_mse1, min_samples_split_mse1, min_samples_leaf_mse\n",
    "    elif dtr_f_mse_score_t2 > dtr_mse_score_t2 and dtr_f_mse_score_t2 > dtr_mae_score_t2:\n",
    "        print (dtr_mse_score_t2, dtr_f_mse_score_t2, dtr_mae_score_t2)\n",
    "        return \"friedman_mse\", dtr_f_mse_score_t2, max_depth_f_mse1, min_samples_split_f_mse1, min_samples_leaf_f_mse\n",
    "    else:\n",
    "        return \"mae\", dtr_mae_score_t2, max_depth_mae1, min_samples_split_mae1, min_samples_leaf_mae"
   ]
  },
  {
   "cell_type": "code",
   "execution_count": 81,
   "metadata": {},
   "outputs": [
    {
     "name": "stdout",
     "output_type": "stream",
     "text": [
      "0.7676984124330649 0.7767601499325 0.6679686510066037\n"
     ]
    }
   ],
   "source": [
    "criterion, result, depth, sample_split, sample_leaf = search_parameters (X_train, X_test, y_train, y_test)"
   ]
  },
  {
   "cell_type": "code",
   "execution_count": 82,
   "metadata": {},
   "outputs": [
    {
     "name": "stdout",
     "output_type": "stream",
     "text": [
      "Наилучший результат 0.7767601499325 достигается при использовании метода friedman_mse , максимальной глубине дерева равной 13 , минимальном количестве образцов необходимых для разделения узла равных 2 и минимальном количестве образцов необходимых для нахождения в узле равном 3\n"
     ]
    }
   ],
   "source": [
    "print (\"Наилучший результат\", result, \"достигается при использовании метода\", criterion, \", максимальной глубине дерева равной\", depth, \", минимальном количестве образцов необходимых для разделения узла равных\", sample_split, \"и минимальном количестве образцов необходимых для нахождения в узле равном\", sample_leaf)"
   ]
  },
  {
   "cell_type": "code",
   "execution_count": 83,
   "metadata": {},
   "outputs": [
    {
     "data": {
      "text/plain": [
       "0.7660541717437479"
      ]
     },
     "execution_count": 83,
     "metadata": {},
     "output_type": "execute_result"
    }
   ],
   "source": [
    "des_tree (X_train, X_test, y_train, y_test, criterion, depth, sample_split, sample_leaf)"
   ]
  },
  {
   "cell_type": "code",
   "execution_count": 84,
   "metadata": {},
   "outputs": [
    {
     "data": {
      "text/plain": [
       "0.7767601499325"
      ]
     },
     "execution_count": 84,
     "metadata": {},
     "output_type": "execute_result"
    }
   ],
   "source": [
    "des_tree (X_train, X_test, y_train, y_test, 'mse', 6, 5, 3)"
   ]
  },
  {
   "cell_type": "code",
   "execution_count": null,
   "metadata": {},
   "outputs": [],
   "source": []
  }
 ],
 "metadata": {
  "kernelspec": {
   "display_name": "Python 3",
   "language": "python",
   "name": "python3"
  },
  "language_info": {
   "codemirror_mode": {
    "name": "ipython",
    "version": 3
   },
   "file_extension": ".py",
   "mimetype": "text/x-python",
   "name": "python",
   "nbconvert_exporter": "python",
   "pygments_lexer": "ipython3",
   "version": "3.8.5"
  }
 },
 "nbformat": 4,
 "nbformat_minor": 4
}
