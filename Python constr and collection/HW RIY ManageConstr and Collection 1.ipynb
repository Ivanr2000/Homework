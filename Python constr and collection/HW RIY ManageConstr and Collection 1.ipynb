{
 "cells": [
  {
   "cell_type": "markdown",
   "metadata": {},
   "source": [
    "Задание 1"
   ]
  },
  {
   "cell_type": "code",
   "execution_count": 34,
   "metadata": {},
   "outputs": [
    {
     "name": "stdout",
     "output_type": "stream",
     "text": [
      "Пожалуйста введите слово: портфель\n",
      "тф\n"
     ]
    }
   ],
   "source": [
    "word = input (\"Пожалуйста введите слово: \")\n",
    "if len(word)%2 == 0:\n",
    "    print (word[(int ((len(word))/2-1)):(int (((len(word))/2)+1))])\n",
    "else:\n",
    "    print (word[int (len(word)/2)])"
   ]
  },
  {
   "cell_type": "markdown",
   "metadata": {},
   "source": [
    "Задание 2"
   ]
  },
  {
   "cell_type": "code",
   "execution_count": 43,
   "metadata": {},
   "outputs": [
    {
     "name": "stdout",
     "output_type": "stream",
     "text": [
      "Введите число: 0\n",
      "Результат:  0\n"
     ]
    }
   ],
   "source": [
    "sum = 0\n",
    "while True:\n",
    "    figures = int (input (\"Введите число: \"))\n",
    "    if figures != 0:\n",
    "        sum = sum + figures\n",
    "    else:\n",
    "        sum = sum + figures\n",
    "        print (\"Результат: \", sum)\n",
    "        break"
   ]
  },
  {
   "cell_type": "markdown",
   "metadata": {},
   "source": [
    "Задание 3"
   ]
  },
  {
   "cell_type": "code",
   "execution_count": 111,
   "metadata": {},
   "outputs": [
    {
     "name": "stdout",
     "output_type": "stream",
     "text": [
      "Идеальные пары:\n",
      "Alex и Emma\n",
      "Arthur и Kate\n",
      "John и Kira\n",
      "Peter и Liza\n",
      "Richard и Trisha\n"
     ]
    }
   ],
   "source": [
    "boys = ['Peter', 'Alex', 'John', 'Arthur', 'Richard']\n",
    "girls = ['Kate', 'Liza', 'Kira', 'Emma', 'Trisha']\n",
    "boys = (sorted(boys))\n",
    "girls = sorted(girls)\n",
    "couples = zip (boys, girls)\n",
    "couples_1 = list(couples)\n",
    "if len(boys) == len(girls):\n",
    "    print (\"Идеальные пары:\")\n",
    "    for i in couples_1:\n",
    "        print (i[0],\"и\",i[1])\n",
    "else:\n",
    "    print (\"Внимание, кто-то может остаться без пары!\")"
   ]
  },
  {
   "cell_type": "code",
   "execution_count": 1,
   "metadata": {},
   "outputs": [
    {
     "name": "stdout",
     "output_type": "stream",
     "text": [
      "Внимание, кто-то может остаться без пары!\n"
     ]
    }
   ],
   "source": [
    "boys = ['Peter', 'Alex', 'John', 'Arthur', 'Richard', 'Michael']\n",
    "girls = ['Kate', 'Liza', 'Kira', 'Emma', 'Trisha']\n",
    "boys = (sorted(boys))\n",
    "girls = sorted(girls)\n",
    "couples = zip (boys, girls)\n",
    "couples_1 = list(couples)\n",
    "if len(boys) == len(girls):\n",
    "    print (\"Идеальные пары:\")\n",
    "    for i in couples_1:\n",
    "        print (i[0],\" и \",i[1])\n",
    "else:\n",
    "    print (\"Внимание, кто-то может остаться без пары!\")"
   ]
  },
  {
   "cell_type": "markdown",
   "metadata": {},
   "source": [
    "Задание 4"
   ]
  },
  {
   "cell_type": "code",
   "execution_count": 112,
   "metadata": {},
   "outputs": [
    {
     "name": "stdout",
     "output_type": "stream",
     "text": [
      "Thailand - 23.9 C\n",
      "Germany - 13.8 C\n",
      "Russia - 3.7 C\n",
      "Poland - 12.0 C\n"
     ]
    }
   ],
   "source": [
    "countries_temperature = [\n",
    "['Thailand', [75.2, 77, 78.8, 73.4, 68, 75.2, 77]],\n",
    "['Germany', [57.2, 55.4, 59, 59, 53.6]],\n",
    "['Russia', [35.6, 37.4, 39.2, 41, 42.8, 39.2, 35.6]],\n",
    "['Poland', [50, 50, 53.6, 57.2, 55.4, 55.4]]\n",
    "]\n",
    "for countries in countries_temperature:\n",
    "    sum = 0.0\n",
    "    count =0\n",
    "    for i in countries[1]:\n",
    "        sum = sum + i\n",
    "        count +=1\n",
    "    average_cel = ((sum/count) - 32)*5/9\n",
    "    print (countries[0],\"-\", round (average_cel,1), \"C\")"
   ]
  },
  {
   "cell_type": "markdown",
   "metadata": {},
   "source": [
    "Задание 5"
   ]
  },
  {
   "cell_type": "code",
   "execution_count": 158,
   "metadata": {},
   "outputs": [
    {
     "name": "stdout",
     "output_type": "stream",
     "text": [
      "23.25\n"
     ]
    }
   ],
   "source": [
    "stream = [\n",
    "'2018-01-01,user1,3',\n",
    "'2018-01-07,user1,4',\n",
    "'2018-03-29,user1,1',\n",
    "'2018-04-04,user1,13',\n",
    "'2018-01-05,user2,7',\n",
    "'2018-06-14,user3,4',\n",
    "'2018-07-02,user3,10',\n",
    "'2018-03-21,user4,19',\n",
    "'2018-03-22,user4,4',\n",
    "'2018-04-22,user4,8',\n",
    "'2018-05-03,user4,9',\n",
    "'2018-05-11,user4,11',\n",
    "]\n",
    "stream_list = []\n",
    "for i in stream:\n",
    "    stream_elem = i.split(',')\n",
    "    stream_list.append(stream_elem)\n",
    "sum_visits = 0\n",
    "\n",
    "users_list =[]\n",
    "for k in stream_list:\n",
    "    if k[1] not in users_list:\n",
    "        users_list.append(k[1])\n",
    "users_count = len(users_list)\n",
    "\n",
    "for j in stream_list:\n",
    "    sum_visits = sum_visits + int (j[2])\n",
    "\n",
    "print(round(sum_visits/users_count,2))"
   ]
  },
  {
   "cell_type": "code",
   "execution_count": 159,
   "metadata": {},
   "outputs": [
    {
     "name": "stdout",
     "output_type": "stream",
     "text": [
      "145.33\n"
     ]
    }
   ],
   "source": [
    "stream = [ \n",
    "    '2018-01-01,user100,150', \n",
    "    '2018-01-07,user99,205', \n",
    "    '2018-03-29,user1001,81' \n",
    "] \n",
    "stream_list = [] \n",
    "for i in stream: \n",
    "    stream_elem = i.split(',') \n",
    "    stream_list.append(stream_elem) \n",
    "sum_visits = 0\n",
    "users_list =[] \n",
    "for k in stream_list: \n",
    "    if k[1] not in users_list: \n",
    "        users_list.append(k[1]) \n",
    "        users_count = len(users_list)\n",
    "for j in stream_list: \n",
    "    sum_visits = sum_visits + int (j[2])\n",
    "print(round(sum_visits/users_count,2))"
   ]
  },
  {
   "cell_type": "markdown",
   "metadata": {},
   "source": [
    "Задание 6"
   ]
  },
  {
   "cell_type": "code",
   "execution_count": 183,
   "metadata": {},
   "outputs": [
    {
     "name": "stdout",
     "output_type": "stream",
     "text": [
      "Введите числа разделяя их пробелом: 1 2 3 4 4 4 5 6 7 88 88 6 1 8 9\n",
      "Результат\n",
      "1 4 6 88\n"
     ]
    }
   ],
   "source": [
    "str_1 = input (\"Введите числа разделяя их пробелом: \")\n",
    "str_list = str_1.split(' ')\n",
    "un_elem = []\n",
    "for i in str_list:\n",
    "    if ((i not in un_elem) and (str_list.count(i) >1)):\n",
    "        un_elem.append(i)\n",
    "print (\"Результат\")\n",
    "print (*un_elem)\n"
   ]
  },
  {
   "cell_type": "code",
   "execution_count": null,
   "metadata": {},
   "outputs": [],
   "source": []
  }
 ],
 "metadata": {
  "kernelspec": {
   "display_name": "Python 3",
   "language": "python",
   "name": "python3"
  },
  "language_info": {
   "codemirror_mode": {
    "name": "ipython",
    "version": 3
   },
   "file_extension": ".py",
   "mimetype": "text/x-python",
   "name": "python",
   "nbconvert_exporter": "python",
   "pygments_lexer": "ipython3",
   "version": "3.8.3"
  }
 },
 "nbformat": 4,
 "nbformat_minor": 4
}
