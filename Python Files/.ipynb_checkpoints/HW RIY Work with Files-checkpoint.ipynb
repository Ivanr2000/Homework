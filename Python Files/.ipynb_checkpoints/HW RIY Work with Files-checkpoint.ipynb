{
 "cells": [
  {
   "cell_type": "code",
   "execution_count": 38,
   "metadata": {},
   "outputs": [],
   "source": [
    "import json"
   ]
  },
  {
   "cell_type": "code",
   "execution_count": 39,
   "metadata": {},
   "outputs": [],
   "source": [
    "full_dict_pur ={}\n",
    "f = open('purchase_log.txt', \"r\", encoding='utf-8')\n",
    "dict_str = f.readlines()\n",
    "for line in dict_str:\n",
    "    line = line.strip()\n",
    "    dict_pur = json.loads(line)\n",
    "    if dict_pur['user_id'] in full_dict_pur:\n",
    "        full_dict_pur [dict_pur['user_id']] = full_dict_pur[dict_pur['user_id']]+\",\"+dict_pur['category']\n",
    "    else:\n",
    "        full_dict_pur [dict_pur['user_id']] = dict_pur['category']"
   ]
  },
  {
   "cell_type": "code",
   "execution_count": 41,
   "metadata": {},
   "outputs": [],
   "source": [
    "with open ('visit_log.csv', \"r\", encoding='utf=8') as v:\n",
    "    with open ('funnel.csv', \"w\") as y:\n",
    "        for user_1 in v:\n",
    "            user_1 = v.readline()\n",
    "            user_split = user_1.strip().split(',')\n",
    "            if user_split[0] in full_dict_pur:\n",
    "                line_writing = user_1.strip()+\",\"+full_dict_pur[user_split[0]]+\"\\n\"\n",
    "                y.write(line_writing)"
   ]
  },
  {
   "cell_type": "code",
   "execution_count": null,
   "metadata": {},
   "outputs": [],
   "source": []
  }
 ],
 "metadata": {
  "kernelspec": {
   "display_name": "Python 3",
   "language": "python",
   "name": "python3"
  },
  "language_info": {
   "codemirror_mode": {
    "name": "ipython",
    "version": 3
   },
   "file_extension": ".py",
   "mimetype": "text/x-python",
   "name": "python",
   "nbconvert_exporter": "python",
   "pygments_lexer": "ipython3",
   "version": "3.8.3"
  }
 },
 "nbformat": 4,
 "nbformat_minor": 4
}
