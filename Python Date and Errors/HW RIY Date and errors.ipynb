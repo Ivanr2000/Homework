{
 "cells": [
  {
   "cell_type": "markdown",
   "metadata": {},
   "source": [
    "Задание №1"
   ]
  },
  {
   "cell_type": "code",
   "execution_count": 17,
   "metadata": {},
   "outputs": [
    {
     "name": "stdout",
     "output_type": "stream",
     "text": [
      "2002-10-02 00:00:00\n",
      "2013-10-11 00:00:00\n",
      "1977-08-18 00:00:00\n"
     ]
    }
   ],
   "source": [
    "from datetime import datetime\n",
    "MoscowTimes = 'Wednesday, October 2, 2002'\n",
    "Guardian = 'Friday, 11.10.13'\n",
    "DailyNews = 'Thursday, 18 August 1977'\n",
    "MoscowTimes_date = datetime.strptime( MoscowTimes, '%A, %B %d, %Y' )\n",
    "print (MoscowTimes_date)\n",
    "Guardian_date = datetime.strptime( Guardian, '%A, %d.%m.%y' )\n",
    "print (Guardian_date)\n",
    "DailyNews_date = datetime.strptime( DailyNews, '%A, %d %B %Y' )\n",
    "print (DailyNews_date)"
   ]
  },
  {
   "cell_type": "markdown",
   "metadata": {},
   "source": [
    "Задание №2"
   ]
  },
  {
   "cell_type": "code",
   "execution_count": 13,
   "metadata": {},
   "outputs": [
    {
     "name": "stdout",
     "output_type": "stream",
     "text": [
      "2018-04-02 - Дата корректна\n",
      "2018-02-29 - Дата не корректна\n",
      "2018-19-02 - Дата не корректна\n"
     ]
    }
   ],
   "source": [
    "stream = ['2018-04-02', '2018-02-29', '2018-19-02']\n",
    "\n",
    "def checkingdate (stream):\n",
    "    for date_ in stream:\n",
    "        try:\n",
    "            check_date = datetime.strptime( date_, '%Y-%m-%d' )\n",
    "            print (date_, \"- Дата корректна\")\n",
    "        except:\n",
    "            print (date_, \"- Дата не корректна\")\n",
    "            \n",
    "checkingdate (stream)"
   ]
  },
  {
   "cell_type": "markdown",
   "metadata": {},
   "source": [
    "Задание №3"
   ]
  },
  {
   "cell_type": "code",
   "execution_count": 35,
   "metadata": {},
   "outputs": [
    {
     "name": "stdout",
     "output_type": "stream",
     "text": [
      "Пожалуйста введите дату начала в формате YYYY-MM-DD: 2020-10-01\n",
      "Пожалуйста введите дату окончания в формате YYYY-MM-DD: 2020-10-10\n",
      "['2020-10-01', '2020-10-02', '2020-10-03', '2020-10-04', '2020-10-05', '2020-10-06', '2020-10-07', '2020-10-08', '2020-10-09', '2020-10-10', '2020-10-11']\n"
     ]
    }
   ],
   "source": [
    "from datetime import timedelta\n",
    "def date_range (start_date, end_date):\n",
    "    try:\n",
    "        date_t_start = datetime.strptime(start_date, '%Y-%m-%d')\n",
    "        date_t_end = datetime.strptime(end_date, '%Y-%m-%d')\n",
    "    except:\n",
    "        date_list = []\n",
    "        return (date_list)\n",
    "    \n",
    "    if date_t_start <= date_t_end:\n",
    "        date_list = [datetime.strftime (date_t_start, '%Y-%m-%d')]\n",
    "    else:\n",
    "        date_list = []\n",
    "        return (date_list)\n",
    "        \n",
    "    while date_t_start <= date_t_end:\n",
    "        date_t_start += timedelta(days=1)\n",
    "        date_list.append (datetime.strftime (date_t_start, '%Y-%m-%d'))\n",
    "    \n",
    "    \n",
    "    return (date_list)\n",
    "    \n",
    "start_date = input (\"Пожалуйста введите дату начала в формате YYYY-MM-DD: \")\n",
    "end_date = input (\"Пожалуйста введите дату окончания в формате YYYY-MM-DD: \")\n",
    "print (date_range (start_date, end_date))"
   ]
  },
  {
   "cell_type": "markdown",
   "metadata": {},
   "source": [
    "Задание №4"
   ]
  },
  {
   "cell_type": "code",
   "execution_count": 48,
   "metadata": {},
   "outputs": [],
   "source": [
    "DEFAULT_USER_COUNT = 3\n",
    "\n",
    "def delete_and_return_last_user(region, default_list=['A100', 'A101', 'A102']):\n",
    "    \"\"\"\n",
    "    Удаляет из списка default_list последнего пользователя\n",
    "    и возвращает ID нового последнего пользователя.\n",
    "    \"\"\"\n",
    "    element_to_delete = default_list[-1]\n",
    "    default_list.remove(element_to_delete)\n",
    "    \n",
    "    return default_list[DEFAULT_USER_COUNT-2]"
   ]
  },
  {
   "cell_type": "code",
   "execution_count": 47,
   "metadata": {},
   "outputs": [
    {
     "data": {
      "text/plain": [
       "('A101', 3)"
      ]
     },
     "execution_count": 47,
     "metadata": {},
     "output_type": "execute_result"
    }
   ],
   "source": [
    "delete_and_return_last_user(1)"
   ]
  },
  {
   "cell_type": "code",
   "execution_count": 39,
   "metadata": {},
   "outputs": [
    {
     "ename": "IndexError",
     "evalue": "list index out of range",
     "output_type": "error",
     "traceback": [
      "\u001b[1;31m---------------------------------------------------------------------------\u001b[0m",
      "\u001b[1;31mIndexError\u001b[0m                                Traceback (most recent call last)",
      "\u001b[1;32m<ipython-input-39-bfb6c4f8c48e>\u001b[0m in \u001b[0;36m<module>\u001b[1;34m\u001b[0m\n\u001b[1;32m----> 1\u001b[1;33m \u001b[0mdelete_and_return_last_user\u001b[0m\u001b[1;33m(\u001b[0m\u001b[1;36m1\u001b[0m\u001b[1;33m)\u001b[0m\u001b[1;33m\u001b[0m\u001b[1;33m\u001b[0m\u001b[0m\n\u001b[0m",
      "\u001b[1;32m<ipython-input-37-62baa56d5abd>\u001b[0m in \u001b[0;36mdelete_and_return_last_user\u001b[1;34m(region, default_list)\u001b[0m\n\u001b[0;32m      9\u001b[0m     \u001b[0mdefault_list\u001b[0m\u001b[1;33m.\u001b[0m\u001b[0mremove\u001b[0m\u001b[1;33m(\u001b[0m\u001b[0melement_to_delete\u001b[0m\u001b[1;33m)\u001b[0m\u001b[1;33m\u001b[0m\u001b[1;33m\u001b[0m\u001b[0m\n\u001b[0;32m     10\u001b[0m \u001b[1;33m\u001b[0m\u001b[0m\n\u001b[1;32m---> 11\u001b[1;33m     \u001b[1;32mreturn\u001b[0m \u001b[0mdefault_list\u001b[0m\u001b[1;33m[\u001b[0m\u001b[0mDEFAULT_USER_COUNT\u001b[0m\u001b[1;33m-\u001b[0m\u001b[1;36m2\u001b[0m\u001b[1;33m]\u001b[0m\u001b[1;33m\u001b[0m\u001b[1;33m\u001b[0m\u001b[0m\n\u001b[0m",
      "\u001b[1;31mIndexError\u001b[0m: list index out of range"
     ]
    }
   ],
   "source": [
    "delete_and_return_last_user(1)"
   ]
  },
  {
   "cell_type": "code",
   "execution_count": null,
   "metadata": {},
   "outputs": [],
   "source": [
    "1. Индекс за границами списка (нет такого индекса в списке)\n",
    "2. При первом проходе значение переменной DEFAULT_USER_COUNT = 3, в списке 3 значения, индекс последнего равен 2, \n",
    "происходит удаление последнего элемента, в списке становится 2 значения, индекс последнего 1, при возврате из переменной \n",
    "DEFAULT_USER_COUNT вычитается 2, т. е. получается 1, такой индекс в списке есть и значение возвращается.\n",
    "При втором проходе, если функцию не запускать заново, в списке уже 2 значения, индекс последнего равен 1, происходит удаление\n",
    "последнего элемента, в списке остается один элемент, его индекс 0, переменная DEFAULT_USER_COUNT все так же 3, так как она \n",
    "не обновляется в функции, при возврате из нее снова вычитвется 2, и получается 1, т. е. индекс 1 для списка, так как значения \n",
    "с таким индексом больше нет, то происходит ошибка."
   ]
  }
 ],
 "metadata": {
  "kernelspec": {
   "display_name": "Python 3",
   "language": "python",
   "name": "python3"
  },
  "language_info": {
   "codemirror_mode": {
    "name": "ipython",
    "version": 3
   },
   "file_extension": ".py",
   "mimetype": "text/x-python",
   "name": "python",
   "nbconvert_exporter": "python",
   "pygments_lexer": "ipython3",
   "version": "3.8.3"
  }
 },
 "nbformat": 4,
 "nbformat_minor": 4
}
