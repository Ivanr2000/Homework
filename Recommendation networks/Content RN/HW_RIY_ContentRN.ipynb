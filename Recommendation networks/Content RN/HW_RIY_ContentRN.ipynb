{
 "cells": [
  {
   "cell_type": "code",
   "execution_count": 1,
   "id": "30f54601",
   "metadata": {},
   "outputs": [],
   "source": [
    "import pandas as pd\n",
    "import numpy as np\n",
    "\n",
    "from tqdm.notebook import tqdm\n",
    "import matplotlib.pyplot as plt\n",
    "\n",
    "from sklearn.feature_extraction.text import TfidfTransformer, CountVectorizer\n",
    "from sklearn.neighbors import NearestNeighbors\n",
    "\n",
    "%matplotlib inline"
   ]
  },
  {
   "cell_type": "code",
   "execution_count": 15,
   "id": "792efae3",
   "metadata": {},
   "outputs": [],
   "source": [
    "links = pd.read_csv('links.csv')\n",
    "movies = pd.read_csv('movies.csv', index_col='movieId')\n",
    "ratings = pd.read_csv('ratings.csv')\n",
    "tags = pd.read_csv('tags.csv')"
   ]
  },
  {
   "cell_type": "code",
   "execution_count": 27,
   "id": "5a1698f4",
   "metadata": {},
   "outputs": [
    {
     "data": {
      "text/html": [
       "<div>\n",
       "<style scoped>\n",
       "    .dataframe tbody tr th:only-of-type {\n",
       "        vertical-align: middle;\n",
       "    }\n",
       "\n",
       "    .dataframe tbody tr th {\n",
       "        vertical-align: top;\n",
       "    }\n",
       "\n",
       "    .dataframe thead th {\n",
       "        text-align: right;\n",
       "    }\n",
       "</style>\n",
       "<table border=\"1\" class=\"dataframe\">\n",
       "  <thead>\n",
       "    <tr style=\"text-align: right;\">\n",
       "      <th></th>\n",
       "      <th>userId</th>\n",
       "      <th>movieId</th>\n",
       "      <th>tag</th>\n",
       "      <th>timestamp</th>\n",
       "    </tr>\n",
       "  </thead>\n",
       "  <tbody>\n",
       "    <tr>\n",
       "      <th>0</th>\n",
       "      <td>2</td>\n",
       "      <td>60756</td>\n",
       "      <td>funny</td>\n",
       "      <td>1445714994</td>\n",
       "    </tr>\n",
       "    <tr>\n",
       "      <th>1</th>\n",
       "      <td>2</td>\n",
       "      <td>60756</td>\n",
       "      <td>Highly quotable</td>\n",
       "      <td>1445714996</td>\n",
       "    </tr>\n",
       "    <tr>\n",
       "      <th>2</th>\n",
       "      <td>2</td>\n",
       "      <td>60756</td>\n",
       "      <td>will ferrell</td>\n",
       "      <td>1445714992</td>\n",
       "    </tr>\n",
       "    <tr>\n",
       "      <th>3</th>\n",
       "      <td>2</td>\n",
       "      <td>89774</td>\n",
       "      <td>Boxing story</td>\n",
       "      <td>1445715207</td>\n",
       "    </tr>\n",
       "    <tr>\n",
       "      <th>4</th>\n",
       "      <td>2</td>\n",
       "      <td>89774</td>\n",
       "      <td>MMA</td>\n",
       "      <td>1445715200</td>\n",
       "    </tr>\n",
       "    <tr>\n",
       "      <th>5</th>\n",
       "      <td>2</td>\n",
       "      <td>89774</td>\n",
       "      <td>Tom Hardy</td>\n",
       "      <td>1445715205</td>\n",
       "    </tr>\n",
       "    <tr>\n",
       "      <th>6</th>\n",
       "      <td>2</td>\n",
       "      <td>106782</td>\n",
       "      <td>drugs</td>\n",
       "      <td>1445715054</td>\n",
       "    </tr>\n",
       "    <tr>\n",
       "      <th>7</th>\n",
       "      <td>2</td>\n",
       "      <td>106782</td>\n",
       "      <td>Leonardo DiCaprio</td>\n",
       "      <td>1445715051</td>\n",
       "    </tr>\n",
       "    <tr>\n",
       "      <th>8</th>\n",
       "      <td>2</td>\n",
       "      <td>106782</td>\n",
       "      <td>Martin Scorsese</td>\n",
       "      <td>1445715056</td>\n",
       "    </tr>\n",
       "    <tr>\n",
       "      <th>9</th>\n",
       "      <td>7</td>\n",
       "      <td>48516</td>\n",
       "      <td>way too long</td>\n",
       "      <td>1169687325</td>\n",
       "    </tr>\n",
       "  </tbody>\n",
       "</table>\n",
       "</div>"
      ],
      "text/plain": [
       "   userId  movieId                tag   timestamp\n",
       "0       2    60756              funny  1445714994\n",
       "1       2    60756    Highly quotable  1445714996\n",
       "2       2    60756       will ferrell  1445714992\n",
       "3       2    89774       Boxing story  1445715207\n",
       "4       2    89774                MMA  1445715200\n",
       "5       2    89774          Tom Hardy  1445715205\n",
       "6       2   106782              drugs  1445715054\n",
       "7       2   106782  Leonardo DiCaprio  1445715051\n",
       "8       2   106782    Martin Scorsese  1445715056\n",
       "9       7    48516       way too long  1169687325"
      ]
     },
     "execution_count": 27,
     "metadata": {},
     "output_type": "execute_result"
    }
   ],
   "source": [
    "tags.head(10)"
   ]
  },
  {
   "cell_type": "code",
   "execution_count": 18,
   "id": "28fed9db",
   "metadata": {},
   "outputs": [],
   "source": [
    "def change_string(s):\n",
    "    return ' '.join(s.replace(' ', '').replace('-', '').split('|'))"
   ]
  },
  {
   "cell_type": "code",
   "execution_count": 19,
   "id": "428978e2",
   "metadata": {},
   "outputs": [],
   "source": [
    "movie_genres = [change_string(g) for g in movies.genres.values]"
   ]
  },
  {
   "cell_type": "code",
   "execution_count": 28,
   "id": "b2513c2f",
   "metadata": {},
   "outputs": [],
   "source": [
    "count_vect_genre = CountVectorizer()\n",
    "X_train_counts_genre = count_vect_genre.fit_transform(movie_genres)"
   ]
  },
  {
   "cell_type": "code",
   "execution_count": 29,
   "id": "eb3b7d0a",
   "metadata": {},
   "outputs": [],
   "source": [
    "tfidf_transformer_genre = TfidfTransformer()\n",
    "X_train_tfidf_genre = tfidf_transformer_genre.fit_transform(X_train_counts_genre)"
   ]
  },
  {
   "cell_type": "code",
   "execution_count": 30,
   "id": "e13faf92",
   "metadata": {},
   "outputs": [
    {
     "data": {
      "text/plain": [
       "NearestNeighbors(metric='euclidean', n_jobs=-1, n_neighbors=7)"
      ]
     },
     "execution_count": 30,
     "metadata": {},
     "output_type": "execute_result"
    }
   ],
   "source": [
    "neigh_genre = NearestNeighbors(n_neighbors=7, n_jobs=-1, metric='euclidean') \n",
    "neigh_genre.fit(X_train_tfidf_genre)"
   ]
  },
  {
   "cell_type": "code",
   "execution_count": 109,
   "id": "f9b710c0",
   "metadata": {},
   "outputs": [],
   "source": [
    "# tags_tag = [change_string(g) for g in tags.tag.values]"
   ]
  },
  {
   "cell_type": "code",
   "execution_count": 111,
   "id": "88d5f1b1",
   "metadata": {},
   "outputs": [],
   "source": [
    "# count_vect_tag = CountVectorizer(lowercase=True)\n",
    "# X_train_counts_tag = count_vect_tag.fit_transform(tags_tag)"
   ]
  },
  {
   "cell_type": "code",
   "execution_count": 114,
   "id": "92b146d5",
   "metadata": {},
   "outputs": [],
   "source": [
    "# tfidf_transformer_tag = TfidfTransformer()\n",
    "# X_train_tfidf_tag = tfidf_transformer_tag.fit_transform(X_train_counts_tag)"
   ]
  },
  {
   "cell_type": "code",
   "execution_count": 140,
   "id": "419e7c89",
   "metadata": {},
   "outputs": [
    {
     "data": {
      "text/plain": [
       "NearestNeighbors(metric='euclidean', n_jobs=-1, n_neighbors=10)"
      ]
     },
     "execution_count": 140,
     "metadata": {},
     "output_type": "execute_result"
    }
   ],
   "source": [
    "# neigh_tag = NearestNeighbors(n_neighbors=10, n_jobs=-1, metric='euclidean') \n",
    "# neigh_tag.fit(X_train_tfidf_tag)"
   ]
  },
  {
   "cell_type": "code",
   "execution_count": null,
   "id": "3773997c",
   "metadata": {},
   "outputs": [],
   "source": []
  },
  {
   "cell_type": "code",
   "execution_count": 33,
   "id": "da040dba",
   "metadata": {},
   "outputs": [],
   "source": [
    "test = change_string(\"Adventure|Comedy|Fantasy|Crime\")\n",
    "\n",
    "predict_genre = count_vect_genre.transform([test])\n",
    "X_tfidf2_genre = tfidf_transformer_genre.transform(predict_genre)\n",
    "\n",
    "res_genre = neigh_genre.kneighbors(X_tfidf2_genre, return_distance=True)"
   ]
  },
  {
   "cell_type": "code",
   "execution_count": 34,
   "id": "ea071f78",
   "metadata": {},
   "outputs": [
    {
     "data": {
      "text/plain": [
       "(array([[0.42079615, 0.53300564, 0.54288608, 0.54288608, 0.54288608,\n",
       "         0.54288608, 0.54288608]]),\n",
       " array([[6774, 9096, 5636, 6723, 3376, 7496, 9717]], dtype=int64))"
      ]
     },
     "execution_count": 34,
     "metadata": {},
     "output_type": "execute_result"
    }
   ],
   "source": [
    "res_genre"
   ]
  },
  {
   "cell_type": "code",
   "execution_count": 145,
   "id": "528c1541",
   "metadata": {},
   "outputs": [
    {
     "data": {
      "text/html": [
       "<div>\n",
       "<style scoped>\n",
       "    .dataframe tbody tr th:only-of-type {\n",
       "        vertical-align: middle;\n",
       "    }\n",
       "\n",
       "    .dataframe tbody tr th {\n",
       "        vertical-align: top;\n",
       "    }\n",
       "\n",
       "    .dataframe thead th {\n",
       "        text-align: right;\n",
       "    }\n",
       "</style>\n",
       "<table border=\"1\" class=\"dataframe\">\n",
       "  <thead>\n",
       "    <tr style=\"text-align: right;\">\n",
       "      <th></th>\n",
       "      <th>title</th>\n",
       "      <th>genres</th>\n",
       "    </tr>\n",
       "    <tr>\n",
       "      <th>movieId</th>\n",
       "      <th></th>\n",
       "      <th></th>\n",
       "    </tr>\n",
       "  </thead>\n",
       "  <tbody>\n",
       "    <tr>\n",
       "      <th>60074</th>\n",
       "      <td>Hancock (2008)</td>\n",
       "      <td>Action|Adventure|Comedy|Crime|Fantasy</td>\n",
       "    </tr>\n",
       "    <tr>\n",
       "      <th>143559</th>\n",
       "      <td>L.A. Slasher (2015)</td>\n",
       "      <td>Comedy|Crime|Fantasy</td>\n",
       "    </tr>\n",
       "    <tr>\n",
       "      <th>27368</th>\n",
       "      <td>Asterix &amp; Obelix: Mission Cleopatra (Astérix &amp;...</td>\n",
       "      <td>Adventure|Comedy|Fantasy</td>\n",
       "    </tr>\n",
       "    <tr>\n",
       "      <th>58972</th>\n",
       "      <td>Nim's Island (2008)</td>\n",
       "      <td>Adventure|Comedy|Fantasy</td>\n",
       "    </tr>\n",
       "    <tr>\n",
       "      <th>4591</th>\n",
       "      <td>Erik the Viking (1989)</td>\n",
       "      <td>Adventure|Comedy|Fantasy</td>\n",
       "    </tr>\n",
       "    <tr>\n",
       "      <th>82854</th>\n",
       "      <td>Gulliver's Travels (2010)</td>\n",
       "      <td>Adventure|Comedy|Fantasy</td>\n",
       "    </tr>\n",
       "    <tr>\n",
       "      <th>188833</th>\n",
       "      <td>The Man Who Killed Don Quixote (2018)</td>\n",
       "      <td>Adventure|Comedy|Fantasy</td>\n",
       "    </tr>\n",
       "  </tbody>\n",
       "</table>\n",
       "</div>"
      ],
      "text/plain": [
       "                                                     title  \\\n",
       "movieId                                                      \n",
       "60074                                       Hancock (2008)   \n",
       "143559                                 L.A. Slasher (2015)   \n",
       "27368    Asterix & Obelix: Mission Cleopatra (Astérix &...   \n",
       "58972                                  Nim's Island (2008)   \n",
       "4591                                Erik the Viking (1989)   \n",
       "82854                            Gulliver's Travels (2010)   \n",
       "188833               The Man Who Killed Don Quixote (2018)   \n",
       "\n",
       "                                        genres  \n",
       "movieId                                         \n",
       "60074    Action|Adventure|Comedy|Crime|Fantasy  \n",
       "143559                    Comedy|Crime|Fantasy  \n",
       "27368                 Adventure|Comedy|Fantasy  \n",
       "58972                 Adventure|Comedy|Fantasy  \n",
       "4591                  Adventure|Comedy|Fantasy  \n",
       "82854                 Adventure|Comedy|Fantasy  \n",
       "188833                Adventure|Comedy|Fantasy  "
      ]
     },
     "execution_count": 145,
     "metadata": {},
     "output_type": "execute_result"
    }
   ],
   "source": [
    "movies.iloc[res_genre[1][0]]"
   ]
  },
  {
   "cell_type": "code",
   "execution_count": null,
   "id": "9abc1b24",
   "metadata": {},
   "outputs": [],
   "source": []
  },
  {
   "cell_type": "code",
   "execution_count": 141,
   "id": "f2cd3ae9",
   "metadata": {},
   "outputs": [],
   "source": [
    "# test_tag = change_string(\"MMA|drugs|crime\")\n",
    "\n",
    "# predict_tag = count_vect_tag.transform([test_tag])\n",
    "# X_tfidf2_tag = tfidf_transformer_tag.transform(predict_tag)\n",
    "\n",
    "# res_tag = neigh_tag.kneighbors(X_tfidf2_tag, return_distance=True)"
   ]
  },
  {
   "cell_type": "code",
   "execution_count": 143,
   "id": "76a26cd4",
   "metadata": {},
   "outputs": [
    {
     "data": {
      "text/plain": [
       "(array([[0.79869943, 0.96146421, 0.96146421, 0.96146421, 0.96146421,\n",
       "         0.96146421, 0.96146421, 0.96146421, 0.96146421, 0.96146421]]),\n",
       " array([[   4, 2055,  727, 3434, 3603, 2364, 1519, 2662,    6,  891]],\n",
       "       dtype=int64))"
      ]
     },
     "execution_count": 143,
     "metadata": {},
     "output_type": "execute_result"
    }
   ],
   "source": [
    "# res_tag"
   ]
  },
  {
   "cell_type": "code",
   "execution_count": 144,
   "id": "e47be059",
   "metadata": {},
   "outputs": [
    {
     "data": {
      "text/html": [
       "<div>\n",
       "<style scoped>\n",
       "    .dataframe tbody tr th:only-of-type {\n",
       "        vertical-align: middle;\n",
       "    }\n",
       "\n",
       "    .dataframe tbody tr th {\n",
       "        vertical-align: top;\n",
       "    }\n",
       "\n",
       "    .dataframe thead th {\n",
       "        text-align: right;\n",
       "    }\n",
       "</style>\n",
       "<table border=\"1\" class=\"dataframe\">\n",
       "  <thead>\n",
       "    <tr style=\"text-align: right;\">\n",
       "      <th></th>\n",
       "      <th>userId</th>\n",
       "      <th>movieId</th>\n",
       "      <th>tag</th>\n",
       "      <th>timestamp</th>\n",
       "    </tr>\n",
       "  </thead>\n",
       "  <tbody>\n",
       "    <tr>\n",
       "      <th>4</th>\n",
       "      <td>2</td>\n",
       "      <td>89774</td>\n",
       "      <td>MMA</td>\n",
       "      <td>1445715200</td>\n",
       "    </tr>\n",
       "    <tr>\n",
       "      <th>2055</th>\n",
       "      <td>474</td>\n",
       "      <td>6002</td>\n",
       "      <td>drugs</td>\n",
       "      <td>1138307168</td>\n",
       "    </tr>\n",
       "    <tr>\n",
       "      <th>727</th>\n",
       "      <td>424</td>\n",
       "      <td>296</td>\n",
       "      <td>drugs</td>\n",
       "      <td>1457844550</td>\n",
       "    </tr>\n",
       "    <tr>\n",
       "      <th>3434</th>\n",
       "      <td>599</td>\n",
       "      <td>296</td>\n",
       "      <td>drugs</td>\n",
       "      <td>1498456348</td>\n",
       "    </tr>\n",
       "    <tr>\n",
       "      <th>3603</th>\n",
       "      <td>599</td>\n",
       "      <td>1732</td>\n",
       "      <td>drugs</td>\n",
       "      <td>1498456286</td>\n",
       "    </tr>\n",
       "    <tr>\n",
       "      <th>2364</th>\n",
       "      <td>474</td>\n",
       "      <td>8645</td>\n",
       "      <td>drugs</td>\n",
       "      <td>1138040155</td>\n",
       "    </tr>\n",
       "    <tr>\n",
       "      <th>1519</th>\n",
       "      <td>474</td>\n",
       "      <td>1953</td>\n",
       "      <td>drugs</td>\n",
       "      <td>1137368199</td>\n",
       "    </tr>\n",
       "    <tr>\n",
       "      <th>2662</th>\n",
       "      <td>477</td>\n",
       "      <td>57669</td>\n",
       "      <td>drugs</td>\n",
       "      <td>1269832564</td>\n",
       "    </tr>\n",
       "    <tr>\n",
       "      <th>6</th>\n",
       "      <td>2</td>\n",
       "      <td>106782</td>\n",
       "      <td>drugs</td>\n",
       "      <td>1445715054</td>\n",
       "    </tr>\n",
       "    <tr>\n",
       "      <th>891</th>\n",
       "      <td>424</td>\n",
       "      <td>27020</td>\n",
       "      <td>drugs</td>\n",
       "      <td>1457901575</td>\n",
       "    </tr>\n",
       "  </tbody>\n",
       "</table>\n",
       "</div>"
      ],
      "text/plain": [
       "      userId  movieId    tag   timestamp\n",
       "4          2    89774    MMA  1445715200\n",
       "2055     474     6002  drugs  1138307168\n",
       "727      424      296  drugs  1457844550\n",
       "3434     599      296  drugs  1498456348\n",
       "3603     599     1732  drugs  1498456286\n",
       "2364     474     8645  drugs  1138040155\n",
       "1519     474     1953  drugs  1137368199\n",
       "2662     477    57669  drugs  1269832564\n",
       "6          2   106782  drugs  1445715054\n",
       "891      424    27020  drugs  1457901575"
      ]
     },
     "execution_count": 144,
     "metadata": {},
     "output_type": "execute_result"
    }
   ],
   "source": [
    "# tags.iloc[res_tag[1][0]]"
   ]
  },
  {
   "cell_type": "code",
   "execution_count": null,
   "id": "728b6a55",
   "metadata": {},
   "outputs": [],
   "source": []
  },
  {
   "cell_type": "code",
   "execution_count": 154,
   "id": "551f9149",
   "metadata": {},
   "outputs": [],
   "source": [
    "movies_with_tags = movies.join(tags.set_index('movieId'), on='movieId')"
   ]
  },
  {
   "cell_type": "code",
   "execution_count": 160,
   "id": "1bfda1e6",
   "metadata": {},
   "outputs": [
    {
     "data": {
      "text/html": [
       "<div>\n",
       "<style scoped>\n",
       "    .dataframe tbody tr th:only-of-type {\n",
       "        vertical-align: middle;\n",
       "    }\n",
       "\n",
       "    .dataframe tbody tr th {\n",
       "        vertical-align: top;\n",
       "    }\n",
       "\n",
       "    .dataframe thead th {\n",
       "        text-align: right;\n",
       "    }\n",
       "</style>\n",
       "<table border=\"1\" class=\"dataframe\">\n",
       "  <thead>\n",
       "    <tr style=\"text-align: right;\">\n",
       "      <th></th>\n",
       "      <th>title</th>\n",
       "      <th>genres</th>\n",
       "      <th>userId</th>\n",
       "      <th>tag</th>\n",
       "      <th>timestamp</th>\n",
       "    </tr>\n",
       "    <tr>\n",
       "      <th>movieId</th>\n",
       "      <th></th>\n",
       "      <th></th>\n",
       "      <th></th>\n",
       "      <th></th>\n",
       "      <th></th>\n",
       "    </tr>\n",
       "  </thead>\n",
       "  <tbody>\n",
       "    <tr>\n",
       "      <th>1</th>\n",
       "      <td>Toy Story (1995)</td>\n",
       "      <td>Adventure|Animation|Children|Comedy|Fantasy</td>\n",
       "      <td>336.0</td>\n",
       "      <td>pixar</td>\n",
       "      <td>1.139046e+09</td>\n",
       "    </tr>\n",
       "    <tr>\n",
       "      <th>1</th>\n",
       "      <td>Toy Story (1995)</td>\n",
       "      <td>Adventure|Animation|Children|Comedy|Fantasy</td>\n",
       "      <td>474.0</td>\n",
       "      <td>pixar</td>\n",
       "      <td>1.137207e+09</td>\n",
       "    </tr>\n",
       "    <tr>\n",
       "      <th>1</th>\n",
       "      <td>Toy Story (1995)</td>\n",
       "      <td>Adventure|Animation|Children|Comedy|Fantasy</td>\n",
       "      <td>567.0</td>\n",
       "      <td>fun</td>\n",
       "      <td>1.525286e+09</td>\n",
       "    </tr>\n",
       "    <tr>\n",
       "      <th>2</th>\n",
       "      <td>Jumanji (1995)</td>\n",
       "      <td>Adventure|Children|Fantasy</td>\n",
       "      <td>62.0</td>\n",
       "      <td>fantasy</td>\n",
       "      <td>1.528844e+09</td>\n",
       "    </tr>\n",
       "    <tr>\n",
       "      <th>2</th>\n",
       "      <td>Jumanji (1995)</td>\n",
       "      <td>Adventure|Children|Fantasy</td>\n",
       "      <td>62.0</td>\n",
       "      <td>magic board game</td>\n",
       "      <td>1.528844e+09</td>\n",
       "    </tr>\n",
       "    <tr>\n",
       "      <th>...</th>\n",
       "      <td>...</td>\n",
       "      <td>...</td>\n",
       "      <td>...</td>\n",
       "      <td>...</td>\n",
       "      <td>...</td>\n",
       "    </tr>\n",
       "    <tr>\n",
       "      <th>2941</th>\n",
       "      <td>South Pacific (1958)</td>\n",
       "      <td>Musical|Romance|War</td>\n",
       "      <td>474.0</td>\n",
       "      <td>island</td>\n",
       "      <td>1.138032e+09</td>\n",
       "    </tr>\n",
       "    <tr>\n",
       "      <th>2942</th>\n",
       "      <td>Flashdance (1983)</td>\n",
       "      <td>Drama|Romance</td>\n",
       "      <td>NaN</td>\n",
       "      <td>NaN</td>\n",
       "      <td>NaN</td>\n",
       "    </tr>\n",
       "    <tr>\n",
       "      <th>2943</th>\n",
       "      <td>Indochine (1992)</td>\n",
       "      <td>Drama|Romance</td>\n",
       "      <td>474.0</td>\n",
       "      <td>Vietnam</td>\n",
       "      <td>1.138804e+09</td>\n",
       "    </tr>\n",
       "    <tr>\n",
       "      <th>2944</th>\n",
       "      <td>Dirty Dozen, The (1967)</td>\n",
       "      <td>Action|Drama|War</td>\n",
       "      <td>NaN</td>\n",
       "      <td>NaN</td>\n",
       "      <td>NaN</td>\n",
       "    </tr>\n",
       "    <tr>\n",
       "      <th>2946</th>\n",
       "      <td>Help! (1965)</td>\n",
       "      <td>Comedy|Musical</td>\n",
       "      <td>NaN</td>\n",
       "      <td>NaN</td>\n",
       "      <td>NaN</td>\n",
       "    </tr>\n",
       "  </tbody>\n",
       "</table>\n",
       "<p>3000 rows × 5 columns</p>\n",
       "</div>"
      ],
      "text/plain": [
       "                           title                                       genres  \\\n",
       "movieId                                                                         \n",
       "1               Toy Story (1995)  Adventure|Animation|Children|Comedy|Fantasy   \n",
       "1               Toy Story (1995)  Adventure|Animation|Children|Comedy|Fantasy   \n",
       "1               Toy Story (1995)  Adventure|Animation|Children|Comedy|Fantasy   \n",
       "2                 Jumanji (1995)                   Adventure|Children|Fantasy   \n",
       "2                 Jumanji (1995)                   Adventure|Children|Fantasy   \n",
       "...                          ...                                          ...   \n",
       "2941        South Pacific (1958)                          Musical|Romance|War   \n",
       "2942           Flashdance (1983)                                Drama|Romance   \n",
       "2943            Indochine (1992)                                Drama|Romance   \n",
       "2944     Dirty Dozen, The (1967)                             Action|Drama|War   \n",
       "2946                Help! (1965)                               Comedy|Musical   \n",
       "\n",
       "         userId               tag     timestamp  \n",
       "movieId                                          \n",
       "1         336.0             pixar  1.139046e+09  \n",
       "1         474.0             pixar  1.137207e+09  \n",
       "1         567.0               fun  1.525286e+09  \n",
       "2          62.0           fantasy  1.528844e+09  \n",
       "2          62.0  magic board game  1.528844e+09  \n",
       "...         ...               ...           ...  \n",
       "2941      474.0            island  1.138032e+09  \n",
       "2942        NaN               NaN           NaN  \n",
       "2943      474.0           Vietnam  1.138804e+09  \n",
       "2944        NaN               NaN           NaN  \n",
       "2946        NaN               NaN           NaN  \n",
       "\n",
       "[3000 rows x 5 columns]"
      ]
     },
     "execution_count": 160,
     "metadata": {},
     "output_type": "execute_result"
    }
   ],
   "source": [
    "movies_with_tags.head(3000)"
   ]
  },
  {
   "cell_type": "code",
   "execution_count": 173,
   "id": "bba4cef5",
   "metadata": {},
   "outputs": [],
   "source": [
    "movies_with_tags.dropna(inplace=True)"
   ]
  },
  {
   "cell_type": "code",
   "execution_count": 175,
   "id": "15430f49",
   "metadata": {},
   "outputs": [
    {
     "data": {
      "application/vnd.jupyter.widget-view+json": {
       "model_id": "140ec06154934ca0ad6efc4781d639b7",
       "version_major": 2,
       "version_minor": 0
      },
      "text/plain": [
       "  0%|          | 0/1572 [00:00<?, ?it/s]"
      ]
     },
     "metadata": {},
     "output_type": "display_data"
    }
   ],
   "source": [
    "tag_strings = []\n",
    "movies_1 = []\n",
    "\n",
    "for movie, group in tqdm(movies_with_tags.groupby('title')):\n",
    "    tag_strings.append(' '.join([str(s).replace(' ', '').replace('-', '') for s in group.tag.values]))\n",
    "    movies_1.append(movie)"
   ]
  },
  {
   "cell_type": "code",
   "execution_count": 176,
   "id": "710d4c99",
   "metadata": {},
   "outputs": [
    {
     "data": {
      "text/plain": [
       "['artistic Funny humorous inspiring intelligent quirky romance ZooeyDeschanel',\n",
       " 'lawyers',\n",
       " 'creepy suspense',\n",
       " 'Shakespearesortof',\n",
       " 'dogs remake']"
      ]
     },
     "execution_count": 176,
     "metadata": {},
     "output_type": "execute_result"
    }
   ],
   "source": [
    "tag_strings[:5]"
   ]
  },
  {
   "cell_type": "code",
   "execution_count": 183,
   "id": "f89b74a2",
   "metadata": {},
   "outputs": [],
   "source": [
    "count_vect_tag_1 = CountVectorizer()\n",
    "X_train_counts_tag_1 = count_vect_tag_1.fit_transform(tag_strings)"
   ]
  },
  {
   "cell_type": "code",
   "execution_count": 184,
   "id": "75183f8e",
   "metadata": {},
   "outputs": [],
   "source": [
    "tfidf_transformer_tag_1 = TfidfTransformer()\n",
    "X_train_tfidf_tag_1 = tfidf_transformer_tag_1.fit_transform(X_train_counts_tag_1)"
   ]
  },
  {
   "cell_type": "code",
   "execution_count": 185,
   "id": "1c8ac843",
   "metadata": {},
   "outputs": [
    {
     "data": {
      "text/plain": [
       "NearestNeighbors(metric='manhattan', n_jobs=-1, n_neighbors=10)"
      ]
     },
     "execution_count": 185,
     "metadata": {},
     "output_type": "execute_result"
    }
   ],
   "source": [
    "neigh_tag_1 = NearestNeighbors(n_neighbors=10, n_jobs=-1, metric='manhattan') \n",
    "neigh_tag_1.fit(X_train_tfidf_tag_1)"
   ]
  },
  {
   "cell_type": "code",
   "execution_count": 186,
   "id": "086d6074",
   "metadata": {},
   "outputs": [
    {
     "data": {
      "text/plain": [
       "'L.A.'"
      ]
     },
     "execution_count": 186,
     "metadata": {},
     "output_type": "execute_result"
    }
   ],
   "source": [
    "tag_strings[822]"
   ]
  },
  {
   "cell_type": "code",
   "execution_count": 188,
   "id": "45e2d92e",
   "metadata": {},
   "outputs": [],
   "source": [
    "test_tag_1 = change_string('pixar pixar fun')\n",
    "\n",
    "predict_tag_1 = count_vect_tag_1.transform([test_tag_1])\n",
    "X_tfidf2_tag_1 = tfidf_transformer_tag_1.transform(predict_tag_1)\n",
    "\n",
    "res_tag_1 = neigh_tag_1.kneighbors(X_tfidf2_tag_1, return_distance=True)"
   ]
  },
  {
   "cell_type": "code",
   "execution_count": 189,
   "id": "4b0d22a5",
   "metadata": {},
   "outputs": [
    {
     "data": {
      "text/plain": [
       "(array([[0., 0., 1., 1., 1., 1., 1., 1., 1., 1.]]),\n",
       " array([[661, 822, 947, 955, 954, 953, 951, 950, 949, 959]], dtype=int64))"
      ]
     },
     "execution_count": 189,
     "metadata": {},
     "output_type": "execute_result"
    }
   ],
   "source": [
    "res_tag_1"
   ]
  },
  {
   "cell_type": "code",
   "execution_count": 190,
   "id": "3f8c599a",
   "metadata": {},
   "outputs": [
    {
     "name": "stdout",
     "output_type": "stream",
     "text": [
      "In a Lonely Place (1950)\n",
      "Magnolia (1999)\n",
      "Neon Genesis Evangelion: Death & Rebirth (Shin seiki Evangelion Gekijô-ban: Shito shinsei) (1997)\n",
      "Night and Day (1946)\n",
      "Nicholas Nickleby (2002)\n",
      "Niagara (1953)\n",
      "Never Been Kissed (1999)\n",
      "Network (1976)\n",
      "Net, The (1995)\n",
      "Night of the Hunter, The (1955)\n"
     ]
    }
   ],
   "source": [
    "for i in res_tag_1[1][0]:\n",
    "    print(movies_1[i])"
   ]
  },
  {
   "cell_type": "code",
   "execution_count": null,
   "id": "e9d30610",
   "metadata": {},
   "outputs": [],
   "source": []
  },
  {
   "cell_type": "code",
   "execution_count": null,
   "id": "e5c1e1e8",
   "metadata": {},
   "outputs": [],
   "source": []
  },
  {
   "cell_type": "code",
   "execution_count": 191,
   "id": "8b1e34b8",
   "metadata": {},
   "outputs": [
    {
     "data": {
      "text/html": [
       "<div>\n",
       "<style scoped>\n",
       "    .dataframe tbody tr th:only-of-type {\n",
       "        vertical-align: middle;\n",
       "    }\n",
       "\n",
       "    .dataframe tbody tr th {\n",
       "        vertical-align: top;\n",
       "    }\n",
       "\n",
       "    .dataframe thead th {\n",
       "        text-align: right;\n",
       "    }\n",
       "</style>\n",
       "<table border=\"1\" class=\"dataframe\">\n",
       "  <thead>\n",
       "    <tr style=\"text-align: right;\">\n",
       "      <th></th>\n",
       "      <th>userId</th>\n",
       "      <th>movieId</th>\n",
       "      <th>rating</th>\n",
       "      <th>timestamp</th>\n",
       "    </tr>\n",
       "  </thead>\n",
       "  <tbody>\n",
       "    <tr>\n",
       "      <th>0</th>\n",
       "      <td>1</td>\n",
       "      <td>1</td>\n",
       "      <td>4.0</td>\n",
       "      <td>964982703</td>\n",
       "    </tr>\n",
       "    <tr>\n",
       "      <th>1</th>\n",
       "      <td>1</td>\n",
       "      <td>3</td>\n",
       "      <td>4.0</td>\n",
       "      <td>964981247</td>\n",
       "    </tr>\n",
       "    <tr>\n",
       "      <th>2</th>\n",
       "      <td>1</td>\n",
       "      <td>6</td>\n",
       "      <td>4.0</td>\n",
       "      <td>964982224</td>\n",
       "    </tr>\n",
       "    <tr>\n",
       "      <th>3</th>\n",
       "      <td>1</td>\n",
       "      <td>47</td>\n",
       "      <td>5.0</td>\n",
       "      <td>964983815</td>\n",
       "    </tr>\n",
       "    <tr>\n",
       "      <th>4</th>\n",
       "      <td>1</td>\n",
       "      <td>50</td>\n",
       "      <td>5.0</td>\n",
       "      <td>964982931</td>\n",
       "    </tr>\n",
       "  </tbody>\n",
       "</table>\n",
       "</div>"
      ],
      "text/plain": [
       "   userId  movieId  rating  timestamp\n",
       "0       1        1     4.0  964982703\n",
       "1       1        3     4.0  964981247\n",
       "2       1        6     4.0  964982224\n",
       "3       1       47     5.0  964983815\n",
       "4       1       50     5.0  964982931"
      ]
     },
     "execution_count": 191,
     "metadata": {},
     "output_type": "execute_result"
    }
   ],
   "source": [
    "ratings.head()"
   ]
  },
  {
   "cell_type": "markdown",
   "id": "97b8c99b",
   "metadata": {},
   "source": [
    "Отберем оценки проставленные пользователем с userId = 1"
   ]
  },
  {
   "cell_type": "code",
   "execution_count": 198,
   "id": "61b642c5",
   "metadata": {},
   "outputs": [],
   "source": [
    "user_with_id_1 = ratings[ratings.userId==1]"
   ]
  },
  {
   "cell_type": "markdown",
   "id": "357e35fc",
   "metadata": {},
   "source": [
    "Рассчитаем \"Средние оценки (+ median, variance, etc.)\" пользователя, с помощью describe"
   ]
  },
  {
   "cell_type": "code",
   "execution_count": 204,
   "id": "24f832dc",
   "metadata": {},
   "outputs": [
    {
     "data": {
      "text/plain": [
       "count    232.000000\n",
       "mean       4.366379\n",
       "std        0.800048\n",
       "min        1.000000\n",
       "25%        4.000000\n",
       "50%        5.000000\n",
       "75%        5.000000\n",
       "max        5.000000\n",
       "Name: rating, dtype: float64"
      ]
     },
     "execution_count": 204,
     "metadata": {},
     "output_type": "execute_result"
    }
   ],
   "source": [
    "user_with_id_1.rating.describe()"
   ]
  },
  {
   "cell_type": "markdown",
   "id": "92ae2111",
   "metadata": {},
   "source": [
    "Пользователь проставил 232 оценки, средний балл - 4,366379, стандартное отклонение - 0,800048"
   ]
  },
  {
   "cell_type": "code",
   "execution_count": 205,
   "id": "9cb28c2d",
   "metadata": {},
   "outputs": [
    {
     "data": {
      "text/plain": [
       "5.0"
      ]
     },
     "execution_count": 205,
     "metadata": {},
     "output_type": "execute_result"
    }
   ],
   "source": [
    "user_with_id_1.rating.median() #медиана"
   ]
  },
  {
   "cell_type": "code",
   "execution_count": 207,
   "id": "d24532ce",
   "metadata": {},
   "outputs": [
    {
     "data": {
      "text/plain": [
       "0.640076877145844"
      ]
     },
     "execution_count": 207,
     "metadata": {},
     "output_type": "execute_result"
    }
   ],
   "source": [
    "user_with_id_1.rating.var() #variance"
   ]
  },
  {
   "cell_type": "markdown",
   "id": "f342ebda",
   "metadata": {},
   "source": [
    "Отберем оценки проставленные фильму с movieId = 1"
   ]
  },
  {
   "cell_type": "code",
   "execution_count": 210,
   "id": "57abee6c",
   "metadata": {},
   "outputs": [],
   "source": [
    "movie_with_id_1 = ratings[ratings.movieId==1]"
   ]
  },
  {
   "cell_type": "markdown",
   "id": "7b1b6d98",
   "metadata": {},
   "source": [
    "Рассчитаем \"Средние оценки (+ median, variance, etc.)\" фильма, с помощью describe"
   ]
  },
  {
   "cell_type": "code",
   "execution_count": 211,
   "id": "57bc8707",
   "metadata": {},
   "outputs": [
    {
     "data": {
      "text/plain": [
       "count    215.000000\n",
       "mean       3.920930\n",
       "std        0.834859\n",
       "min        0.500000\n",
       "25%        3.500000\n",
       "50%        4.000000\n",
       "75%        4.500000\n",
       "max        5.000000\n",
       "Name: rating, dtype: float64"
      ]
     },
     "execution_count": 211,
     "metadata": {},
     "output_type": "execute_result"
    }
   ],
   "source": [
    "movie_with_id_1.rating.describe()"
   ]
  },
  {
   "cell_type": "markdown",
   "id": "2812029f",
   "metadata": {},
   "source": [
    "Фмльм с идентификатором 1 получил 215 оценок, средний балл - 3,920930, стандартное отклонение - 0,834859"
   ]
  },
  {
   "cell_type": "code",
   "execution_count": 213,
   "id": "02f25ee9",
   "metadata": {},
   "outputs": [
    {
     "data": {
      "text/plain": [
       "4.0"
      ]
     },
     "execution_count": 213,
     "metadata": {},
     "output_type": "execute_result"
    }
   ],
   "source": [
    "movie_with_id_1.rating.median() #медиана"
   ]
  },
  {
   "cell_type": "code",
   "execution_count": 214,
   "id": "803fe124",
   "metadata": {},
   "outputs": [
    {
     "data": {
      "text/plain": [
       "0.6969897848293848"
      ]
     },
     "execution_count": 214,
     "metadata": {},
     "output_type": "execute_result"
    }
   ],
   "source": [
    "movie_with_id_1.rating.var() #variance"
   ]
  },
  {
   "cell_type": "code",
   "execution_count": null,
   "id": "f83e2b4d",
   "metadata": {},
   "outputs": [],
   "source": []
  }
 ],
 "metadata": {
  "kernelspec": {
   "display_name": "Python 3",
   "language": "python",
   "name": "python3"
  },
  "language_info": {
   "codemirror_mode": {
    "name": "ipython",
    "version": 3
   },
   "file_extension": ".py",
   "mimetype": "text/x-python",
   "name": "python",
   "nbconvert_exporter": "python",
   "pygments_lexer": "ipython3",
   "version": "3.8.8"
  }
 },
 "nbformat": 4,
 "nbformat_minor": 5
}
