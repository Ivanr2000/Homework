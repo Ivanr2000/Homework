{
 "cells": [
  {
   "cell_type": "code",
   "execution_count": 18,
   "id": "64b179d8",
   "metadata": {},
   "outputs": [],
   "source": [
    "from surprise import KNNWithMeans, KNNBasic\n",
    "from surprise import Dataset\n",
    "from surprise import accuracy\n",
    "from surprise import Reader\n",
    "from surprise.model_selection import train_test_split\n",
    "from surprise.model_selection import KFold\n",
    "\n",
    "import pandas as pd"
   ]
  },
  {
   "cell_type": "code",
   "execution_count": 2,
   "id": "1d53a7d2",
   "metadata": {},
   "outputs": [],
   "source": [
    "movies = pd.read_csv('movies.csv')\n",
    "ratings = pd.read_csv('ratings.csv')"
   ]
  },
  {
   "cell_type": "code",
   "execution_count": 3,
   "id": "e2f72feb",
   "metadata": {},
   "outputs": [
    {
     "data": {
      "text/html": [
       "<div>\n",
       "<style scoped>\n",
       "    .dataframe tbody tr th:only-of-type {\n",
       "        vertical-align: middle;\n",
       "    }\n",
       "\n",
       "    .dataframe tbody tr th {\n",
       "        vertical-align: top;\n",
       "    }\n",
       "\n",
       "    .dataframe thead th {\n",
       "        text-align: right;\n",
       "    }\n",
       "</style>\n",
       "<table border=\"1\" class=\"dataframe\">\n",
       "  <thead>\n",
       "    <tr style=\"text-align: right;\">\n",
       "      <th></th>\n",
       "      <th>userId</th>\n",
       "      <th>movieId</th>\n",
       "      <th>rating</th>\n",
       "      <th>timestamp</th>\n",
       "    </tr>\n",
       "  </thead>\n",
       "  <tbody>\n",
       "    <tr>\n",
       "      <th>0</th>\n",
       "      <td>1</td>\n",
       "      <td>307</td>\n",
       "      <td>3.5</td>\n",
       "      <td>1256677221</td>\n",
       "    </tr>\n",
       "    <tr>\n",
       "      <th>1</th>\n",
       "      <td>1</td>\n",
       "      <td>481</td>\n",
       "      <td>3.5</td>\n",
       "      <td>1256677456</td>\n",
       "    </tr>\n",
       "    <tr>\n",
       "      <th>2</th>\n",
       "      <td>1</td>\n",
       "      <td>1091</td>\n",
       "      <td>1.5</td>\n",
       "      <td>1256677471</td>\n",
       "    </tr>\n",
       "    <tr>\n",
       "      <th>3</th>\n",
       "      <td>1</td>\n",
       "      <td>1257</td>\n",
       "      <td>4.5</td>\n",
       "      <td>1256677460</td>\n",
       "    </tr>\n",
       "    <tr>\n",
       "      <th>4</th>\n",
       "      <td>1</td>\n",
       "      <td>1449</td>\n",
       "      <td>4.5</td>\n",
       "      <td>1256677264</td>\n",
       "    </tr>\n",
       "  </tbody>\n",
       "</table>\n",
       "</div>"
      ],
      "text/plain": [
       "   userId  movieId  rating   timestamp\n",
       "0       1      307     3.5  1256677221\n",
       "1       1      481     3.5  1256677456\n",
       "2       1     1091     1.5  1256677471\n",
       "3       1     1257     4.5  1256677460\n",
       "4       1     1449     4.5  1256677264"
      ]
     },
     "execution_count": 3,
     "metadata": {},
     "output_type": "execute_result"
    }
   ],
   "source": [
    "ratings.head()"
   ]
  },
  {
   "cell_type": "code",
   "execution_count": 4,
   "id": "2c0d0cf1",
   "metadata": {},
   "outputs": [
    {
     "data": {
      "text/plain": [
       "userId       27753444\n",
       "movieId      27753444\n",
       "rating       27753444\n",
       "timestamp    27753444\n",
       "dtype: int64"
      ]
     },
     "execution_count": 4,
     "metadata": {},
     "output_type": "execute_result"
    }
   ],
   "source": [
    "ratings.count()"
   ]
  },
  {
   "cell_type": "code",
   "execution_count": 5,
   "id": "c1426570",
   "metadata": {},
   "outputs": [],
   "source": [
    "ratings_1 = ratings[0:1000000]"
   ]
  },
  {
   "cell_type": "code",
   "execution_count": 6,
   "id": "1a68e2e2",
   "metadata": {},
   "outputs": [],
   "source": [
    "movies_with_ratings = movies.join(ratings_1.set_index('movieId'), on='movieId').reset_index(drop=True)\n",
    "movies_with_ratings.dropna(inplace=True)"
   ]
  },
  {
   "cell_type": "code",
   "execution_count": 7,
   "id": "16ab0153",
   "metadata": {},
   "outputs": [
    {
     "data": {
      "text/plain": [
       "array(['Seven (a.k.a. Se7en) (1995)', 'Usual Suspects, The (1995)',\n",
       "       'Léon: The Professional (a.k.a. The Professional) (Léon) (1994)',\n",
       "       'Pulp Fiction (1994)', 'Shawshank Redemption, The (1994)',\n",
       "       \"Schindler's List (1993)\", 'Cold Comfort Farm (1995)',\n",
       "       'Trainspotting (1996)', 'Godfather, The (1972)',\n",
       "       'When We Were Kings (1996)', 'Sex, Lies, and Videotape (1989)',\n",
       "       \"One Flew Over the Cuckoo's Nest (1975)\", 'Goodfellas (1990)',\n",
       "       'Full Metal Jacket (1987)', 'L.A. Confidential (1997)',\n",
       "       'Big Lebowski, The (1998)', 'BASEketball (1998)',\n",
       "       'American History X (1998)', \"She's All That (1999)\",\n",
       "       'Office Space (1999)', 'American Beauty (1999)',\n",
       "       'Fight Club (1999)', 'Any Given Sunday (1999)',\n",
       "       'Hurricane, The (1999)', 'Requiem for a Dream (2000)',\n",
       "       'Snatch (2000)', 'Memento (2000)',\n",
       "       \"Amelie (Fabuleux destin d'Amélie Poulain, Le) (2001)\",\n",
       "       'Super Troopers (2001)', 'Scratch (2001)', 'One Hour Photo (2002)',\n",
       "       '25th Hour (2002)', 'Pianist, The (2002)',\n",
       "       'City of God (Cidade de Deus) (2002)', 'Confidence (2003)',\n",
       "       'Eternal Sunshine of the Spotless Mind (2004)',\n",
       "       'Garden State (2004)',\n",
       "       'Motorcycle Diaries, The (Diarios de motocicleta) (2004)',\n",
       "       'Sideways (2004)', 'The Machinist (2004)', 'Layer Cake (2004)',\n",
       "       'Hotel Rwanda (2004)', 'Woodsman, The (2004)',\n",
       "       'Downfall (Untergang, Der) (2004)', 'Sin City (2005)',\n",
       "       'Batman Begins (2005)', 'Kiss Kiss Bang Bang (2005)',\n",
       "       'Jarhead (2005)', 'Thank You for Smoking (2006)', 'Tsotsi (2005)',\n",
       "       'Little Miss Sunshine (2006)', 'Stranger than Fiction (2006)',\n",
       "       \"Pan's Labyrinth (Laberinto del fauno, El) (2006)\",\n",
       "       'Departed, The (2006)', 'Little Children (2006)',\n",
       "       'Children of Men (2006)', 'Prestige, The (2006)',\n",
       "       'Casino Royale (2006)', 'Blood Diamond (2006)',\n",
       "       'Letters from Iwo Jima (2006)', 'Hot Fuzz (2007)',\n",
       "       'This Is England (2006)', 'Bourne Ultimatum, The (2007)',\n",
       "       'Superbad (2007)', '3:10 to Yuma (2007)',\n",
       "       'Eastern Promises (2007)', 'Into the Wild (2007)',\n",
       "       'Gone Baby Gone (2007)', 'American Gangster (2007)',\n",
       "       'No Country for Old Men (2007)', 'Juno (2007)',\n",
       "       'There Will Be Blood (2007)'], dtype=object)"
      ]
     },
     "execution_count": 7,
     "metadata": {},
     "output_type": "execute_result"
    }
   ],
   "source": [
    "movies_with_ratings[movies_with_ratings.userId == 5.0].title.unique()"
   ]
  },
  {
   "cell_type": "code",
   "execution_count": 8,
   "id": "6cbd6a6b",
   "metadata": {},
   "outputs": [],
   "source": [
    "dataset = pd.DataFrame({\n",
    "    'uid': movies_with_ratings.userId,\n",
    "    'title': movies_with_ratings.title,\n",
    "    'rating': movies_with_ratings.rating\n",
    "})"
   ]
  },
  {
   "cell_type": "code",
   "execution_count": 9,
   "id": "90b7a857",
   "metadata": {},
   "outputs": [
    {
     "data": {
      "text/html": [
       "<div>\n",
       "<style scoped>\n",
       "    .dataframe tbody tr th:only-of-type {\n",
       "        vertical-align: middle;\n",
       "    }\n",
       "\n",
       "    .dataframe tbody tr th {\n",
       "        vertical-align: top;\n",
       "    }\n",
       "\n",
       "    .dataframe thead th {\n",
       "        text-align: right;\n",
       "    }\n",
       "</style>\n",
       "<table border=\"1\" class=\"dataframe\">\n",
       "  <thead>\n",
       "    <tr style=\"text-align: right;\">\n",
       "      <th></th>\n",
       "      <th>uid</th>\n",
       "      <th>title</th>\n",
       "      <th>rating</th>\n",
       "    </tr>\n",
       "  </thead>\n",
       "  <tbody>\n",
       "    <tr>\n",
       "      <th>0</th>\n",
       "      <td>4.0</td>\n",
       "      <td>Toy Story (1995)</td>\n",
       "      <td>4.0</td>\n",
       "    </tr>\n",
       "    <tr>\n",
       "      <th>1</th>\n",
       "      <td>10.0</td>\n",
       "      <td>Toy Story (1995)</td>\n",
       "      <td>5.0</td>\n",
       "    </tr>\n",
       "    <tr>\n",
       "      <th>2</th>\n",
       "      <td>14.0</td>\n",
       "      <td>Toy Story (1995)</td>\n",
       "      <td>4.5</td>\n",
       "    </tr>\n",
       "    <tr>\n",
       "      <th>3</th>\n",
       "      <td>15.0</td>\n",
       "      <td>Toy Story (1995)</td>\n",
       "      <td>4.0</td>\n",
       "    </tr>\n",
       "    <tr>\n",
       "      <th>4</th>\n",
       "      <td>22.0</td>\n",
       "      <td>Toy Story (1995)</td>\n",
       "      <td>4.0</td>\n",
       "    </tr>\n",
       "  </tbody>\n",
       "</table>\n",
       "</div>"
      ],
      "text/plain": [
       "    uid             title  rating\n",
       "0   4.0  Toy Story (1995)     4.0\n",
       "1  10.0  Toy Story (1995)     5.0\n",
       "2  14.0  Toy Story (1995)     4.5\n",
       "3  15.0  Toy Story (1995)     4.0\n",
       "4  22.0  Toy Story (1995)     4.0"
      ]
     },
     "execution_count": 9,
     "metadata": {},
     "output_type": "execute_result"
    }
   ],
   "source": [
    "dataset.head()"
   ]
  },
  {
   "cell_type": "code",
   "execution_count": 10,
   "id": "56320721",
   "metadata": {},
   "outputs": [
    {
     "data": {
      "text/plain": [
       "0.5"
      ]
     },
     "execution_count": 10,
     "metadata": {},
     "output_type": "execute_result"
    }
   ],
   "source": [
    "ratings.rating.min()"
   ]
  },
  {
   "cell_type": "code",
   "execution_count": 11,
   "id": "a8df4d04",
   "metadata": {},
   "outputs": [
    {
     "data": {
      "text/plain": [
       "5.0"
      ]
     },
     "execution_count": 11,
     "metadata": {},
     "output_type": "execute_result"
    }
   ],
   "source": [
    "ratings.rating.max()"
   ]
  },
  {
   "cell_type": "code",
   "execution_count": 12,
   "id": "b9cd8f9f",
   "metadata": {},
   "outputs": [],
   "source": [
    "reader = Reader(rating_scale=(0.5, 5.0))\n",
    "data = Dataset.load_from_df(dataset, reader)"
   ]
  },
  {
   "cell_type": "code",
   "execution_count": 13,
   "id": "7400e9d5",
   "metadata": {},
   "outputs": [
    {
     "data": {
      "text/html": [
       "<div>\n",
       "<style scoped>\n",
       "    .dataframe tbody tr th:only-of-type {\n",
       "        vertical-align: middle;\n",
       "    }\n",
       "\n",
       "    .dataframe tbody tr th {\n",
       "        vertical-align: top;\n",
       "    }\n",
       "\n",
       "    .dataframe thead th {\n",
       "        text-align: right;\n",
       "    }\n",
       "</style>\n",
       "<table border=\"1\" class=\"dataframe\">\n",
       "  <thead>\n",
       "    <tr style=\"text-align: right;\">\n",
       "      <th></th>\n",
       "      <th>uid</th>\n",
       "      <th>title</th>\n",
       "      <th>rating</th>\n",
       "    </tr>\n",
       "  </thead>\n",
       "  <tbody>\n",
       "    <tr>\n",
       "      <th>0</th>\n",
       "      <td>4.0</td>\n",
       "      <td>Toy Story (1995)</td>\n",
       "      <td>4.0</td>\n",
       "    </tr>\n",
       "    <tr>\n",
       "      <th>1</th>\n",
       "      <td>10.0</td>\n",
       "      <td>Toy Story (1995)</td>\n",
       "      <td>5.0</td>\n",
       "    </tr>\n",
       "    <tr>\n",
       "      <th>2</th>\n",
       "      <td>14.0</td>\n",
       "      <td>Toy Story (1995)</td>\n",
       "      <td>4.5</td>\n",
       "    </tr>\n",
       "    <tr>\n",
       "      <th>3</th>\n",
       "      <td>15.0</td>\n",
       "      <td>Toy Story (1995)</td>\n",
       "      <td>4.0</td>\n",
       "    </tr>\n",
       "    <tr>\n",
       "      <th>4</th>\n",
       "      <td>22.0</td>\n",
       "      <td>Toy Story (1995)</td>\n",
       "      <td>4.0</td>\n",
       "    </tr>\n",
       "    <tr>\n",
       "      <th>...</th>\n",
       "      <td>...</td>\n",
       "      <td>...</td>\n",
       "      <td>...</td>\n",
       "    </tr>\n",
       "    <tr>\n",
       "      <th>1035938</th>\n",
       "      <td>2768.0</td>\n",
       "      <td>The Land of Steady Habits (2018)</td>\n",
       "      <td>3.5</td>\n",
       "    </tr>\n",
       "    <tr>\n",
       "      <th>1035940</th>\n",
       "      <td>2069.0</td>\n",
       "      <td>Climax (2018)</td>\n",
       "      <td>4.5</td>\n",
       "    </tr>\n",
       "    <tr>\n",
       "      <th>1036022</th>\n",
       "      <td>4871.0</td>\n",
       "      <td>Empowered (2018)</td>\n",
       "      <td>2.0</td>\n",
       "    </tr>\n",
       "    <tr>\n",
       "      <th>1036046</th>\n",
       "      <td>4226.0</td>\n",
       "      <td>Raazi (2018)</td>\n",
       "      <td>4.0</td>\n",
       "    </tr>\n",
       "    <tr>\n",
       "      <th>1036054</th>\n",
       "      <td>1686.0</td>\n",
       "      <td>Cold Harvest (1998)</td>\n",
       "      <td>3.0</td>\n",
       "    </tr>\n",
       "  </tbody>\n",
       "</table>\n",
       "<p>1000000 rows × 3 columns</p>\n",
       "</div>"
      ],
      "text/plain": [
       "            uid                             title  rating\n",
       "0           4.0                  Toy Story (1995)     4.0\n",
       "1          10.0                  Toy Story (1995)     5.0\n",
       "2          14.0                  Toy Story (1995)     4.5\n",
       "3          15.0                  Toy Story (1995)     4.0\n",
       "4          22.0                  Toy Story (1995)     4.0\n",
       "...         ...                               ...     ...\n",
       "1035938  2768.0  The Land of Steady Habits (2018)     3.5\n",
       "1035940  2069.0                     Climax (2018)     4.5\n",
       "1036022  4871.0                  Empowered (2018)     2.0\n",
       "1036046  4226.0                      Raazi (2018)     4.0\n",
       "1036054  1686.0               Cold Harvest (1998)     3.0\n",
       "\n",
       "[1000000 rows x 3 columns]"
      ]
     },
     "execution_count": 13,
     "metadata": {},
     "output_type": "execute_result"
    }
   ],
   "source": [
    "data.df"
   ]
  },
  {
   "cell_type": "code",
   "execution_count": 14,
   "id": "8fb1b3ac",
   "metadata": {},
   "outputs": [],
   "source": [
    "trainset, testset = train_test_split(data, test_size=.15)"
   ]
  },
  {
   "cell_type": "code",
   "execution_count": 15,
   "id": "586fb4ff",
   "metadata": {},
   "outputs": [
    {
     "name": "stdout",
     "output_type": "stream",
     "text": [
      "Estimating biases using als...\n",
      "Computing the pearson_baseline similarity matrix...\n",
      "Done computing similarity matrix.\n"
     ]
    },
    {
     "data": {
      "text/plain": [
       "<surprise.prediction_algorithms.knns.KNNWithMeans at 0x1d3077d0f70>"
      ]
     },
     "execution_count": 15,
     "metadata": {},
     "output_type": "execute_result"
    }
   ],
   "source": [
    "algo = KNNWithMeans(k=50, sim_options={'name': 'pearson_baseline', 'user_based': True})\n",
    "algo.fit(trainset)"
   ]
  },
  {
   "cell_type": "markdown",
   "id": "8173fb89",
   "metadata": {},
   "source": [
    "Если использовать не урезанный датасет - то падает с ошибкой на данном шаге\n",
    "\n",
    "\n",
    "MemoryError: Unable to allocate 297. GiB for an array with shape (282253, 282253) and data type int32"
   ]
  },
  {
   "cell_type": "code",
   "execution_count": 16,
   "id": "480bbe50",
   "metadata": {},
   "outputs": [],
   "source": [
    "test_pred = algo.test(testset)"
   ]
  },
  {
   "cell_type": "code",
   "execution_count": 17,
   "id": "31ae9ce6",
   "metadata": {},
   "outputs": [
    {
     "name": "stdout",
     "output_type": "stream",
     "text": [
      "RMSE: 0.8649\n"
     ]
    },
    {
     "data": {
      "text/plain": [
       "0.8649143204011098"
      ]
     },
     "execution_count": 17,
     "metadata": {},
     "output_type": "execute_result"
    }
   ],
   "source": [
    "accuracy.rmse(test_pred, verbose=True)"
   ]
  },
  {
   "cell_type": "code",
   "execution_count": 19,
   "id": "a3e3449e",
   "metadata": {},
   "outputs": [
    {
     "name": "stdout",
     "output_type": "stream",
     "text": [
      "Estimating biases using als...\n",
      "Computing the pearson_baseline similarity matrix...\n",
      "Done computing similarity matrix.\n",
      "RMSE: 0.8681\n",
      "Estimating biases using als...\n",
      "Computing the pearson_baseline similarity matrix...\n",
      "Done computing similarity matrix.\n",
      "RMSE: 0.8682\n",
      "Estimating biases using als...\n",
      "Computing the pearson_baseline similarity matrix...\n",
      "Done computing similarity matrix.\n",
      "RMSE: 0.8666\n",
      "Estimating biases using als...\n",
      "Computing the pearson_baseline similarity matrix...\n",
      "Done computing similarity matrix.\n",
      "RMSE: 0.8711\n",
      "Estimating biases using als...\n",
      "Computing the pearson_baseline similarity matrix...\n",
      "Done computing similarity matrix.\n",
      "RMSE: 0.8698\n"
     ]
    }
   ],
   "source": [
    "kf = KFold(n_splits=5)\n",
    "\n",
    "for trainset, testset in kf.split(data):\n",
    "    algo.fit(trainset)\n",
    "    predictions = algo.test(testset)\n",
    "    accuracy.rmse(predictions, verbose=True)"
   ]
  },
  {
   "cell_type": "code",
   "execution_count": 22,
   "id": "397729a8",
   "metadata": {},
   "outputs": [
    {
     "name": "stdout",
     "output_type": "stream",
     "text": [
      "RMSE: 0.8529\n",
      "RMSE: 0.8511\n",
      "RMSE: 0.8512\n",
      "RMSE: 0.8511\n",
      "RMSE: 0.8491\n"
     ]
    }
   ],
   "source": [
    "from surprise import SVD\n",
    "algo_SVD = SVD()\n",
    "\n",
    "kf = KFold(n_splits=5)\n",
    "\n",
    "for trainset, testset in kf.split(data):\n",
    "    algo_SVD.fit(trainset)\n",
    "    predictions = algo_SVD.test(testset)\n",
    "    accuracy.rmse(predictions, verbose=True)"
   ]
  },
  {
   "cell_type": "code",
   "execution_count": null,
   "id": "3abe46aa",
   "metadata": {},
   "outputs": [],
   "source": []
  }
 ],
 "metadata": {
  "kernelspec": {
   "display_name": "Python 3",
   "language": "python",
   "name": "python3"
  },
  "language_info": {
   "codemirror_mode": {
    "name": "ipython",
    "version": 3
   },
   "file_extension": ".py",
   "mimetype": "text/x-python",
   "name": "python",
   "nbconvert_exporter": "python",
   "pygments_lexer": "ipython3",
   "version": "3.8.8"
  }
 },
 "nbformat": 4,
 "nbformat_minor": 5
}
