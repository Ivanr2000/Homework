{
 "cells": [
  {
   "cell_type": "code",
   "execution_count": 2,
   "id": "2fb7acae",
   "metadata": {},
   "outputs": [],
   "source": [
    "from surprise import KNNWithMeans, KNNBasic, SVD, SVDpp\n",
    "from surprise import Dataset\n",
    "from surprise import accuracy\n",
    "from surprise import Reader\n",
    "from surprise.model_selection import train_test_split\n",
    "\n",
    "from tqdm import tqdm_notebook\n",
    "\n",
    "from sklearn.feature_extraction.text import TfidfTransformer, CountVectorizer\n",
    "from sklearn.neighbors import NearestNeighbors\n",
    "\n",
    "import pandas as pd\n",
    "import numpy as np"
   ]
  },
  {
   "cell_type": "code",
   "execution_count": 4,
   "id": "a2285ffb",
   "metadata": {},
   "outputs": [],
   "source": [
    "movies = pd.read_csv('movies.csv')\n",
    "ratings = pd.read_csv('ratings.csv')"
   ]
  },
  {
   "cell_type": "code",
   "execution_count": 5,
   "id": "166ea075",
   "metadata": {},
   "outputs": [],
   "source": [
    "movies_with_ratings = movies.join(ratings.set_index('movieId'), on='movieId').reset_index(drop=True)\n",
    "movies_with_ratings.dropna(inplace=True)"
   ]
  },
  {
   "cell_type": "code",
   "execution_count": 6,
   "id": "a83f603e",
   "metadata": {},
   "outputs": [],
   "source": [
    "dataset = pd.DataFrame({\n",
    "    'uid': movies_with_ratings.userId,\n",
    "    'title': movies_with_ratings.title,\n",
    "    'rating': movies_with_ratings.rating\n",
    "})"
   ]
  },
  {
   "cell_type": "code",
   "execution_count": 12,
   "id": "e0bd6e3a",
   "metadata": {},
   "outputs": [
    {
     "data": {
      "text/plain": [
       "array(['Toy Story (1995)', 'Get Shorty (1995)', 'Babe (1995)',\n",
       "       'Dead Man Walking (1995)', 'Clueless (1995)',\n",
       "       'Usual Suspects, The (1995)', 'Postman, The (Postino, Il) (1994)',\n",
       "       'Braveheart (1995)', 'Apollo 13 (1995)', 'Batman Forever (1995)',\n",
       "       'Eat Drink Man Woman (Yin shi nan nu) (1994)',\n",
       "       'Heavenly Creatures (1994)',\n",
       "       'Interview with the Vampire: The Vampire Chronicles (1994)',\n",
       "       'Little Women (1994)',\n",
       "       'Like Water for Chocolate (Como agua para chocolate) (1992)',\n",
       "       'Legends of the Fall (1994)', 'Once Were Warriors (1994)',\n",
       "       'Pulp Fiction (1994)', 'Quiz Show (1994)', 'Stargate (1994)',\n",
       "       'Shawshank Redemption, The (1994)',\n",
       "       'Ace Ventura: Pet Detective (1994)',\n",
       "       'Clear and Present Danger (1994)',\n",
       "       'Four Weddings and a Funeral (1994)', 'Lion King, The (1994)',\n",
       "       'Mask, The (1994)', 'True Lies (1994)',\n",
       "       'Addams Family Values (1993)', 'Fugitive, The (1993)',\n",
       "       'In the Line of Fire (1993)', 'In the Name of the Father (1993)',\n",
       "       'Remains of the Day, The (1993)', \"Schindler's List (1993)\",\n",
       "       'Secret Garden, The (1993)', 'Shadowlands (1993)',\n",
       "       'Aladdin (1992)', 'Terminator 2: Judgment Day (1991)',\n",
       "       'Dances with Wolves (1990)', 'Batman (1989)',\n",
       "       'Snow White and the Seven Dwarfs (1937)',\n",
       "       'Beauty and the Beast (1991)', 'Pinocchio (1940)',\n",
       "       'Pretty Woman (1990)', 'Fargo (1996)'], dtype=object)"
      ]
     },
     "execution_count": 12,
     "metadata": {},
     "output_type": "execute_result"
    }
   ],
   "source": [
    "movies_with_ratings[movies_with_ratings.userId == 5.0].title.unique()"
   ]
  },
  {
   "cell_type": "code",
   "execution_count": 7,
   "id": "cf3b6e23",
   "metadata": {},
   "outputs": [],
   "source": [
    "reader = Reader(rating_scale=(0.5, 5.0))\n",
    "data = Dataset.load_from_df(dataset, reader)"
   ]
  },
  {
   "cell_type": "code",
   "execution_count": 8,
   "id": "be5d41d1",
   "metadata": {},
   "outputs": [],
   "source": [
    "trainset, testset = train_test_split(data, test_size=.15)"
   ]
  },
  {
   "cell_type": "code",
   "execution_count": 9,
   "id": "43ca82ca",
   "metadata": {},
   "outputs": [
    {
     "name": "stdout",
     "output_type": "stream",
     "text": [
      "Estimating biases using als...\n",
      "Computing the pearson_baseline similarity matrix...\n",
      "Done computing similarity matrix.\n",
      "Wall time: 686 ms\n"
     ]
    },
    {
     "data": {
      "text/plain": [
       "<surprise.prediction_algorithms.knns.KNNWithMeans at 0x1f445c1fdf0>"
      ]
     },
     "execution_count": 9,
     "metadata": {},
     "output_type": "execute_result"
    }
   ],
   "source": [
    "%%time\n",
    "\n",
    "algo = KNNWithMeans(k=50, sim_options={'name': 'pearson_baseline', 'user_based': True})\n",
    "algo.fit(trainset)"
   ]
  },
  {
   "cell_type": "code",
   "execution_count": 10,
   "id": "e9e700fe",
   "metadata": {},
   "outputs": [],
   "source": [
    "test_pred = algo.test(testset)"
   ]
  },
  {
   "cell_type": "code",
   "execution_count": 11,
   "id": "38978c99",
   "metadata": {},
   "outputs": [
    {
     "name": "stdout",
     "output_type": "stream",
     "text": [
      "RMSE: 0.8988\n"
     ]
    },
    {
     "data": {
      "text/plain": [
       "0.8987606870561629"
      ]
     },
     "execution_count": 11,
     "metadata": {},
     "output_type": "execute_result"
    }
   ],
   "source": [
    "accuracy.rmse(test_pred, verbose=True)"
   ]
  },
  {
   "cell_type": "code",
   "execution_count": 16,
   "id": "ac3d4781",
   "metadata": {},
   "outputs": [
    {
     "data": {
      "text/plain": [
       "3.8871297965337375"
      ]
     },
     "execution_count": 16,
     "metadata": {},
     "output_type": "execute_result"
    }
   ],
   "source": [
    "algo.predict(uid=2.0, iid='Dead Man Walking (1995)').est"
   ]
  },
  {
   "cell_type": "code",
   "execution_count": 17,
   "id": "56e41140",
   "metadata": {},
   "outputs": [
    {
     "name": "stdout",
     "output_type": "stream",
     "text": [
      "Wall time: 1.48 s\n"
     ]
    },
    {
     "data": {
      "text/plain": [
       "<surprise.prediction_algorithms.matrix_factorization.SVD at 0x1f449dee940>"
      ]
     },
     "execution_count": 17,
     "metadata": {},
     "output_type": "execute_result"
    }
   ],
   "source": [
    "%%time\n",
    "\n",
    "algo = SVD(n_factors=20, n_epochs=20)\n",
    "algo.fit(trainset)"
   ]
  },
  {
   "cell_type": "code",
   "execution_count": 18,
   "id": "f8700836",
   "metadata": {},
   "outputs": [],
   "source": [
    "test_pred = algo.test(testset)"
   ]
  },
  {
   "cell_type": "code",
   "execution_count": 19,
   "id": "8c403deb",
   "metadata": {},
   "outputs": [
    {
     "name": "stdout",
     "output_type": "stream",
     "text": [
      "RMSE: 0.8728\n"
     ]
    },
    {
     "data": {
      "text/plain": [
       "0.8728200755136463"
      ]
     },
     "execution_count": 19,
     "metadata": {},
     "output_type": "execute_result"
    }
   ],
   "source": [
    "accuracy.rmse(test_pred, verbose=True)"
   ]
  },
  {
   "cell_type": "code",
   "execution_count": 20,
   "id": "1053c729",
   "metadata": {},
   "outputs": [
    {
     "data": {
      "text/plain": [
       "4.104707129065346"
      ]
     },
     "execution_count": 20,
     "metadata": {},
     "output_type": "execute_result"
    }
   ],
   "source": [
    "algo.predict(uid=2.0, iid='Dead Man Walking (1995)').est"
   ]
  },
  {
   "cell_type": "code",
   "execution_count": 24,
   "id": "2f7c31f6",
   "metadata": {},
   "outputs": [],
   "source": [
    "current_user_id=2.0\n",
    "user_movies=movies_with_ratings[movies_with_ratings==current_user_id].title.unique()\n",
    "\n",
    "scores = []\n",
    "titles = []\n",
    "\n",
    "for movie in movies_with_ratings.title.unique():\n",
    "    if movie in user_movies:\n",
    "        continue\n",
    "    scores.append(algo.predict(uid=current_user_id, iid=movie).est)\n",
    "    titles.append(movie)"
   ]
  },
  {
   "cell_type": "code",
   "execution_count": 26,
   "id": "6e302922",
   "metadata": {},
   "outputs": [
    {
     "data": {
      "text/plain": [
       "[4.473868683227807,\n",
       " 4.478294566173173,\n",
       " 4.4830395277994555,\n",
       " 4.500935587845981,\n",
       " 4.515014267977555,\n",
       " 4.528357855784767,\n",
       " 4.539791552853071,\n",
       " 4.565438614975804,\n",
       " 4.585010136114638,\n",
       " 4.604039524774537]"
      ]
     },
     "execution_count": 26,
     "metadata": {},
     "output_type": "execute_result"
    }
   ],
   "source": [
    "sorted(scores)[-10:]"
   ]
  },
  {
   "cell_type": "code",
   "execution_count": 27,
   "id": "71c7b519",
   "metadata": {},
   "outputs": [],
   "source": [
    "def change_string(s):\n",
    "    return ' '.join(s.replace(' ', '').replace('-','').split('|'))"
   ]
  },
  {
   "cell_type": "code",
   "execution_count": 28,
   "id": "faecf29c",
   "metadata": {},
   "outputs": [],
   "source": [
    "movie_genres=[change_string(g) for g in movies.genres.values]"
   ]
  },
  {
   "cell_type": "code",
   "execution_count": 29,
   "id": "62b89832",
   "metadata": {},
   "outputs": [
    {
     "data": {
      "text/plain": [
       "'Adventure Animation Children Comedy Fantasy'"
      ]
     },
     "execution_count": 29,
     "metadata": {},
     "output_type": "execute_result"
    }
   ],
   "source": [
    "movie_genres[0]"
   ]
  },
  {
   "cell_type": "code",
   "execution_count": 34,
   "id": "b102a52b",
   "metadata": {},
   "outputs": [],
   "source": [
    "count_vect = CountVectorizer()\n",
    "X_train_counts = count_vect.fit_transform(movie_genres)\n",
    "\n",
    "tfidf_transf = TfidfTransformer()\n",
    "X_train_tfidf = tfidf_transf.fit_transform(X_train_counts)\n",
    "\n",
    "neigh = NearestNeighbors(n_neighbors=20, n_jobs=-1, metric='euclidean')\n",
    "neigh.fit(X_train_tfidf)\n",
    "\n",
    "test = change_string(\"Adventure|Comedy|Fantasy|Crime\")\n",
    "predict = count_vect.transform([test])\n",
    "X_tfidf2 = tfidf_transf.transform(predict)\n",
    "\n",
    "res = neigh.kneighbors(X_tfidf2, return_distance=True)"
   ]
  },
  {
   "cell_type": "code",
   "execution_count": 35,
   "id": "03a6876b",
   "metadata": {},
   "outputs": [
    {
     "data": {
      "text/plain": [
       "(array([[0.42079615, 0.53300564, 0.54288608, 0.54288608, 0.54288608,\n",
       "         0.54288608, 0.54288608, 0.54288608, 0.54288608, 0.54288608,\n",
       "         0.54288608, 0.54288608, 0.54288608, 0.54288608, 0.54288608,\n",
       "         0.54288608, 0.54288608, 0.6188388 , 0.62682864, 0.62682864]]),\n",
       " array([[6774, 9096, 3576,  863, 2302, 2608, 7865, 3582, 8361, 3302, 5737,\n",
       "         6723, 5636, 3376, 7496, 5627, 9717, 2206, 6133, 5832]],\n",
       "       dtype=int64))"
      ]
     },
     "execution_count": 35,
     "metadata": {},
     "output_type": "execute_result"
    }
   ],
   "source": [
    "res"
   ]
  },
  {
   "cell_type": "code",
   "execution_count": null,
   "id": "c0804b3e",
   "metadata": {},
   "outputs": [],
   "source": []
  }
 ],
 "metadata": {
  "kernelspec": {
   "display_name": "Python 3",
   "language": "python",
   "name": "python3"
  },
  "language_info": {
   "codemirror_mode": {
    "name": "ipython",
    "version": 3
   },
   "file_extension": ".py",
   "mimetype": "text/x-python",
   "name": "python",
   "nbconvert_exporter": "python",
   "pygments_lexer": "ipython3",
   "version": "3.8.8"
  }
 },
 "nbformat": 4,
 "nbformat_minor": 5
}
