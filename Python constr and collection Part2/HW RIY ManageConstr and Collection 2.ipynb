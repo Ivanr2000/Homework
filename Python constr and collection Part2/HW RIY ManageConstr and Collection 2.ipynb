{
 "cells": [
  {
   "cell_type": "markdown",
   "metadata": {},
   "source": [
    "Задание 1"
   ]
  },
  {
   "cell_type": "code",
   "execution_count": 28,
   "metadata": {},
   "outputs": [
    {
     "name": "stdout",
     "output_type": "stream",
     "text": [
      "{65, 15, 213, 23, 98, 35, 45, 54, 119}\n"
     ]
    }
   ],
   "source": [
    "ids = {'user1': [213, 213, 213, 15, 213],\n",
    "'user2': [54, 54, 119, 119, 119],\n",
    "'user3': [213, 98, 98, 35],\n",
    "'user4': [213,45,23,65,65]}\n",
    "for i in ids:\n",
    "    geo_id = geo_id.union (ids[i])\n",
    "print (geo_id)"
   ]
  },
  {
   "cell_type": "markdown",
   "metadata": {},
   "source": [
    "Задание 2"
   ]
  },
  {
   "cell_type": "code",
   "execution_count": 44,
   "metadata": {},
   "outputs": [
    {
     "name": "stdout",
     "output_type": "stream",
     "text": [
      "Поисковых запросов содержащих 2 слов(а): 42.86 %\n",
      "Поисковых запросов содержащих 3 слов(а): 57.14 %\n"
     ]
    }
   ],
   "source": [
    "queries = [\n",
    "'смотреть сериалы онлайн',\n",
    "'новости спорта',\n",
    "'афиша кино',\n",
    "'курс доллара',\n",
    "'сериалы этим летом',\n",
    "'курс по питону',\n",
    "'сериалы про спорт'\n",
    "]\n",
    "quant_elem = []\n",
    "for i in queries:\n",
    "    queries_elem = i.split(' ')\n",
    "    quant_elem.append (len(queries_elem))\n",
    "for i in range (max(quant_elem)+1):\n",
    "    if quant_elem.count(i) > 0:\n",
    "        print (\"Поисковых запросов содержащих\", i, \"слов(а):\", round((quant_elem.count(i)/len(quant_elem)*100),2),\"%\")"
   ]
  },
  {
   "cell_type": "markdown",
   "metadata": {},
   "source": [
    "Задание 3"
   ]
  },
  {
   "cell_type": "code",
   "execution_count": 75,
   "metadata": {},
   "outputs": [
    {
     "name": "stdout",
     "output_type": "stream",
     "text": [
      "[('adwords', {'ROI': 2.94, 'cost': 34, 'revenue': 35}),\n",
      " ('facebook', {'ROI': -6.36, 'cost': 110, 'revenue': 103}),\n",
      " ('twitter', {'ROI': -54.17, 'cost': 24, 'revenue': 11}),\n",
      " ('vk', {'ROI': 5.1, 'cost': 98, 'revenue': 103}),\n",
      " ('yandex', {'ROI': 16.99, 'cost': 153, 'revenue': 179})]\n"
     ]
    }
   ],
   "source": [
    "from pprint import pprint \n",
    "results = {\n",
    "'vk': {'revenue': 103, 'cost': 98},\n",
    "'yandex': {'revenue': 179, 'cost': 153},\n",
    "'facebook': {'revenue': 103, 'cost': 110},\n",
    "'adwords': {'revenue': 35, 'cost': 34},\n",
    "'twitter': {'revenue': 11, 'cost': 24},\n",
    "}\n",
    "results_1 = {}\n",
    "for person, info in results.items():\n",
    "    info['ROI'] = round ((((info['revenue']/info['cost'])-1)*100), 2)\n",
    "    results_1[person] = {'ROI':round ((((info['revenue']/info['cost'])-1)*100), 2), 'cost':info['cost'], 'revenue':info['revenue']}\n",
    "pprint (sorted(results_1.items()))"
   ]
  },
  {
   "cell_type": "markdown",
   "metadata": {},
   "source": [
    "Задание 4"
   ]
  },
  {
   "cell_type": "code",
   "execution_count": 81,
   "metadata": {},
   "outputs": [
    {
     "data": {
      "text/plain": [
       "'vk'"
      ]
     },
     "execution_count": 81,
     "metadata": {},
     "output_type": "execute_result"
    }
   ],
   "source": [
    "stats = {'facebook': 55, 'yandex': 115, 'vk': 120, 'google': 99, 'email': 42, 'ok': 98}\n",
    "max(stats, key=stats.get)"
   ]
  },
  {
   "cell_type": "code",
   "execution_count": 121,
   "metadata": {},
   "outputs": [
    {
     "name": "stdout",
     "output_type": "stream",
     "text": [
      "Максимальный объем продаж на рекламном канале(-ах): vk\n"
     ]
    }
   ],
   "source": [
    "stats = {'facebook': 55, 'yandex': 115, 'vk': 120, 'google': 99, 'email': 42, 'ok': 98}\n",
    "max_val = max (stats.values())\n",
    "max_set = set()\n",
    "for i in stats:\n",
    "    if stats [i] == max_val:\n",
    "        max_set.add(i)\n",
    "print (\"Максимальный объем продаж на рекламном канале(-ах):\", *max_set)"
   ]
  },
  {
   "cell_type": "markdown",
   "metadata": {},
   "source": [
    "Задание 5"
   ]
  },
  {
   "cell_type": "code",
   "execution_count": 206,
   "metadata": {},
   "outputs": [
    {
     "name": "stdout",
     "output_type": "stream",
     "text": [
      "1 {'2018-01-01': 'yandex'}\n",
      "0\n",
      "1\n",
      "yandex\n",
      "2 cpc\n",
      "0\n"
     ]
    },
    {
     "data": {
      "text/plain": [
       "{'2018-01-01': 'yandex', 'yandex': 'cpc'}"
      ]
     },
     "execution_count": 206,
     "metadata": {},
     "output_type": "execute_result"
    }
   ],
   "source": [
    "my_list = ['2018-01-01', 'yandex', 'cpc', 100]\n",
    "my_dict = {}\n",
    "my_dict_1 = {}\n",
    "str_1 =\"\"\n",
    "for i in range (len(my_list)-1):\n",
    "    if i == 0:\n",
    "        my_dict_1[my_list[i]] = ['']\n",
    "    elif i ==1:\n",
    "        my_dict_1[my_list[i-1]] = my_list[i]\n",
    "        print (\"1\", my_dict_1)\n",
    "        print (i-1)\n",
    "        print(i)\n",
    "        print (my_dict_1 ['2018-01-01'])\n",
    "    elif i >1:\n",
    "        print (i, my_list[i])\n",
    "        print (my_list[i-2][i-1])\n",
    "        my_dict_1 [my_list[i-1]] = my_list[i]\n",
    "    \n",
    "my_dict = {str_1, my_list[3]}\n",
    "my_dict\n",
    "my_dict_1"
   ]
  },
  {
   "cell_type": "code",
   "execution_count": 266,
   "metadata": {},
   "outputs": [
    {
     "data": {
      "text/plain": [
       "{'2018-01-01': {'yandex': {'cpc': 100}}}"
      ]
     },
     "execution_count": 266,
     "metadata": {},
     "output_type": "execute_result"
    }
   ],
   "source": [
    "my_list = ['2018-01-01', 'yandex', 'cpc', 100]\n",
    "my_dict = {}\n",
    "my_dict_1 = {}\n",
    "str_1 =\"\"\n",
    "\n",
    "for i in reversed (range (len(my_list))):\n",
    "    if i == (len(my_list)-1):\n",
    "        my_dict [my_list[i-1]] = my_list[i]\n",
    "    elif i >0:\n",
    "        my_dict_1 [my_list[i-1]] = my_dict\n",
    "        break\n",
    "my_dict\n",
    "my_dict_1\n",
    "my_dict_2 = {}\n",
    "my_dict_2 [my_list[0]] = my_dict_1\n",
    "my_dict_2"
   ]
  },
  {
   "cell_type": "code",
   "execution_count": null,
   "metadata": {},
   "outputs": [],
   "source": [
    "my_list = ['a', 'b', 'c', 'd', 'e', 'f']"
   ]
  },
  {
   "cell_type": "markdown",
   "metadata": {},
   "source": [
    "Задание 6"
   ]
  },
  {
   "cell_type": "code",
   "execution_count": 264,
   "metadata": {},
   "outputs": [
    {
     "name": "stdout",
     "output_type": "stream",
     "text": [
      "Введите количество порций: 4\n",
      "Сыр 200 гр\n",
      "Томаты 80 гр\n",
      "Огурцы 80 гр\n",
      "Маслины 40 гр\n",
      "Оливковое масло 80 мл\n",
      "Салат 40 гр\n",
      "Перец 80 гр\n",
      "Сыр 80 гр\n",
      "Колбаса 120 гр\n",
      "Бекон 120 гр\n",
      "Оливки 40 гр\n",
      "Томаты 80 гр\n",
      "Тесто 400 гр\n",
      "Лимон 4 шт\n",
      "Вода 800 мл\n",
      "Сахар 40 гр\n",
      "Лайм 80 гр\n"
     ]
    }
   ],
   "source": [
    "cook_book = {\n",
    "'салат': [\n",
    "{'ingridient_name': 'сыр', 'quantity': 50, 'measure': 'гр'},\n",
    "{'ingridient_name': 'томаты', 'quantity': 20, 'measure': 'гр'},\n",
    "{'ingridient_name': 'огурцы', 'quantity': 20, 'measure': 'гр'},\n",
    "{'ingridient_name': 'маслины', 'quantity': 10, 'measure': 'гр'},\n",
    "{'ingridient_name': 'оливковое масло', 'quantity': 20, 'measure': 'мл'},\n",
    "{'ingridient_name': 'салат', 'quantity': 10, 'measure': 'гр'},\n",
    "{'ingridient_name': 'перец', 'quantity': 20, 'measure': 'гр'}\n",
    "],\n",
    "'пицца': [\n",
    "{'ingridient_name': 'сыр', 'quantity': 20, 'measure': 'гр'},\n",
    "{'ingridient_name': 'колбаса', 'quantity': 30, 'measure': 'гр'},\n",
    "{'ingridient_name': 'бекон', 'quantity': 30, 'measure': 'гр'},\n",
    "{'ingridient_name': 'оливки', 'quantity': 10, 'measure': 'гр'},\n",
    "{'ingridient_name': 'томаты', 'quantity': 20, 'measure': 'гр'},\n",
    "{'ingridient_name': 'тесто', 'quantity': 100, 'measure': 'гр'},\n",
    "],\n",
    "'лимонад': [\n",
    "{'ingridient_name': 'лимон', 'quantity': 1, 'measure': 'шт'},\n",
    "{'ingridient_name': 'вода', 'quantity': 200, 'measure': 'мл'},\n",
    "{'ingridient_name': 'сахар', 'quantity': 10, 'measure': 'гр'},\n",
    "{'ingridient_name': 'лайм', 'quantity': 20, 'measure': 'гр'},\n",
    "]\n",
    "}\n",
    "q_portion = int (input (\"Введите количество порций: \"))\n",
    "for i in cook_book:\n",
    "    for j in cook_book[i]:\n",
    "        print (j['ingridient_name'].capitalize(),j ['quantity']*q_portion,j['measure'])"
   ]
  },
  {
   "cell_type": "code",
   "execution_count": null,
   "metadata": {},
   "outputs": [],
   "source": []
  }
 ],
 "metadata": {
  "kernelspec": {
   "display_name": "Python 3",
   "language": "python",
   "name": "python3"
  },
  "language_info": {
   "codemirror_mode": {
    "name": "ipython",
    "version": 3
   },
   "file_extension": ".py",
   "mimetype": "text/x-python",
   "name": "python",
   "nbconvert_exporter": "python",
   "pygments_lexer": "ipython3",
   "version": "3.8.3"
  }
 },
 "nbformat": 4,
 "nbformat_minor": 4
}
